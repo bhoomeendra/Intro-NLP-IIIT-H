{
 "cells": [
  {
   "cell_type": "code",
   "execution_count": 92,
   "id": "75b9ba8e-f369-4a61-8fa2-bf08707ac9f2",
   "metadata": {},
   "outputs": [],
   "source": [
    "pp_path  =  '../data/Pride and Prejudice - Jane Austen.txt'\n",
    "u_path = '../data/Ulysses - James Joyce.txt'\n",
    "\n",
    "pp_text = open(pp_path).read()\n",
    "u_text = open(u_path).read()"
   ]
  },
  {
   "cell_type": "code",
   "execution_count": 93,
   "id": "1bc71bff-94ab-4021-8bab-7941f2458700",
   "metadata": {},
   "outputs": [
    {
     "data": {
      "text/plain": [
       "711331"
      ]
     },
     "execution_count": 93,
     "metadata": {},
     "output_type": "execute_result"
    }
   ],
   "source": [
    "len(pp_text)"
   ]
  },
  {
   "cell_type": "code",
   "execution_count": 94,
   "id": "8a03fd38-a65f-4aac-b7b7-80aee8f05feb",
   "metadata": {
    "tags": []
   },
   "outputs": [
    {
     "data": {
      "text/plain": [
       "'The Project Gutenberg eBook, Pride and Prejudice, by Jane Austen, Edited\\nby R. W. (Robert William) Chapman\\n\\n\\nThis eBook is for the use of anyone anywhere at no cost and with\\nalmost no restrictions whatsoever.  You may copy it, give it away or\\nre-use it under the terms of the Project Gutenberg License included\\nwith this eBook or online at www.gutenberg.org\\n\\n\\n\\n\\n\\nTitle: Pride and Prejudice\\n\\n\\nAuthor: Jane Austen\\n\\nEditor: R. W. (Robert William) Chapman\\n\\nRelease Date: May 9, 2013  [eBook #42671]\\n\\nLanguage: English\\n\\n\\n***START OF THE PROJECT GUTENBERG EBOOK PRIDE AND PREJUDICE***\\n\\n\\nE-text prepared by Greg Weeks, Jon Hurst, Mary Meehan, and the Online\\nDistributed Proofreading Team (http://www.pgdp.net) from page images\\ngenerously made available by Internet Archive (https://archive.org)\\n\\n\\n\\nNote: Project Gutenberg also has an HTML version of this\\n      file which includes the original illustrations.\\n      See 42671-h.htm or 42671-h.zip:\\n      (http://www.gutenberg.org/files/42671/42671-h/42671-h.htm)\\n      or\\n      (http://www.gutenberg.org/files/42671/42671-h.zip)\\n\\n\\n      Images of the original pages are available through\\n      Internet Archive. See\\n      http://archive.org/stream/novelstextbasedo02austuoft#page/n23/mode/2up\\n\\n\\nTranscriber\\'s note:\\n\\n      Text enclosed by underscores is in italics (_italics_).\\n\\n      A carat character is used to denote superscription. Multiple\\n      superscripted characters are enclosed by curly brackets\\n      (example: M^{rs}).\\n\\n\\n\\n\\n\\nPRIDE AND PREJUDICE:\\n\\nA Novel.\\n\\nIn Three Volumes.\\n\\nBy the Author of \"Sense and Sensibility.\"\\n\\nVOL. I.\\n\\n\\n\\n\\n\\n\\n\\nLondon:\\nPrinted for T. Egerton,\\nMilitary Library, Whitehall.\\n1813.\\n\\n\\n\\n\\n[Illustration: Morning Dress.\\n\\n_Invented by M^{rs} Bell 26 Charlotte Street Bedford Square._\\n\\n_Engraved for No. 72 of La Belle Assemblee 1^{st} July 1815_]\\n\\n\\n\\n\\nPRIDE & PREJUDICE.\\n\\n\\n\\n\\nCHAPTER I.\\n\\n\\nIt is a truth universally acknowledged, that a single man in possession\\nof a good fortune, must be in want of a wife.\\n\\nHowever little known the feelings or views of such a man may be on his\\nfirst entering a neighbourhood, this truth is so well fixed in the minds\\nof the surrounding families, that he is considered as the rightful\\nproperty of some one or other of their daughters.\\n\\n\"My dear Mr. Bennet,\" said his lady to him one day, \"have you heard that\\nNetherfield Park is let at last?\"\\n\\nMr. Bennet replied that he had not.\\n\\n\"But it is,\" returned she; \"for Mrs. Long has just been here, and she\\ntold me all about it.\"\\n\\nMr. Bennet made no answer.\\n\\n\"Do not you want to know who has taken it?\" cried his wife impatiently.\\n\\n\"_You_ want to tell me, and I have no objection to hearing it.\"\\n\\nThis was invitation enough.\\n\\n\"Why, my dear, you must know, Mrs. Long says that Netherfield is taken\\nby a young man of large fortune from the north of England; that he came\\ndown on Monday in a chaise and four to see the place, and was so much\\ndelighted with it that he agreed with Mr. Morris immediately; that he is\\nto take possession before Michaelmas, and s'"
      ]
     },
     "execution_count": 94,
     "metadata": {},
     "output_type": "execute_result"
    }
   ],
   "source": [
    "pp_text[:3000]"
   ]
  },
  {
   "cell_type": "markdown",
   "id": "3f586fe3-50d6-4fde-a114-daddd29d2de5",
   "metadata": {},
   "source": [
    "#### It is not a good idea to sperate just based on \\n sentence over at \\n\\n generally"
   ]
  },
  {
   "cell_type": "code",
   "execution_count": 95,
   "id": "d9209a0a-0a07-4613-a2a6-9dc95d8f7cfc",
   "metadata": {},
   "outputs": [],
   "source": [
    "def sentence_maker(text):\n",
    "    '''\n",
    "    This could be improved even further but will keep it like this for now\n",
    "    '''\n",
    "    return text.split('\\n\\n')\n",
    "\n",
    "sentences = sentence_maker(pp_text)"
   ]
  },
  {
   "cell_type": "code",
   "execution_count": 96,
   "id": "eb97c475-27c6-4c93-9f80-4025ebf0dabb",
   "metadata": {},
   "outputs": [
    {
     "data": {
      "text/plain": [
       "['The Project Gutenberg eBook, Pride and Prejudice, by Jane Austen, Edited\\nby R. W. (Robert William) Chapman',\n",
       " '\\nThis eBook is for the use of anyone anywhere at no cost and with\\nalmost no restrictions whatsoever.  You may copy it, give it away or\\nre-use it under the terms of the Project Gutenberg License included\\nwith this eBook or online at www.gutenberg.org',\n",
       " '',\n",
       " '',\n",
       " 'Title: Pride and Prejudice',\n",
       " '\\nAuthor: Jane Austen',\n",
       " 'Editor: R. W. (Robert William) Chapman',\n",
       " 'Release Date: May 9, 2013  [eBook #42671]',\n",
       " 'Language: English',\n",
       " '\\n***START OF THE PROJECT GUTENBERG EBOOK PRIDE AND PREJUDICE***',\n",
       " '\\nE-text prepared by Greg Weeks, Jon Hurst, Mary Meehan, and the Online\\nDistributed Proofreading Team (http://www.pgdp.net) from page images\\ngenerously made available by Internet Archive (https://archive.org)',\n",
       " '',\n",
       " 'Note: Project Gutenberg also has an HTML version of this\\n      file which includes the original illustrations.\\n      See 42671-h.htm or 42671-h.zip:\\n      (http://www.gutenberg.org/files/42671/42671-h/42671-h.htm)\\n      or\\n      (http://www.gutenberg.org/files/42671/42671-h.zip)',\n",
       " '\\n      Images of the original pages are available through\\n      Internet Archive. See\\n      http://archive.org/stream/novelstextbasedo02austuoft#page/n23/mode/2up',\n",
       " \"\\nTranscriber's note:\",\n",
       " '      Text enclosed by underscores is in italics (_italics_).',\n",
       " '      A carat character is used to denote superscription. Multiple\\n      superscripted characters are enclosed by curly brackets\\n      (example: M^{rs}).',\n",
       " '',\n",
       " '',\n",
       " 'PRIDE AND PREJUDICE:',\n",
       " 'A Novel.',\n",
       " 'In Three Volumes.',\n",
       " 'By the Author of \"Sense and Sensibility.\"',\n",
       " 'VOL. I.',\n",
       " '',\n",
       " '',\n",
       " '',\n",
       " 'London:\\nPrinted for T. Egerton,\\nMilitary Library, Whitehall.\\n1813.',\n",
       " '',\n",
       " '\\n[Illustration: Morning Dress.']"
      ]
     },
     "execution_count": 96,
     "metadata": {},
     "output_type": "execute_result"
    }
   ],
   "source": [
    "sentences[0:30]"
   ]
  },
  {
   "cell_type": "code",
   "execution_count": 147,
   "id": "6f6977a5-cc30-4959-9cf8-d09b891e1c99",
   "metadata": {},
   "outputs": [],
   "source": [
    "import re\n",
    "class Tokenizer():\n",
    "    \"\"\"\n",
    "    \"\"\"\n",
    "    \n",
    "    def __init__(self,regex_rules:dict):\n",
    "        # key would be the prority and the value would be tuple (patter,sub_text)\n",
    "        self.regex_rules = regex_rules \n",
    "        self.order =  list(self.regex_rules.keys())\n",
    "        self.order.sort()\n",
    "        print(self.order)\n",
    "    def clean(self, text):\n",
    "        # Clean the text\n",
    "        \n",
    "        # This should be for common steps independet of regex\n",
    "        \n",
    "        text  = text.lower()\n",
    "        # print(text,len(text))\n",
    "        text.strip('\\n')\n",
    "        # print(text,len(text))\n",
    "        if len(text) == 0 or len(text) == 1:\n",
    "            # print(\"Empty\")\n",
    "            return None\n",
    "        #\n",
    "        for rule in self.order:\n",
    "            patter,sub_text = self.regex_rules[rule]\n",
    "            text = re.sub(patter,sub_text,text)\n",
    "        return text.strip()"
   ]
  },
  {
   "cell_type": "markdown",
   "id": "284c95d2-d206-4fce-9899-05d782f20e10",
   "metadata": {},
   "source": [
    "#### You may find percentages, age values, expressions indicating time, time periods occurring in the data."
   ]
  },
  {
   "cell_type": "code",
   "execution_count": 181,
   "id": "1f221107-299b-429e-8c89-be413cb13f55",
   "metadata": {},
   "outputs": [],
   "source": [
    "# This will be appiled after to lower\n",
    "regex_rules = {\n",
    "    16:(r'(\\w+)-(\\w+)',r'\\1\\2'),\n",
    "    17:(r'([a-z]+)\\'s', r'\\1 is'),    # Replacing that's to that is\n",
    "    18:(r'([i])\\'m', r'\\1 am'),       # Replaceing i'm to i am\n",
    "    19:(r'([a-z]+)\\'ve', r'\\1 have'), # Replacing we've, i've to we have and i have\n",
    "    20:(r'([a-z]+)\\'d', r'\\1 had'),   # Replacing i'd, they'd. to i had and they had\n",
    "    21:(r'([a-z]+)\\'ll', r'\\1 will'), # Replacing i'll, they'll. to i will and they will\n",
    "    22:(r'([a-z]+)\\'re', r'\\1 are'),  # Replacing we're, they're to we are and they are.\n",
    "    23:(r'([a-z]+)in\\'', r'\\1ing'),   # Replacing tryin', doin' to tyring and doing\n",
    "    24:(r'\\n+',' '),\n",
    "    25:(r'\\t+', ' '),\n",
    "    26:(r'can\\'t', r'can not'),\n",
    "    28:(r'won\\'t', r'will not'),\n",
    "    29:(r'([a-z]+)n\\'t',r'\\1 not'),   # Replacing couldn't with could not\n",
    "    30:(r\"@\\w+\",' <HASHTAG> '),\n",
    "    31:(r'(https?:\\/\\/|www\\.)?\\S+[a-zA-Z0-9]{2,}\\.[a-zA-Z0-9]{2,}\\S+', r' <URL> '),\n",
    "    32:(r\"#\\w+\",' <MENTION> '),       # URL might have # in them\n",
    "    39:(r'[!\\\"#\\＄%&\\'\\(\\)\\*\\+,-\\./:;=\\?@\\[\\\\\\]\\^_`{\\|}~]',' '), # Remove all puncutations\n",
    "    40:(r'[^ -~]',' '),\n",
    "    41:(r\"\\s+\",' ')\n",
    "}"
   ]
  },
  {
   "cell_type": "code",
   "execution_count": 182,
   "id": "b94dda69-c6b5-48af-acdc-fa7ab2a9fb4b",
   "metadata": {},
   "outputs": [
    {
     "name": "stdout",
     "output_type": "stream",
     "text": [
      "[16, 17, 18, 19, 20, 21, 22, 23, 24, 25, 26, 28, 29, 30, 31, 32, 39, 40, 41]\n"
     ]
    }
   ],
   "source": [
    "tokenization = Tokenizer(regex_rules=regex_rules)"
   ]
  },
  {
   "cell_type": "code",
   "execution_count": 183,
   "id": "b0d7ad62-8f5a-45f2-baad-705fce96446d",
   "metadata": {},
   "outputs": [
    {
     "data": {
      "text/plain": [
       "'roject Gut'"
      ]
     },
     "execution_count": 183,
     "metadata": {},
     "output_type": "execute_result"
    }
   ],
   "source": [
    "pp_text[5:15]"
   ]
  },
  {
   "cell_type": "code",
   "execution_count": 184,
   "id": "fc8c8c6d-34eb-48c4-9b41-bbcd2a6654e2",
   "metadata": {},
   "outputs": [],
   "source": [
    "s = '\\n'\n",
    "tokenization.clean(s)"
   ]
  },
  {
   "cell_type": "code",
   "execution_count": 185,
   "id": "3a4767da-31bd-4dad-ada4-3b40ff5772c6",
   "metadata": {},
   "outputs": [
    {
     "name": "stderr",
     "output_type": "stream",
     "text": [
      "Cleaning Data: 100%|███████████████████████████████████████████████████████████████████████████████████████████████████████████████| 2308/2308 [00:00<00:00, 3181.27it/s]\n"
     ]
    }
   ],
   "source": [
    "from tqdm import tqdm\n",
    "clean = list()\n",
    "for text in tqdm(sentences,desc=\"Cleaning Data\"):\n",
    "    out = tokenization.clean(text)\n",
    "    if out is not None:\n",
    "        clean.append(out)        "
   ]
  },
  {
   "cell_type": "code",
   "execution_count": 186,
   "id": "cc9b210a-97e9-4b56-8c22-f82941e4ef2e",
   "metadata": {},
   "outputs": [
    {
     "data": {
      "text/plain": [
       "2219"
      ]
     },
     "execution_count": 186,
     "metadata": {},
     "output_type": "execute_result"
    }
   ],
   "source": [
    "len(clean)"
   ]
  },
  {
   "cell_type": "code",
   "execution_count": 187,
   "id": "d187c58e-4620-404a-84f0-2c386f749d1f",
   "metadata": {},
   "outputs": [
    {
     "name": "stdout",
     "output_type": "stream",
     "text": [
      "0 the project gutenberg ebook pride and prejudice by jane austen edited by r w robert william chapman\n",
      "1 this ebook is for the use of anyone anywhere at no cost and with almost no restrictions whatsoever you may copy it give it away or reuse it under the terms of the project gutenberg license included with this ebook or online at <URL>\n",
      "2 title pride and prejudice\n",
      "3 author jane austen\n",
      "4 editor r w robert william chapman\n",
      "5 release date may 9 2013 ebook <MENTION>\n",
      "6 language english\n",
      "7 start of the project gutenberg ebook pride and prejudice\n",
      "8 etext prepared by greg weeks jon hurst mary meehan and the online distributed proofreading team <URL> from page images generously made available by internet archive <URL>\n",
      "9 note project gutenberg also has an html version of this file which includes the original illustrations see <URL> or <URL> <URL> or <URL>\n",
      "10 images of the original pages are available through internet archive see <URL>\n",
      "11 transcriber is note\n",
      "12 text enclosed by underscores is in italics italics\n",
      "13 a carat character is used to denote superscription multiple superscripted characters are enclosed by curly brackets example m rs\n",
      "14 pride and prejudice\n",
      "15 a novel\n",
      "16 in three volumes\n",
      "17 by the author of sense and sensibility\n",
      "18 vol i\n",
      "19 london printed for t egerton military library whitehall 1813\n"
     ]
    }
   ],
   "source": [
    "for idx,a in enumerate(clean[:20]):\n",
    "    print(idx,a)"
   ]
  },
  {
   "cell_type": "code",
   "execution_count": 188,
   "id": "cb060c82-b1a0-43a6-b9f3-582516e22b07",
   "metadata": {},
   "outputs": [],
   "source": [
    "clean_coupus = [ a+'\\n' for a in clean]"
   ]
  },
  {
   "cell_type": "code",
   "execution_count": 189,
   "id": "41f65433-3cda-47fe-a876-624eb2b6d651",
   "metadata": {},
   "outputs": [],
   "source": [
    "clean_file = open('../data/clean_pp.txt','w')\n",
    "clean_file.writelines(clean_coupus)"
   ]
  },
  {
   "cell_type": "code",
   "execution_count": 190,
   "id": "57a98c0b-b59f-49d8-8265-3de36e958f77",
   "metadata": {},
   "outputs": [],
   "source": [
    "clean_file.close()"
   ]
  },
  {
   "cell_type": "code",
   "execution_count": 191,
   "id": "16fbe412-0049-4213-8c15-02e71a9e1e21",
   "metadata": {},
   "outputs": [
    {
     "data": {
      "text/plain": [
       "'The Project Gutenberg eBook of Ulysses, by James Joyce\\n\\nThis eBook is for the use of anyone anywhere in the United States and\\nmost other parts of the world at no cost and with almost no restrictions\\nwhatsoever. You may copy it, give it away or re-use it under the terms\\nof the Project Gutenberg License included with this eBook or online at\\nwww.gutenberg.org. If you are not located in the United States, you\\nwill have to check the laws of the country where you are located before\\nusing this eBook.\\n\\nTitle: Ulysses\\n\\nAuthor: James Joyce\\n\\nRelease Date: December 27, 2001 [eBook #4300]\\n[Most recently updated: December 27, 2019]\\n\\nLanguage: English\\n\\nCharacter set encoding: UTF-8\\n\\nProduced by: Col Choat and David Widger\\n\\n*** START OF THE PROJECT GUTENBERG EBOOK ULYSSES ***\\n\\n[Illustration]\\n\\n\\n\\n\\nUlysses\\n\\n\\nby James Joyce\\n\\n\\nContents\\n\\n — I —\\n\\n [ 1 ]\\n [ 2 ]\\n [ 3 ]\\n\\n — II —\\n\\n [ 4 ]\\n [ 5 ]\\n [ 6 ]\\n [ 7 ]\\n [ 8 ]\\n [ 9 ]\\n [ 10 ]\\n [ 11 ]\\n [ 12 ]\\n [ 13 ]\\n [ 14 ]\\n [ 15 ]\\n\\n — III —\\n\\n [ 16 ]\\n [ 17 ]\\n [ 18 ]\\n\\n\\n\\n\\n— I '"
      ]
     },
     "execution_count": 191,
     "metadata": {},
     "output_type": "execute_result"
    }
   ],
   "source": [
    "u_text[:1000]"
   ]
  },
  {
   "cell_type": "code",
   "execution_count": 192,
   "id": "3c5d5541-5d22-411a-8ac3-fbb9bdf1d742",
   "metadata": {},
   "outputs": [],
   "source": [
    "u_sentences = sentence_maker(u_text)"
   ]
  },
  {
   "cell_type": "code",
   "execution_count": 193,
   "id": "91b631e3-df06-47b3-a0ff-b1a89fa0b37b",
   "metadata": {},
   "outputs": [
    {
     "data": {
      "text/plain": [
       "['The Project Gutenberg eBook of Ulysses, by James Joyce',\n",
       " 'This eBook is for the use of anyone anywhere in the United States and\\nmost other parts of the world at no cost and with almost no restrictions\\nwhatsoever. You may copy it, give it away or re-use it under the terms\\nof the Project Gutenberg License included with this eBook or online at\\nwww.gutenberg.org. If you are not located in the United States, you\\nwill have to check the laws of the country where you are located before\\nusing this eBook.',\n",
       " 'Title: Ulysses',\n",
       " 'Author: James Joyce',\n",
       " 'Release Date: December 27, 2001 [eBook #4300]\\n[Most recently updated: December 27, 2019]',\n",
       " 'Language: English',\n",
       " 'Character set encoding: UTF-8',\n",
       " 'Produced by: Col Choat and David Widger',\n",
       " '*** START OF THE PROJECT GUTENBERG EBOOK ULYSSES ***',\n",
       " '[Illustration]']"
      ]
     },
     "execution_count": 193,
     "metadata": {},
     "output_type": "execute_result"
    }
   ],
   "source": [
    "u_sentences[:10]"
   ]
  },
  {
   "cell_type": "code",
   "execution_count": 194,
   "id": "cdf4a8dd-aed2-4a00-a0ed-29fc23ecf601",
   "metadata": {},
   "outputs": [
    {
     "name": "stderr",
     "output_type": "stream",
     "text": [
      "Cleaning Data: 100%|███████████████████████████████████████████████████████████████████████████████████████████████████████████████| 7260/7260 [00:01<00:00, 4919.85it/s]\n"
     ]
    }
   ],
   "source": [
    "from tqdm import tqdm\n",
    "clean = list()\n",
    "for text in tqdm(u_sentences,desc=\"Cleaning Data\"):\n",
    "    out = tokenization.clean(text)\n",
    "    if out is not None:\n",
    "        clean.append(out)  "
   ]
  },
  {
   "cell_type": "code",
   "execution_count": 195,
   "id": "093c8bb6-c968-4938-ae51-88b90c8f7f2d",
   "metadata": {},
   "outputs": [],
   "source": [
    "clean_coupus = [ a+'\\n' for a in clean]"
   ]
  },
  {
   "cell_type": "code",
   "execution_count": 196,
   "id": "306f5683-d963-4285-971e-4fee83054da6",
   "metadata": {},
   "outputs": [],
   "source": [
    "clean_file = open('../data/clean_u.txt','w')\n",
    "clean_file.writelines(clean_coupus)"
   ]
  },
  {
   "cell_type": "code",
   "execution_count": null,
   "id": "40b5bc37-30ca-4033-9589-9de6c1a04eb6",
   "metadata": {},
   "outputs": [],
   "source": []
  },
  {
   "cell_type": "code",
   "execution_count": null,
   "id": "de6b6366-1e63-4893-a732-c3d98f318343",
   "metadata": {},
   "outputs": [],
   "source": []
  }
 ],
 "metadata": {
  "kernelspec": {
   "display_name": "Python 3 (ipykernel)",
   "language": "python",
   "name": "python3"
  },
  "language_info": {
   "codemirror_mode": {
    "name": "ipython",
    "version": 3
   },
   "file_extension": ".py",
   "mimetype": "text/x-python",
   "name": "python",
   "nbconvert_exporter": "python",
   "pygments_lexer": "ipython3",
   "version": "3.9.16"
  }
 },
 "nbformat": 4,
 "nbformat_minor": 5
}
