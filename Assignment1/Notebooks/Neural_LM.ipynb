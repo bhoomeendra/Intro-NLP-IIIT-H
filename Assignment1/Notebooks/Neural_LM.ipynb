{
 "cells": [
  {
   "cell_type": "code",
   "execution_count": 60,
   "id": "df732f8e-3c38-49e0-9949-f542b3725c9e",
   "metadata": {},
   "outputs": [],
   "source": [
    "import torch\n",
    "import torch.utils.data.dataloader\n",
    "import torch.utils.data.dataset\n",
    "import torch.nn as nn"
   ]
  },
  {
   "cell_type": "code",
   "execution_count": 61,
   "id": "ee13c141-cb14-4319-8f34-b4e2bdc889d3",
   "metadata": {},
   "outputs": [],
   "source": [
    "class Config_class:\n",
    "    \n",
    "    def __init__(self,config):\n",
    "        self.config = config\n",
    "\n",
    "\n",
    "class LM(nn.Module):\n",
    "    \n",
    "    def __init__(self,config):\n",
    "        super().__init__()\n",
    "        self.config = config\n",
    "        # This will tak token ids an make enbedding out of it\n",
    "        self.embedding = nn.Embedding(num_embeddings=self.config['vocab_size'],embedding_dim=self.config['embedding'],padding_idx=989)\n",
    "        self.LSTM = nn.LSTM(num_layers=self.config['num_layers'],input_size=self.config['embedding'],hidden_size=self.config['hidden'])\n",
    "        self.convert_vocab = nn.Linear(in_features=self.config['hidden'],out_features=self.config['vocab_size'])\n",
    "        self.softmax = nn.Softmax(dim=1)\n",
    "    def forward(self,token_seq):\n",
    "        x = self.embedding(token_seq)\n",
    "        out,_ = self.LSTM(x) # (h_n,c_n)\n",
    "        convert_output = self.convert_vocab(out)\n",
    "        prob = self.softmax(convert_output)\n",
    "        return prob\n",
    "    "
   ]
  },
  {
   "cell_type": "markdown",
   "id": "f4c88f11-cf6e-4e73-89e6-1ed70acaadc0",
   "metadata": {},
   "source": [
    "### Loading dataset and train test split"
   ]
  },
  {
   "cell_type": "code",
   "execution_count": 62,
   "id": "4088f602-90ce-4b0f-a132-9c9214296544",
   "metadata": {},
   "outputs": [],
   "source": [
    "pp_text = open('../data/clean_pp.txt').readlines() "
   ]
  },
  {
   "cell_type": "code",
   "execution_count": 63,
   "id": "1fc5ef32-304b-40df-8256-0268d933d9d0",
   "metadata": {},
   "outputs": [],
   "source": [
    "import random\n",
    "from random import shuffle\n",
    "random.seed(42)\n",
    "shuffle(pp_text)\n",
    "l = len(pp_text)\n",
    "trl = int(0.7*l)\n",
    "vrl = int(0.15*l)\n",
    "train = pp_text[:trl]\n",
    "val = pp_text[trl:trl+vrl]\n",
    "test = pp_text[trl+vrl:]"
   ]
  },
  {
   "cell_type": "markdown",
   "id": "2b483ece-5f97-4f00-a098-f9420be32e54",
   "metadata": {},
   "source": [
    "### Making vocabulary Reserve for [PAD] , [UNK] , [STR] , [END]"
   ]
  },
  {
   "cell_type": "code",
   "execution_count": 64,
   "id": "caec7d0c-85ab-439a-a427-f38a6ade4f95",
   "metadata": {},
   "outputs": [],
   "source": [
    "vocab = set()\n",
    "for sent in train:\n",
    "    for word in sent.split():\n",
    "        vocab.add(word)"
   ]
  },
  {
   "cell_type": "code",
   "execution_count": 65,
   "id": "8dc4e1cd-fdf5-47e7-9e1c-2cfc92a4c258",
   "metadata": {},
   "outputs": [
    {
     "data": {
      "text/plain": [
       "5925"
      ]
     },
     "execution_count": 65,
     "metadata": {},
     "output_type": "execute_result"
    }
   ],
   "source": [
    "len(vocab)"
   ]
  },
  {
   "cell_type": "code",
   "execution_count": 66,
   "id": "4cd61744-b5b3-4742-b0d5-64434d5e2ed7",
   "metadata": {},
   "outputs": [],
   "source": [
    "res = 4\n",
    "word_idx = {k:v+res for (v,k) in enumerate(vocab)}\n",
    "word_idx['[PAD]'] = 0\n",
    "word_idx['[STR]'] = 1\n",
    "word_idx['[END]'] = 2\n",
    "word_idx['[UNK]'] = 3"
   ]
  },
  {
   "cell_type": "code",
   "execution_count": 67,
   "id": "ca5615b3-bc76-41dc-b733-de2f5a3bd7e8",
   "metadata": {},
   "outputs": [],
   "source": [
    "vocab = set(word_idx.keys())"
   ]
  },
  {
   "cell_type": "code",
   "execution_count": 68,
   "id": "955fb246-2da8-4564-9875-548eac180fbe",
   "metadata": {},
   "outputs": [
    {
     "data": {
      "text/plain": [
       "5929"
      ]
     },
     "execution_count": 68,
     "metadata": {},
     "output_type": "execute_result"
    }
   ],
   "source": [
    "len(vocab)"
   ]
  },
  {
   "cell_type": "code",
   "execution_count": 69,
   "id": "dec7c9b1-a561-4428-81cb-8988a2f6ef2e",
   "metadata": {},
   "outputs": [],
   "source": [
    "idx_word =  { v:k for k,v in word_idx.items() }"
   ]
  },
  {
   "cell_type": "code",
   "execution_count": 70,
   "id": "f4ba2d2b-c69a-4901-8771-ab96bf5bdbf5",
   "metadata": {},
   "outputs": [
    {
     "data": {
      "text/plain": [
       "'[UNK]'"
      ]
     },
     "execution_count": 70,
     "metadata": {},
     "output_type": "execute_result"
    }
   ],
   "source": [
    "idx_word[3]"
   ]
  },
  {
   "cell_type": "code",
   "execution_count": 71,
   "id": "6caca752-8776-47ea-b25a-c20e9698f3bc",
   "metadata": {},
   "outputs": [],
   "source": [
    "def tokenizer(text):\n",
    "    tokens = []\n",
    "    text = text.strip('\\n')\n",
    "    text = idx_word[1]+' '+text+' '+idx_word[2]\n",
    "    # print(text)\n",
    "    for word in text.split():\n",
    "        if word in word_idx.keys():\n",
    "            tokens.append(word_idx[word])\n",
    "        else:\n",
    "            tokens.append(word_idx['[UNK]']) # update []\n",
    "    return tokens"
   ]
  },
  {
   "cell_type": "code",
   "execution_count": 72,
   "id": "b65b12da-8efe-46b9-b088-af51471e2b83",
   "metadata": {},
   "outputs": [],
   "source": [
    "from torch.utils.data import Dataset\n",
    "class Dataset(Dataset):\n",
    "    def __init__(self,data,vocab_size):\n",
    "        self.data = data\n",
    "        self.vocab_size = vocab_size\n",
    "    def __len__(self):\n",
    "        return len(self.data)\n",
    "    \n",
    "    def __getitem__(self,idx):\n",
    "        # print(self.data[idx])\n",
    "        out = tokenizer(self.data[idx])\n",
    "        inputs = out[:-1]# Last token is [END] will not include in data\n",
    "        labels = out[1:]# First token is [STR] will never be predected\n",
    "        # print(out)\n",
    "        return torch.tensor(inputs),torch.nn.functional.one_hot(torch.tensor(labels),num_classes=self.vocab_size)"
   ]
  },
  {
   "cell_type": "code",
   "execution_count": 73,
   "id": "1c4ddb6d-d1fc-426d-8f78-aee52ce51072",
   "metadata": {},
   "outputs": [],
   "source": [
    "train_dataset = Dataset(train,len(vocab))\n",
    "val_dataset = Dataset(val,len(vocab))\n",
    "test_dataset = Dataset(test,len(vocab))"
   ]
  },
  {
   "cell_type": "code",
   "execution_count": 74,
   "id": "f9ab5485-1362-41ce-84e2-339228024465",
   "metadata": {},
   "outputs": [],
   "source": [
    "a,b = train_dataset[0]"
   ]
  },
  {
   "cell_type": "code",
   "execution_count": 75,
   "id": "3f7a619a-c6c7-40eb-a26d-4fd27bc24e81",
   "metadata": {},
   "outputs": [
    {
     "data": {
      "text/plain": [
       "torch.Size([61])"
      ]
     },
     "execution_count": 75,
     "metadata": {},
     "output_type": "execute_result"
    }
   ],
   "source": [
    "a.shape"
   ]
  },
  {
   "cell_type": "code",
   "execution_count": 76,
   "id": "8f0bdf86-45f7-47f8-874c-064ebef976fb",
   "metadata": {},
   "outputs": [
    {
     "data": {
      "text/plain": [
       "torch.Size([61, 5929])"
      ]
     },
     "execution_count": 76,
     "metadata": {},
     "output_type": "execute_result"
    }
   ],
   "source": [
    "b.shape"
   ]
  },
  {
   "cell_type": "code",
   "execution_count": 77,
   "id": "45dcacbd-f534-417e-beeb-7a9f1615dc5e",
   "metadata": {},
   "outputs": [
    {
     "data": {
      "text/plain": [
       "1553"
      ]
     },
     "execution_count": 77,
     "metadata": {},
     "output_type": "execute_result"
    }
   ],
   "source": [
    "len(train_dataset)"
   ]
  },
  {
   "cell_type": "code",
   "execution_count": 78,
   "id": "8f6332a5-7389-4027-802f-0f6fd0bdcb8e",
   "metadata": {},
   "outputs": [
    {
     "data": {
      "text/plain": [
       "332"
      ]
     },
     "execution_count": 78,
     "metadata": {},
     "output_type": "execute_result"
    }
   ],
   "source": [
    "len(val)"
   ]
  },
  {
   "cell_type": "code",
   "execution_count": 79,
   "id": "6dee97c1-b2f5-420e-bf67-effd2a038159",
   "metadata": {},
   "outputs": [
    {
     "data": {
      "text/plain": [
       "334"
      ]
     },
     "execution_count": 79,
     "metadata": {},
     "output_type": "execute_result"
    }
   ],
   "source": [
    "len(test_dataset)"
   ]
  },
  {
   "cell_type": "code",
   "execution_count": 80,
   "id": "ae33f73c-6d79-45ef-baea-34f807a1e2cb",
   "metadata": {},
   "outputs": [],
   "source": [
    "from torch.utils.data import DataLoader\n",
    "train_dl =  DataLoader(train_dataset,shuffle=True)\n",
    "val_dl = DataLoader(val_dataset)\n",
    "test_dl = DataLoader(test_dataset)"
   ]
  },
  {
   "cell_type": "code",
   "execution_count": 81,
   "id": "87a8c72e-667e-451b-96e9-9d69b78100f6",
   "metadata": {},
   "outputs": [],
   "source": [
    "LM_config = Config_class({\n",
    "    'vocab_size': len(vocab),\n",
    "    'embedding':128,\n",
    "    'hidden':256,\n",
    "    'lr':0.0001,\n",
    "    'num_layers':1\n",
    "})"
   ]
  },
  {
   "cell_type": "code",
   "execution_count": 82,
   "id": "3bebe07c-1801-4bfe-afa2-cf4e4a8fdb5c",
   "metadata": {},
   "outputs": [
    {
     "data": {
      "text/plain": [
       "{'vocab_size': 5929,\n",
       " 'embedding': 128,\n",
       " 'hidden': 256,\n",
       " 'lr': 0.0001,\n",
       " 'num_layers': 1}"
      ]
     },
     "execution_count": 82,
     "metadata": {},
     "output_type": "execute_result"
    }
   ],
   "source": [
    "LM_config.config"
   ]
  },
  {
   "cell_type": "code",
   "execution_count": 83,
   "id": "1f367b8f-57d0-4757-aa10-02f7fe0a2461",
   "metadata": {},
   "outputs": [],
   "source": [
    "device = \"cuda\" if torch.cuda.is_available() else \"mps\" if torch.backends.mps.is_available() else \"cpu\"\n",
    "LM_1 = LM(config=LM_config.config)\n",
    "LM_1.to(device)\n",
    "loss = nn.CrossEntropyLoss()\n",
    "optmizer = torch.optim.Adam(params = LM_1.parameters())"
   ]
  },
  {
   "cell_type": "code",
   "execution_count": 91,
   "id": "373b1010-526e-40f5-b779-26d38222e7e2",
   "metadata": {},
   "outputs": [],
   "source": [
    "def validate(dataloader, model, loss_fn,which='Validation'):\n",
    "    size = len(dataloader.dataset)\n",
    "    num_batches = len(dataloader)\n",
    "    model.eval()\n",
    "    test_loss, correct = 0, 0\n",
    "    preplex = 0\n",
    "    with torch.no_grad():\n",
    "        for X, y in dataloader:\n",
    "            X, y = X.to(device), y.to(device).to(torch.float32)\n",
    "            pred = model(X)\n",
    "            test_loss += loss_fn(pred, y).item()\n",
    "            preplex += preplixity(y,pred)\n",
    "            # correct += (pred.argmax(1) == y).type(torch.float).sum().item()\n",
    "    test_loss /= num_batches\n",
    "    preplex /= size\n",
    "\n",
    "    print(f\"{which} Preplexity: \\n : {(preplex):>0.5f}, Avg loss: {test_loss:>8f} \\n\")"
   ]
  },
  {
   "cell_type": "code",
   "execution_count": 95,
   "id": "f19008dd-0a6f-4c71-90a2-55f197e66bd4",
   "metadata": {},
   "outputs": [],
   "source": [
    "def preplixity(ground_truth,predicted):\n",
    "    # print(\"Ground truth , Predictions\",ground_truth.shape,predicted.shape)\n",
    "    index_gt = torch.argmax(ground_truth,dim=2)\n",
    "    # print(\"Ground truth Index: \",index_gt)\n",
    "    row = torch.arange(index_gt.shape[1]).to(device)\n",
    "    probablity = predicted[0,row,index_gt]\n",
    "    # print(probablity,probablity.shape)\n",
    "    power_p = torch.pow(probablity,-1/probablity.shape[1])\n",
    "    # print(power_p,power_p.shape)\n",
    "    preplex = torch.prod(power_p)\n",
    "    # print(preplex.shape)\n",
    "    # print(preplex)\n",
    "    return preplex\n",
    "\n",
    "    \n",
    "\n",
    "def train(dataloader, model, loss_fn, optimizer):\n",
    "    size = len(dataloader.dataset)\n",
    "    model.train()\n",
    "    preplex = 0\n",
    "    for batch, (X, y) in enumerate(dataloader):\n",
    "        X, y = X.to(device), y.to(device).to(torch.float32)\n",
    "        pred = model(X)\n",
    "        loss = loss_fn(pred, y)\n",
    "        preplex += preplixity(y,pred)\n",
    "        optimizer.zero_grad()\n",
    "        loss.backward()\n",
    "        optimizer.step()\n",
    "        # break\n",
    "        if batch % 100 == 0:\n",
    "            loss, current = loss.item(), (batch + 1) * len(X)\n",
    "            print(f\"loss: {loss:>7f}  [{current:>5d}/{size:>5d}]\")\n",
    "    preplex /= size\n",
    "    print(f\"Train Preplexity: \\n : {(preplex):>0.3f}\")"
   ]
  },
  {
   "cell_type": "code",
   "execution_count": 96,
   "id": "7c0db0d7-7c95-4ea0-9549-0ee1cae029fc",
   "metadata": {},
   "outputs": [
    {
     "name": "stdout",
     "output_type": "stream",
     "text": [
      "Epoch 1\n",
      "-------------------------------\n",
      "loss: 0.310914  [    1/ 1553]\n",
      "loss: 0.000279  [  101/ 1553]\n",
      "loss: 0.026408  [  201/ 1553]\n",
      "loss: 0.010933  [  301/ 1553]\n",
      "loss: 0.002659  [  401/ 1553]\n",
      "loss: 0.025449  [  501/ 1553]\n",
      "loss: 0.010780  [  601/ 1553]\n",
      "loss: 0.010211  [  701/ 1553]\n",
      "loss: 0.003753  [  801/ 1553]\n",
      "loss: 0.013730  [  901/ 1553]\n",
      "loss: 0.100449  [ 1001/ 1553]\n",
      "loss: 0.006877  [ 1101/ 1553]\n",
      "loss: 0.094690  [ 1201/ 1553]\n",
      "loss: 0.000279  [ 1301/ 1553]\n",
      "loss: 0.000279  [ 1401/ 1553]\n",
      "loss: 0.041520  [ 1501/ 1553]\n",
      "Train Preplexity: \n",
      " : 2753.985\n",
      "Validation Preplexity: \n",
      " : 3547.36279, Avg loss: 0.035459 \n",
      "\n",
      "Epoch 2\n",
      "-------------------------------\n",
      "loss: 0.000279  [    1/ 1553]\n",
      "loss: 0.132817  [  101/ 1553]\n",
      "loss: 0.029474  [  201/ 1553]\n",
      "loss: 0.053709  [  301/ 1553]\n",
      "loss: 0.024944  [  401/ 1553]\n",
      "loss: 0.013766  [  501/ 1553]\n",
      "loss: 0.024752  [  601/ 1553]\n",
      "loss: 0.059752  [  701/ 1553]\n",
      "loss: 0.044096  [  801/ 1553]\n",
      "loss: 0.106627  [  901/ 1553]\n",
      "loss: 0.033465  [ 1001/ 1553]\n",
      "loss: 0.034014  [ 1101/ 1553]\n",
      "loss: 0.036035  [ 1201/ 1553]\n",
      "loss: 0.055665  [ 1301/ 1553]\n",
      "loss: 0.101172  [ 1401/ 1553]\n",
      "loss: 0.005362  [ 1501/ 1553]\n",
      "Train Preplexity: \n",
      " : 6833.171\n",
      "Validation Preplexity: \n",
      " : 8826.25293, Avg loss: 0.035439 \n",
      "\n",
      "Epoch 3\n",
      "-------------------------------\n",
      "loss: 0.004563  [    1/ 1553]\n",
      "loss: 0.003470  [  101/ 1553]\n",
      "loss: 0.053467  [  201/ 1553]\n",
      "loss: 0.062650  [  301/ 1553]\n",
      "loss: 0.140812  [  401/ 1553]\n",
      "loss: 0.013604  [  501/ 1553]\n",
      "loss: 0.012459  [  601/ 1553]\n",
      "loss: 0.007376  [  701/ 1553]\n",
      "loss: 0.032705  [  801/ 1553]\n",
      "loss: 0.009003  [  901/ 1553]\n",
      "loss: 0.040739  [ 1001/ 1553]\n",
      "loss: 0.021142  [ 1101/ 1553]\n",
      "loss: 0.004646  [ 1201/ 1553]\n",
      "loss: 0.030516  [ 1301/ 1553]\n",
      "loss: 0.070886  [ 1401/ 1553]\n",
      "loss: 0.004837  [ 1501/ 1553]\n",
      "Train Preplexity: \n",
      " : 13967.873\n",
      "Validation Preplexity: \n",
      " : 18967.21094, Avg loss: 0.035422 \n",
      "\n",
      "Epoch 4\n",
      "-------------------------------\n",
      "loss: 0.077616  [    1/ 1553]\n",
      "loss: 0.057242  [  101/ 1553]\n",
      "loss: 0.042200  [  201/ 1553]\n",
      "loss: 0.129386  [  301/ 1553]\n",
      "loss: 0.052509  [  401/ 1553]\n",
      "loss: 0.077219  [  501/ 1553]\n",
      "loss: 0.000767  [  601/ 1553]\n",
      "loss: 0.007059  [  701/ 1553]\n",
      "loss: 0.003943  [  801/ 1553]\n",
      "loss: 0.038180  [  901/ 1553]\n",
      "loss: 0.002446  [ 1001/ 1553]\n",
      "loss: 0.000935  [ 1101/ 1553]\n",
      "loss: 0.070680  [ 1201/ 1553]\n",
      "loss: 0.015510  [ 1301/ 1553]\n",
      "loss: 0.002569  [ 1401/ 1553]\n",
      "loss: 0.027853  [ 1501/ 1553]\n",
      "Train Preplexity: \n",
      " : 30889.521\n",
      "Validation Preplexity: \n",
      " : 36323.26172, Avg loss: 0.035415 \n",
      "\n",
      "Epoch 5\n",
      "-------------------------------\n",
      "loss: 0.005567  [    1/ 1553]\n",
      "loss: 0.003475  [  101/ 1553]\n",
      "loss: 0.013257  [  201/ 1553]\n",
      "loss: 0.014644  [  301/ 1553]\n",
      "loss: 0.119217  [  401/ 1553]\n",
      "loss: 0.000279  [  501/ 1553]\n",
      "loss: 0.011738  [  601/ 1553]\n",
      "loss: 0.002139  [  701/ 1553]\n",
      "loss: 0.013479  [  801/ 1553]\n",
      "loss: 0.020233  [  901/ 1553]\n",
      "loss: 0.128690  [ 1001/ 1553]\n",
      "loss: 0.016581  [ 1101/ 1553]\n",
      "loss: 0.012845  [ 1201/ 1553]\n",
      "loss: 0.000280  [ 1301/ 1553]\n",
      "loss: 0.006285  [ 1401/ 1553]\n",
      "loss: 0.014357  [ 1501/ 1553]\n",
      "Train Preplexity: \n",
      " : 67767.812\n",
      "Validation Preplexity: \n",
      " : 67518.97656, Avg loss: 0.035406 \n",
      "\n",
      "Epoch 6\n",
      "-------------------------------\n",
      "loss: 0.004812  [    1/ 1553]\n",
      "loss: 0.112076  [  101/ 1553]\n",
      "loss: 0.015141  [  201/ 1553]\n",
      "loss: 0.015447  [  301/ 1553]\n",
      "loss: 0.020197  [  401/ 1553]\n",
      "loss: 0.000502  [  501/ 1553]\n",
      "loss: 0.000279  [  601/ 1553]\n",
      "loss: 0.002598  [  701/ 1553]\n",
      "loss: 0.008712  [  801/ 1553]\n",
      "loss: 0.007849  [  901/ 1553]\n",
      "loss: 0.007362  [ 1001/ 1553]\n",
      "loss: 0.022672  [ 1101/ 1553]\n",
      "loss: 0.162579  [ 1201/ 1553]\n",
      "loss: 0.021788  [ 1301/ 1553]\n",
      "loss: 0.063127  [ 1401/ 1553]\n",
      "loss: 0.002373  [ 1501/ 1553]\n",
      "Train Preplexity: \n",
      " : 150146.156\n",
      "Validation Preplexity: \n",
      " : 133090.26562, Avg loss: 0.035398 \n",
      "\n",
      "Epoch 7\n",
      "-------------------------------\n",
      "loss: 0.004804  [    1/ 1553]\n",
      "loss: 0.009801  [  101/ 1553]\n",
      "loss: 0.000279  [  201/ 1553]\n",
      "loss: 0.006486  [  301/ 1553]\n",
      "loss: 0.040313  [  401/ 1553]\n",
      "loss: 0.071504  [  501/ 1553]\n",
      "loss: 0.012196  [  601/ 1553]\n",
      "loss: 0.000279  [  701/ 1553]\n",
      "loss: 0.013733  [  801/ 1553]\n",
      "loss: 0.155678  [  901/ 1553]\n",
      "loss: 0.072644  [ 1001/ 1553]\n",
      "loss: 0.094777  [ 1101/ 1553]\n",
      "loss: 0.030216  [ 1201/ 1553]\n",
      "loss: 0.079865  [ 1301/ 1553]\n",
      "loss: 0.006178  [ 1401/ 1553]\n",
      "loss: 0.100085  [ 1501/ 1553]\n",
      "Train Preplexity: \n",
      " : 255842.297\n",
      "Validation Preplexity: \n",
      " : 249878.01562, Avg loss: 0.035393 \n",
      "\n",
      "Epoch 8\n",
      "-------------------------------\n",
      "loss: 0.138737  [    1/ 1553]\n",
      "loss: 0.036459  [  101/ 1553]\n",
      "loss: 0.006423  [  201/ 1553]\n",
      "loss: 0.048701  [  301/ 1553]\n",
      "loss: 0.001418  [  401/ 1553]\n",
      "loss: 0.010490  [  501/ 1553]\n",
      "loss: 0.054634  [  601/ 1553]\n",
      "loss: 0.116095  [  701/ 1553]\n",
      "loss: 0.000279  [  801/ 1553]\n",
      "loss: 0.005849  [  901/ 1553]\n",
      "loss: 0.071080  [ 1001/ 1553]\n",
      "loss: 0.053174  [ 1101/ 1553]\n",
      "loss: 0.117476  [ 1201/ 1553]\n",
      "loss: 0.006563  [ 1301/ 1553]\n",
      "loss: 0.004804  [ 1401/ 1553]\n",
      "loss: 0.024956  [ 1501/ 1553]\n",
      "Train Preplexity: \n",
      " : 479033.188\n",
      "Validation Preplexity: \n",
      " : 427752.84375, Avg loss: 0.035390 \n",
      "\n",
      "Epoch 9\n",
      "-------------------------------\n",
      "loss: 0.025028  [    1/ 1553]\n",
      "loss: 0.008992  [  101/ 1553]\n",
      "loss: 0.504947  [  201/ 1553]\n",
      "loss: 0.018856  [  301/ 1553]\n",
      "loss: 0.011386  [  401/ 1553]\n",
      "loss: 0.017733  [  501/ 1553]\n",
      "loss: 0.149036  [  601/ 1553]\n",
      "loss: 0.021436  [  701/ 1553]\n",
      "loss: 0.027776  [  801/ 1553]\n",
      "loss: 0.013339  [  901/ 1553]\n",
      "loss: 0.004714  [ 1001/ 1553]\n",
      "loss: 0.016705  [ 1101/ 1553]\n",
      "loss: 0.128528  [ 1201/ 1553]\n",
      "loss: 0.007191  [ 1301/ 1553]\n",
      "loss: 0.021345  [ 1401/ 1553]\n",
      "loss: 0.054533  [ 1501/ 1553]\n",
      "Train Preplexity: \n",
      " : 956484.750\n",
      "Validation Preplexity: \n",
      " : 665165.50000, Avg loss: 0.035396 \n",
      "\n",
      "Epoch 10\n",
      "-------------------------------\n",
      "loss: 0.053924  [    1/ 1553]\n",
      "loss: 0.033040  [  101/ 1553]\n",
      "loss: 0.015522  [  201/ 1553]\n",
      "loss: 0.022420  [  301/ 1553]\n",
      "loss: 0.016529  [  401/ 1553]\n",
      "loss: 0.052990  [  501/ 1553]\n",
      "loss: 0.221767  [  601/ 1553]\n",
      "loss: 0.001394  [  701/ 1553]\n",
      "loss: 0.002803  [  801/ 1553]\n",
      "loss: 0.001888  [  901/ 1553]\n",
      "loss: 0.080100  [ 1001/ 1553]\n",
      "loss: 0.023646  [ 1101/ 1553]\n",
      "loss: 0.020466  [ 1201/ 1553]\n",
      "loss: 0.108966  [ 1301/ 1553]\n",
      "loss: 0.018645  [ 1401/ 1553]\n",
      "loss: 0.009306  [ 1501/ 1553]\n",
      "Train Preplexity: \n",
      " : 1672324.875\n",
      "Validation Preplexity: \n",
      " : 1085861.25000, Avg loss: 0.035390 \n",
      "\n",
      "Done!\n"
     ]
    }
   ],
   "source": [
    "epochs = 10\n",
    "for t in range(epochs):\n",
    "    print(f\"Epoch {t+1}\\n-------------------------------\")\n",
    "    train(train_dl, LM_1, loss, optmizer)\n",
    "    validate(val_dl, LM_1, loss)\n",
    "print(\"Done!\")"
   ]
  },
  {
   "cell_type": "code",
   "execution_count": null,
   "id": "2e2e48dd-caf1-403f-82c6-a12eaad0c5b6",
   "metadata": {},
   "outputs": [],
   "source": []
  }
 ],
 "metadata": {
  "kernelspec": {
   "display_name": "Python 3 (ipykernel)",
   "language": "python",
   "name": "python3"
  },
  "language_info": {
   "codemirror_mode": {
    "name": "ipython",
    "version": 3
   },
   "file_extension": ".py",
   "mimetype": "text/x-python",
   "name": "python",
   "nbconvert_exporter": "python",
   "pygments_lexer": "ipython3",
   "version": "3.9.16"
  }
 },
 "nbformat": 4,
 "nbformat_minor": 5
}
