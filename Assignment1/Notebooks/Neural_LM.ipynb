{
 "cells": [
  {
   "cell_type": "code",
   "execution_count": 1,
   "id": "df732f8e-3c38-49e0-9949-f542b3725c9e",
   "metadata": {},
   "outputs": [],
   "source": [
    "import torch\n",
    "import torch.utils.data.dataloader\n",
    "import torch.utils.data.dataset\n",
    "import torch.nn as nn\n",
    "import wandb"
   ]
  },
  {
   "cell_type": "code",
   "execution_count": 2,
   "id": "bb2a60b7-7838-48bf-8f13-4176f583dccb",
   "metadata": {},
   "outputs": [],
   "source": [
    "# wandb.login()"
   ]
  },
  {
   "cell_type": "markdown",
   "id": "f4c88f11-cf6e-4e73-89e6-1ed70acaadc0",
   "metadata": {},
   "source": [
    "### Loading dataset and train test split"
   ]
  },
  {
   "cell_type": "code",
   "execution_count": 4,
   "id": "ccbaa199-aed6-45a5-823e-0404f022bd63",
   "metadata": {},
   "outputs": [],
   "source": [
    "pp_text = open('../data/clean_pp.txt').readlines() \n",
    "import random\n",
    "from random import shuffle\n",
    "random.seed(42)\n",
    "shuffle(pp_text)\n",
    "l = len(pp_text)\n",
    "trl = int(0.7*l)\n",
    "vrl = int(0.15*l)\n",
    "train_sents = pp_text[:trl]\n",
    "val_sents = pp_text[trl:trl+vrl]\n",
    "test_sents = pp_text[trl+vrl:]"
   ]
  },
  {
   "cell_type": "markdown",
   "id": "a1f77ef2-74df-47fa-9111-90a69664adeb",
   "metadata": {},
   "source": [
    "## Making Proper Tokenization"
   ]
  },
  {
   "cell_type": "markdown",
   "id": "2b483ece-5f97-4f00-a098-f9420be32e54",
   "metadata": {},
   "source": [
    "### Making vocabulary Reserve for [PAD] , [UNK] , [STR] , [END]"
   ]
  },
  {
   "cell_type": "markdown",
   "id": "1cdae950-a8ad-436c-bc85-b64ef203063a",
   "metadata": {},
   "source": [
    "#### Load Glove embedding"
   ]
  },
  {
   "cell_type": "code",
   "execution_count": 5,
   "id": "0bea1df3-a95a-4970-89bf-c533bc253ed9",
   "metadata": {},
   "outputs": [],
   "source": [
    "vocab_embeddings = dict()\n",
    "with open('../../Embedding/glove.6B.50d.txt','rt') as fi:\n",
    "    full_content = fi.read().strip().split('\\n')\n",
    "for i in range(len(full_content)):\n",
    "    i_word = full_content[i].split(' ')[0]\n",
    "    i_embeddings = [float(val) for val in full_content[i].split(' ')[1:]]\n",
    "    vocab_embeddings[i_word] = i_embeddings"
   ]
  },
  {
   "cell_type": "code",
   "execution_count": 6,
   "id": "9a381f72-8101-40e4-94cc-db7c76991fa2",
   "metadata": {},
   "outputs": [],
   "source": [
    "vocab_dim = 50"
   ]
  },
  {
   "cell_type": "markdown",
   "id": "c8410a6a-20bb-4f0f-b6b5-2cac14924baf",
   "metadata": {},
   "source": [
    "#### Train Vocab"
   ]
  },
  {
   "cell_type": "code",
   "execution_count": 7,
   "id": "4ed9085e-aa94-4a3c-ba81-5b0504966ab6",
   "metadata": {},
   "outputs": [],
   "source": [
    "train_vocab = set()\n",
    "for sent in train_sents:\n",
    "    for word in sent.split():\n",
    "        train_vocab.add(word)"
   ]
  },
  {
   "cell_type": "code",
   "execution_count": 8,
   "id": "c655fc0e-4e32-4ec8-9fc3-a71222db5866",
   "metadata": {},
   "outputs": [
    {
     "data": {
      "text/plain": [
       "5925"
      ]
     },
     "execution_count": 8,
     "metadata": {},
     "output_type": "execute_result"
    }
   ],
   "source": [
    "train_vocab = list(train_vocab)\n",
    "len(train_vocab)"
   ]
  },
  {
   "cell_type": "code",
   "execution_count": 9,
   "id": "d47a170a-acec-41f3-917f-835e2243bd97",
   "metadata": {},
   "outputs": [
    {
     "data": {
      "text/plain": [
       "['[PAD]', '[UNK]', '[STR]', '[END]', 'noise']"
      ]
     },
     "execution_count": 9,
     "metadata": {},
     "output_type": "execute_result"
    }
   ],
   "source": [
    "res = 4\n",
    "word_idx = {k:v+res for (v,k) in enumerate(train_vocab)}\n",
    "word_idx['[PAD]'] = 0\n",
    "word_idx['[UNK]'] = 1\n",
    "word_idx['[STR]'] = 2\n",
    "word_idx['[END]'] = 3\n",
    "\n",
    "train_vocab.insert(0,'[PAD]')\n",
    "train_vocab.insert(1,'[UNK]')\n",
    "train_vocab.insert(2,'[STR]')\n",
    "train_vocab.insert(3,'[END]')\n",
    "\n",
    "train_vocab[:5]"
   ]
  },
  {
   "cell_type": "code",
   "execution_count": 10,
   "id": "bcefa4af-f971-47a0-8e1f-4d20b62d134c",
   "metadata": {},
   "outputs": [
    {
     "data": {
      "text/plain": [
       "('[PAD]', '[UNK]', '[STR]')"
      ]
     },
     "execution_count": 10,
     "metadata": {},
     "output_type": "execute_result"
    }
   ],
   "source": [
    "idx_word =  { v:k for k,v in word_idx.items() }\n",
    "idx_word[0],idx_word[1],idx_word[2]"
   ]
  },
  {
   "cell_type": "code",
   "execution_count": 11,
   "id": "59d3f48a-e976-4e24-8d24-d2aab27cc5b3",
   "metadata": {},
   "outputs": [
    {
     "name": "stdout",
     "output_type": "stream",
     "text": [
      "(50,) (50,) (50,)\n"
     ]
    },
    {
     "name": "stderr",
     "output_type": "stream",
     "text": [
      "UNK Prep: 100%|██████████████████████████████████████████████████████████████████████████████████████████████████████████████████| 5687/5687 [00:00<00:00, 208769.92it/s]"
     ]
    },
    {
     "name": "stdout",
     "output_type": "stream",
     "text": [
      "5929 5687 0.9591836734693877\n"
     ]
    },
    {
     "name": "stderr",
     "output_type": "stream",
     "text": [
      "\n"
     ]
    }
   ],
   "source": [
    "from tqdm import tqdm\n",
    "import numpy as np\n",
    "\n",
    "## Embedding for SPECIAL Token \n",
    "unk_embedding = np.array([0 for i in range(vocab_dim)],dtype=np.float64) # Average of all tokens\n",
    "start_embedding = np.random.rand(vocab_dim)\n",
    "end_embedding = np.random.rand(vocab_dim)\n",
    "pad_embedding = np.zeros(vocab_dim)\n",
    "\n",
    "print(unk_embedding.shape,start_embedding.shape,pad_embedding.shape)\n",
    "\n",
    "\n",
    "vocab_set = set(train_vocab)\n",
    "glove_set = set(vocab_embeddings.keys())\n",
    "vocab_interset = 0\n",
    "interset = vocab_set.intersection(glove_set)\n",
    "\n",
    "for word in tqdm(interset,desc='UNK Prep'):\n",
    "    vocab_interset +=1\n",
    "    unk_embedding += np.array(vocab_embeddings[word])\n",
    "\n",
    "unk_embedding = unk_embedding/vocab_interset\n",
    "print(len(vocab_set),vocab_interset,vocab_interset/(len(vocab_set)))"
   ]
  },
  {
   "cell_type": "code",
   "execution_count": 12,
   "id": "0e77ead8-dfe6-46fb-8012-768a06ac9e08",
   "metadata": {},
   "outputs": [
    {
     "data": {
      "text/plain": [
       "5687"
      ]
     },
     "execution_count": 12,
     "metadata": {},
     "output_type": "execute_result"
    }
   ],
   "source": [
    "len(interset)"
   ]
  },
  {
   "cell_type": "code",
   "execution_count": 13,
   "id": "6864d34a-0067-4dd7-8a90-cc2e0eec6ff8",
   "metadata": {},
   "outputs": [],
   "source": [
    "final_vocab = []\n",
    "train_embedding = []\n",
    "UNK_list = []\n",
    "count = 0\n",
    "for word in train_vocab:\n",
    "    if word in glove_set:\n",
    "        final_vocab.append(word)\n",
    "        train_embedding.append(vocab_embeddings[word])\n",
    "    elif word == '[PAD]':\n",
    "        final_vocab.append(word)\n",
    "        train_embedding.append(pad_embedding)\n",
    "    elif word == '[UNK]':\n",
    "        final_vocab.append(word)\n",
    "        train_embedding.append(unk_embedding)\n",
    "    elif word == '[STR]':\n",
    "        final_vocab.append(word)\n",
    "        train_embedding.append(start_embedding)\n",
    "    elif word == '[END]':\n",
    "        final_vocab.append(word)\n",
    "        train_embedding.append(end_embedding)\n",
    "    else: # Ever thing else is [UNK]:\n",
    "        count+=1\n",
    "        UNK_list.append(word)\n",
    "        # train_embedding.append(unk_embedding)"
   ]
  },
  {
   "cell_type": "code",
   "execution_count": 14,
   "id": "b8503228-a45d-4f18-9cd3-47ab28a6024d",
   "metadata": {},
   "outputs": [],
   "source": [
    "word_idx = {k:v for (v,k) in enumerate(final_vocab)}\n",
    "idx_word =  { v:k for k,v in word_idx.items() }"
   ]
  },
  {
   "cell_type": "code",
   "execution_count": 15,
   "id": "9210dc29-e3ab-4e66-af57-ef73a1f3ef28",
   "metadata": {},
   "outputs": [
    {
     "data": {
      "text/plain": [
       "(['[PAD]',\n",
       "  '[UNK]',\n",
       "  '[STR]',\n",
       "  '[END]',\n",
       "  'noise',\n",
       "  'sincerity',\n",
       "  'duties',\n",
       "  'astonished',\n",
       "  'devoid',\n",
       "  'pronounce',\n",
       "  'awoke',\n",
       "  'devoted',\n",
       "  'leave',\n",
       "  'dispense',\n",
       "  'apologizing'],\n",
       " ['[PAD]',\n",
       "  '[UNK]',\n",
       "  '[STR]',\n",
       "  '[END]',\n",
       "  'noise',\n",
       "  'sincerity',\n",
       "  'duties',\n",
       "  'astonished',\n",
       "  'devoid',\n",
       "  'pronounce',\n",
       "  'awoke',\n",
       "  'devoted',\n",
       "  'leave',\n",
       "  'dispense',\n",
       "  'apologizing'])"
      ]
     },
     "execution_count": 15,
     "metadata": {},
     "output_type": "execute_result"
    }
   ],
   "source": [
    "final_vocab[:15],train_vocab[:15]"
   ]
  },
  {
   "cell_type": "code",
   "execution_count": 16,
   "id": "1702c931-6bf4-4f3c-8b95-b0e266abb35f",
   "metadata": {},
   "outputs": [
    {
     "data": {
      "text/plain": [
       "(5691, 5691)"
      ]
     },
     "execution_count": 16,
     "metadata": {},
     "output_type": "execute_result"
    }
   ],
   "source": [
    "len(train_embedding),len(final_vocab)"
   ]
  },
  {
   "cell_type": "code",
   "execution_count": 17,
   "id": "882aefcd-7d1e-44d8-bd7b-187d3b7be7a1",
   "metadata": {},
   "outputs": [],
   "source": [
    "final_vocab =set(final_vocab)\n",
    "def tokenizer(text):\n",
    "    tokens = []\n",
    "    text = text.strip('\\n')\n",
    "    text = idx_word[2]+' '+text+' '+idx_word[3]\n",
    "    # print(text)\n",
    "    for word in text.split():\n",
    "        if word in final_vocab:\n",
    "            tokens.append(word_idx[word])\n",
    "        else:\n",
    "            tokens.append(word_idx['[UNK]']) # update []\n",
    "    return tokens"
   ]
  },
  {
   "cell_type": "code",
   "execution_count": 18,
   "id": "ee13c141-cb14-4319-8f34-b4e2bdc889d3",
   "metadata": {},
   "outputs": [],
   "source": [
    "class LM(nn.Module):\n",
    "    \n",
    "    def __init__(self,config,embedding):\n",
    "        super().__init__()\n",
    "        self.config = config\n",
    "        # This will tak token ids an make enbedding out of it\n",
    "        # Embedding are from glove and should be frezzed from learning\n",
    "        self.embedding = nn.Embedding.from_pretrained(torch.from_numpy(embedding).float())\n",
    "        self.LSTM = nn.LSTM(num_layers=self.config['num_layers'],input_size=self.config['embedding'],hidden_size=self.config['hidden'])\n",
    "        self.convert_vocab = nn.Linear(in_features=self.config['hidden'],out_features=self.config['vocab_size'])\n",
    "        self.softmax = nn.Softmax(dim=1)\n",
    "    def forward(self,token_seq):\n",
    "        x = self.embedding(token_seq)\n",
    "        out,_ = self.LSTM(x) # (h_n,c_n)\n",
    "        convert_output = self.convert_vocab(out)\n",
    "        prob = self.softmax(convert_output)\n",
    "        return prob"
   ]
  },
  {
   "cell_type": "markdown",
   "id": "f36f0ad4-16e8-4abe-a92f-1716ca939cdd",
   "metadata": {},
   "source": [
    "words which are not in glove will become unk"
   ]
  },
  {
   "cell_type": "code",
   "execution_count": 19,
   "id": "b65b12da-8efe-46b9-b088-af51471e2b83",
   "metadata": {},
   "outputs": [],
   "source": [
    "from torch.utils.data import Dataset\n",
    "class Dataset(Dataset):\n",
    "    def __init__(self,data,vocab_size):\n",
    "        self.data = data\n",
    "        self.vocab_size = vocab_size\n",
    "    def __len__(self):\n",
    "        return len(self.data)\n",
    "    \n",
    "    def __getitem__(self,idx):\n",
    "        # print(self.data[idx])\n",
    "        out = tokenizer(self.data[idx])\n",
    "        inputs = out[:-1]# Last token is [END] will not include in data\n",
    "        labels = out[1:]# First token is [STR] will never be predected\n",
    "        # print(out)\n",
    "        return torch.tensor(inputs),torch.nn.functional.one_hot(torch.tensor(labels),num_classes=self.vocab_size)"
   ]
  },
  {
   "cell_type": "code",
   "execution_count": 20,
   "id": "4bf39007-8c85-4638-983b-25dafee1eaa7",
   "metadata": {},
   "outputs": [
    {
     "data": {
      "text/plain": [
       "5691"
      ]
     },
     "execution_count": 20,
     "metadata": {},
     "output_type": "execute_result"
    }
   ],
   "source": [
    "len(final_vocab)"
   ]
  },
  {
   "cell_type": "code",
   "execution_count": 21,
   "id": "1c4ddb6d-d1fc-426d-8f78-aee52ce51072",
   "metadata": {},
   "outputs": [],
   "source": [
    "train_dataset = Dataset(train_sents,len(final_vocab))\n",
    "val_dataset = Dataset(val_sents,len(final_vocab))\n",
    "test_dataset = Dataset(test_sents,len(final_vocab))"
   ]
  },
  {
   "cell_type": "code",
   "execution_count": 22,
   "id": "f9ab5485-1362-41ce-84e2-339228024465",
   "metadata": {},
   "outputs": [],
   "source": [
    "a,b = train_dataset[0]"
   ]
  },
  {
   "cell_type": "code",
   "execution_count": 23,
   "id": "3f7a619a-c6c7-40eb-a26d-4fd27bc24e81",
   "metadata": {},
   "outputs": [
    {
     "data": {
      "text/plain": [
       "torch.Size([61])"
      ]
     },
     "execution_count": 23,
     "metadata": {},
     "output_type": "execute_result"
    }
   ],
   "source": [
    "a.shape"
   ]
  },
  {
   "cell_type": "code",
   "execution_count": 24,
   "id": "8f0bdf86-45f7-47f8-874c-064ebef976fb",
   "metadata": {},
   "outputs": [
    {
     "data": {
      "text/plain": [
       "torch.Size([61, 5691])"
      ]
     },
     "execution_count": 24,
     "metadata": {},
     "output_type": "execute_result"
    }
   ],
   "source": [
    "b.shape"
   ]
  },
  {
   "cell_type": "code",
   "execution_count": 25,
   "id": "45dcacbd-f534-417e-beeb-7a9f1615dc5e",
   "metadata": {},
   "outputs": [
    {
     "data": {
      "text/plain": [
       "1553"
      ]
     },
     "execution_count": 25,
     "metadata": {},
     "output_type": "execute_result"
    }
   ],
   "source": [
    "len(train_dataset)"
   ]
  },
  {
   "cell_type": "code",
   "execution_count": 26,
   "id": "8f6332a5-7389-4027-802f-0f6fd0bdcb8e",
   "metadata": {},
   "outputs": [
    {
     "data": {
      "text/plain": [
       "332"
      ]
     },
     "execution_count": 26,
     "metadata": {},
     "output_type": "execute_result"
    }
   ],
   "source": [
    "len(val_dataset)"
   ]
  },
  {
   "cell_type": "code",
   "execution_count": 27,
   "id": "6dee97c1-b2f5-420e-bf67-effd2a038159",
   "metadata": {},
   "outputs": [
    {
     "data": {
      "text/plain": [
       "334"
      ]
     },
     "execution_count": 27,
     "metadata": {},
     "output_type": "execute_result"
    }
   ],
   "source": [
    "len(test_dataset)"
   ]
  },
  {
   "cell_type": "code",
   "execution_count": 28,
   "id": "ae33f73c-6d79-45ef-baea-34f807a1e2cb",
   "metadata": {},
   "outputs": [],
   "source": [
    "from torch.utils.data import DataLoader\n",
    "train_dl =  DataLoader(train_dataset,shuffle=True)\n",
    "val_dl = DataLoader(val_dataset)\n",
    "test_dl = DataLoader(test_dataset)"
   ]
  },
  {
   "cell_type": "code",
   "execution_count": 29,
   "id": "573d9e0d-75f7-46ff-aa1a-eb9213cad215",
   "metadata": {},
   "outputs": [],
   "source": [
    "x = torch.tensor([43,4455,546,5,55])"
   ]
  },
  {
   "cell_type": "code",
   "execution_count": 30,
   "id": "f71060f2-d4fc-450d-8399-bfb2b620caf2",
   "metadata": {},
   "outputs": [
    {
     "data": {
      "text/plain": [
       "[43, 4455, 546, 5, 55]"
      ]
     },
     "execution_count": 30,
     "metadata": {},
     "output_type": "execute_result"
    }
   ],
   "source": [
    "x.tolist()"
   ]
  },
  {
   "cell_type": "code",
   "execution_count": 31,
   "id": "633e466f-1496-4c73-ba65-44559ee60b32",
   "metadata": {},
   "outputs": [],
   "source": [
    "def token_sent(token):\n",
    "    # print(token.shape)\n",
    "    token = token.tolist()[0]\n",
    "    # print(token)\n",
    "    for i in token:\n",
    "        print(idx_word[i],end=' ')"
   ]
  },
  {
   "cell_type": "code",
   "execution_count": 32,
   "id": "373b1010-526e-40f5-b779-26d38222e7e2",
   "metadata": {},
   "outputs": [],
   "source": [
    "def validate(dataloader, model, loss_fn,which='Validation'):\n",
    "    size = len(dataloader.dataset)\n",
    "    num_batches = len(dataloader)\n",
    "    model.eval()\n",
    "    test_loss, correct = 0, 0\n",
    "    preplex = 0\n",
    "    with torch.no_grad():\n",
    "        for X, y in dataloader:\n",
    "            # token_sent(X)\n",
    "            X, y = X.to(device), y.to(device).to(torch.float32)\n",
    "            pred = model(X)\n",
    "            test_loss += loss_fn(pred, y).item()\n",
    "            preplex += preplixity(y,pred)\n",
    "            # correct += (pred.argmax(1) == y).type(torch.float).sum().item()\n",
    "    test_loss /= num_batches\n",
    "    preplex /= size\n",
    "\n",
    "    print(f\"{which} Preplexity: \\n : {(preplex):>0.5f}, Avg loss: {test_loss:>8f} \\n\")\n",
    "    return (preplex,test_loss)"
   ]
  },
  {
   "cell_type": "code",
   "execution_count": 33,
   "id": "f19008dd-0a6f-4c71-90a2-55f197e66bd4",
   "metadata": {},
   "outputs": [],
   "source": [
    "def preplixity(ground_truth,predicted):\n",
    "    # print(\"Ground truth , Predictions\",ground_truth.shape,predicted.shape)\n",
    "    index_gt = torch.argmax(ground_truth,dim=2)\n",
    "    # print(\"Ground truth Index: \",index_gt)\n",
    "    row = torch.arange(index_gt.shape[1]).to(device)\n",
    "    probablity = predicted[0,row,index_gt]\n",
    "    # print(probablity,probablity.shape)\n",
    "    power_p = torch.pow(probablity,-1/probablity.shape[1])\n",
    "    # print(power_p,power_p.shape)\n",
    "    preplex = torch.prod(power_p)\n",
    "    # print('\\t',preplex.item())\n",
    "    return preplex\n",
    "\n",
    "\n",
    "def train(dataloader, model, loss_fn, optimizer,sch):\n",
    "    size = len(dataloader.dataset)\n",
    "    model.train()\n",
    "    preplex = 0\n",
    "    avg_loss = 0\n",
    "    \n",
    "    for batch, (X, y) in enumerate(dataloader):\n",
    "        X, y = X.to(device), y.to(device).to(torch.float32)\n",
    "        pred = model(X)\n",
    "        loss = loss_fn(pred, y)\n",
    "        preplex += preplixity(y,pred)\n",
    "        optimizer.zero_grad()\n",
    "        # if batch%10 == 9:\n",
    "        loss.backward()\n",
    "        optimizer.step()\n",
    "        # break\n",
    "        avg_loss += loss.item()\n",
    "        if batch % 300 == 0:\n",
    "            loss, current = loss.item(), (batch + 1) * len(X)\n",
    "            print(f\"loss: {loss:>7f}  [{current:>5d}/{size:>5d}]\")\n",
    "    preplex /= size\n",
    "    avg_loss /= size\n",
    "    print(f\"\\n Train Preplexity: {(preplex):>0.3f} \\n loss: {avg_loss:>7f} \")\n",
    "    return (preplex,avg_loss)"
   ]
  },
  {
   "cell_type": "code",
   "execution_count": 33,
   "id": "d9ca8c67-5805-46eb-8c00-216430be6c73",
   "metadata": {},
   "outputs": [],
   "source": [
    "# Implement early stoping\n",
    "# Implement Learning rate schedular\n",
    "# Implement something else\n",
    "# Implement Batch size concept"
   ]
  },
  {
   "cell_type": "code",
   "execution_count": 34,
   "id": "87a8c72e-667e-451b-96e9-9d69b78100f6",
   "metadata": {},
   "outputs": [],
   "source": [
    "LM_config = {\n",
    "    'epoch':10,\n",
    "    'vocab_size': len(final_vocab),\n",
    "    'embedding':50,\n",
    "    'hidden':100,\n",
    "    'lr':0.00001,\n",
    "    'num_layers':1\n",
    "}"
   ]
  },
  {
   "cell_type": "code",
   "execution_count": 35,
   "id": "1f367b8f-57d0-4757-aa10-02f7fe0a2461",
   "metadata": {},
   "outputs": [],
   "source": [
    "device = \"cuda\" if torch.cuda.is_available() else \"mps\" if torch.backends.mps.is_available() else \"cpu\"\n",
    "LM_1 = LM(config=LM_config,embedding=np.array(train_embedding))\n",
    "LM_1.to(device)\n",
    "loss = nn.CrossEntropyLoss()\n",
    "opt = torch.optim.Adam(params = LM_1.parameters(),lr=LM_config['lr'])\n",
    "scheduler = torch.optim.lr_scheduler.OneCycleLR(optimizer=opt,max_lr=0.001,steps_per_epoch=LM_config['epoch'],epochs=LM_config['epoch'])"
   ]
  },
  {
   "cell_type": "code",
   "execution_count": 36,
   "id": "a1a77691-9f90-4a28-bb12-07b8e42e2782",
   "metadata": {},
   "outputs": [
    {
     "data": {
      "text/plain": [
       "True"
      ]
     },
     "execution_count": 36,
     "metadata": {},
     "output_type": "execute_result"
    }
   ],
   "source": [
    "float(\"inf\")>2"
   ]
  },
  {
   "cell_type": "code",
   "execution_count": 37,
   "id": "7c0db0d7-7c95-4ea0-9549-0ee1cae029fc",
   "metadata": {
    "tags": []
   },
   "outputs": [
    {
     "name": "stderr",
     "output_type": "stream",
     "text": [
      "\u001b[34m\u001b[1mwandb\u001b[0m: Currently logged in as: \u001b[33mbss\u001b[0m. Use \u001b[1m`wandb login --relogin`\u001b[0m to force relogin\n"
     ]
    },
    {
     "data": {
      "text/html": [
       "Tracking run with wandb version 0.13.10"
      ],
      "text/plain": [
       "<IPython.core.display.HTML object>"
      ]
     },
     "metadata": {},
     "output_type": "display_data"
    },
    {
     "data": {
      "text/html": [
       "Run data is saved locally in <code>/home2/sisodiya.bhoomendra/github/Intro-NLP-IIIT-H/Assignment1/Notebooks/wandb/run-20230218_234241-u2ii864f</code>"
      ],
      "text/plain": [
       "<IPython.core.display.HTML object>"
      ]
     },
     "metadata": {},
     "output_type": "display_data"
    },
    {
     "data": {
      "text/html": [
       "Syncing run <strong><a href='https://wandb.ai/bss/pytorch-demo/runs/u2ii864f' target=\"_blank\">effortless-firebrand-21</a></strong> to <a href='https://wandb.ai/bss/pytorch-demo' target=\"_blank\">Weights & Biases</a> (<a href='https://wandb.me/run' target=\"_blank\">docs</a>)<br/>"
      ],
      "text/plain": [
       "<IPython.core.display.HTML object>"
      ]
     },
     "metadata": {},
     "output_type": "display_data"
    },
    {
     "data": {
      "text/html": [
       " View project at <a href='https://wandb.ai/bss/pytorch-demo' target=\"_blank\">https://wandb.ai/bss/pytorch-demo</a>"
      ],
      "text/plain": [
       "<IPython.core.display.HTML object>"
      ]
     },
     "metadata": {},
     "output_type": "display_data"
    },
    {
     "data": {
      "text/html": [
       " View run at <a href='https://wandb.ai/bss/pytorch-demo/runs/u2ii864f' target=\"_blank\">https://wandb.ai/bss/pytorch-demo/runs/u2ii864f</a>"
      ],
      "text/plain": [
       "<IPython.core.display.HTML object>"
      ]
     },
     "metadata": {},
     "output_type": "display_data"
    },
    {
     "name": "stdout",
     "output_type": "stream",
     "text": [
      "Epoch 1\n",
      "-------------------------------\n",
      "3.9999999999999996e-05\n",
      "loss: 0.005859  [    1/ 1553]\n",
      "loss: 0.017158  [  301/ 1553]\n",
      "loss: 0.029256  [  601/ 1553]\n",
      "loss: 0.071162  [  901/ 1553]\n",
      "loss: 0.031794  [ 1201/ 1553]\n",
      "loss: 0.099930  [ 1501/ 1553]\n",
      "\n",
      " Train Preplexity: 59.787 \n",
      " loss: 0.048913 \n",
      "Validation Preplexity: \n",
      " : 49.29222, Avg loss: 0.037962 \n",
      "\n",
      "model saved\n",
      "Epoch 2\n",
      "-------------------------------\n",
      "4.281378056590743e-05\n",
      "loss: 0.000567  [    1/ 1553]\n",
      "loss: 0.120519  [  301/ 1553]\n",
      "loss: 0.014882  [  601/ 1553]\n",
      "loss: 0.009824  [  901/ 1553]\n",
      "loss: 0.108095  [ 1201/ 1553]\n",
      "loss: 0.519451  [ 1501/ 1553]\n",
      "\n",
      " Train Preplexity: 58.699 \n",
      " loss: 0.048908 \n",
      "Validation Preplexity: \n",
      " : 47.98090, Avg loss: 0.037955 \n",
      "\n",
      "model saved\n",
      "Epoch 3\n",
      "-------------------------------\n",
      "5.122213325915845e-05\n",
      "loss: 0.004633  [    1/ 1553]\n",
      "loss: 0.080913  [  301/ 1553]\n",
      "loss: 0.068259  [  601/ 1553]\n",
      "loss: 0.014130  [  901/ 1553]\n",
      "loss: 0.086847  [ 1201/ 1553]\n",
      "loss: 0.004606  [ 1501/ 1553]\n",
      "\n",
      " Train Preplexity: 56.202 \n",
      " loss: 0.048897 \n",
      "Validation Preplexity: \n",
      " : 45.14021, Avg loss: 0.037936 \n",
      "\n",
      "model saved\n",
      "Epoch 4\n",
      "-------------------------------\n",
      "6.512647783225487e-05\n",
      "loss: 0.003450  [    1/ 1553]\n",
      "loss: 0.006436  [  301/ 1553]\n",
      "loss: 0.010485  [  601/ 1553]\n",
      "loss: 0.124645  [  901/ 1553]\n",
      "loss: 0.049438  [ 1201/ 1553]\n",
      "loss: 0.005790  [ 1501/ 1553]\n",
      "\n",
      " Train Preplexity: 52.629 \n",
      " loss: 0.048861 \n",
      "Validation Preplexity: \n",
      " : 42.76954, Avg loss: 0.037882 \n",
      "\n",
      "model saved\n",
      "Epoch 5\n",
      "-------------------------------\n",
      "8.436379855794054e-05\n",
      "loss: 0.023355  [    1/ 1553]\n",
      "loss: 0.000436  [  301/ 1553]\n",
      "loss: 0.019292  [  601/ 1553]\n",
      "loss: 0.021733  [  901/ 1553]\n",
      "loss: 0.042153  [ 1201/ 1553]\n",
      "loss: 0.000533  [ 1501/ 1553]\n",
      "\n",
      " Train Preplexity: 52.300 \n",
      " loss: 0.048775 \n",
      "Validation Preplexity: \n",
      " : 45.79587, Avg loss: 0.037782 \n",
      "\n",
      "Epoch 6\n",
      "-------------------------------\n",
      "0.0001087085554395572\n",
      "loss: 0.127550  [    1/ 1553]\n",
      "loss: 0.047567  [  301/ 1553]\n",
      "loss: 0.011826  [  601/ 1553]\n",
      "loss: 0.036724  [  901/ 1553]\n",
      "loss: 0.096695  [ 1201/ 1553]\n",
      "loss: 0.045353  [ 1501/ 1553]\n",
      "\n",
      " Train Preplexity: 58.926 \n",
      " loss: 0.048669 \n",
      "Validation Preplexity: \n",
      " : 54.59461, Avg loss: 0.037694 \n",
      "\n",
      "Epoch 7\n",
      "-------------------------------\n",
      "0.00013787532846129102\n",
      "loss: 0.026582  [    1/ 1553]\n",
      "loss: 0.013748  [  301/ 1553]\n",
      "loss: 0.004164  [  601/ 1553]\n",
      "loss: 0.030522  [  901/ 1553]\n",
      "loss: 0.000635  [ 1201/ 1553]\n",
      "loss: 0.040226  [ 1501/ 1553]\n",
      "\n",
      " Train Preplexity: 70.862 \n",
      " loss: 0.048573 \n",
      "Validation Preplexity: \n",
      " : 68.88592, Avg loss: 0.037611 \n",
      "\n",
      "Epoch 8\n",
      "-------------------------------\n",
      "0.0001715221638768972\n",
      "loss: 0.057411  [    1/ 1553]\n",
      "loss: 0.002751  [  301/ 1553]\n",
      "loss: 0.026385  [  601/ 1553]\n",
      "loss: 0.040608  [  901/ 1553]\n",
      "loss: 0.000316  [ 1201/ 1553]\n",
      "loss: -0.000000  [ 1501/ 1553]\n",
      "\n",
      " Train Preplexity: 88.090 \n",
      " loss: 0.048473 \n",
      "Validation Preplexity: \n",
      " : 88.96278, Avg loss: 0.037527 \n",
      "\n",
      "Epoch 9\n",
      "-------------------------------\n",
      "0.00020925458330472275\n",
      "loss: 0.005817  [    1/ 1553]\n",
      "loss: 0.015894  [  301/ 1553]\n",
      "loss: 0.070796  [  601/ 1553]\n",
      "loss: 0.073107  [  901/ 1553]\n",
      "loss: 0.023733  [ 1201/ 1553]\n",
      "loss: 0.046127  [ 1501/ 1553]\n",
      "\n",
      " Train Preplexity: 113.041 \n",
      " loss: 0.048369 \n",
      "Validation Preplexity: \n",
      " : 120.01518, Avg loss: 0.037446 \n",
      "\n",
      "Epoch 10\n",
      "-------------------------------\n",
      "0.0002506302086260564\n",
      "loss: 0.061072  [    1/ 1553]\n",
      "loss: 0.003048  [  301/ 1553]\n",
      "loss: 0.016951  [  601/ 1553]\n",
      "loss: 0.086073  [  901/ 1553]\n",
      "loss: 0.006005  [ 1201/ 1553]\n",
      "loss: 0.100768  [ 1501/ 1553]\n",
      "\n",
      " Train Preplexity: 145.325 \n",
      " loss: 0.048267 \n",
      "Validation Preplexity: \n",
      " : 164.10207, Avg loss: 0.037374 \n",
      "\n",
      "Done!\n"
     ]
    },
    {
     "data": {
      "text/html": [
       "Waiting for W&B process to finish... <strong style=\"color:green\">(success).</strong>"
      ],
      "text/plain": [
       "<IPython.core.display.HTML object>"
      ]
     },
     "metadata": {},
     "output_type": "display_data"
    },
    {
     "data": {
      "application/vnd.jupyter.widget-view+json": {
       "model_id": "e90e195492084b40ab52dc0f377de495",
       "version_major": 2,
       "version_minor": 0
      },
      "text/plain": [
       "VBox(children=(Label(value='0.005 MB of 0.005 MB uploaded (0.000 MB deduped)\\r'), FloatProgress(value=1.0, max…"
      ]
     },
     "metadata": {},
     "output_type": "display_data"
    },
    {
     "data": {
      "text/html": [
       "<style>\n",
       "    table.wandb td:nth-child(1) { padding: 0 10px; text-align: left ; width: auto;} td:nth-child(2) {text-align: left ; width: 100%}\n",
       "    .wandb-row { display: flex; flex-direction: row; flex-wrap: wrap; justify-content: flex-start; width: 100% }\n",
       "    .wandb-col { display: flex; flex-direction: column; flex-basis: 100%; flex: 1; padding: 10px; }\n",
       "    </style>\n",
       "<div class=\"wandb-row\"><div class=\"wandb-col\"><h3>Run history:</h3><br/><table class=\"wandb\"><tr><td>lr</td><td>▁▁▁▂▂▃▄▅▇█</td></tr><tr><td>train_loss</td><td>███▇▇▅▄▃▂▁</td></tr><tr><td>train_preplex</td><td>▂▁▁▁▁▁▂▄▆█</td></tr><tr><td>validate_loss</td><td>███▇▆▅▄▃▂▁</td></tr><tr><td>validate_preplex</td><td>▁▁▁▁▁▂▃▄▅█</td></tr></table><br/></div><div class=\"wandb-col\"><h3>Run summary:</h3><br/><table class=\"wandb\"><tr><td>lr</td><td>0.00025</td></tr><tr><td>train_loss</td><td>0.04827</td></tr><tr><td>train_preplex</td><td>145.32487</td></tr><tr><td>validate_loss</td><td>0.03737</td></tr><tr><td>validate_preplex</td><td>164.10207</td></tr></table><br/></div></div>"
      ],
      "text/plain": [
       "<IPython.core.display.HTML object>"
      ]
     },
     "metadata": {},
     "output_type": "display_data"
    },
    {
     "data": {
      "text/html": [
       " View run <strong style=\"color:#cdcd00\">effortless-firebrand-21</strong> at: <a href='https://wandb.ai/bss/pytorch-demo/runs/u2ii864f' target=\"_blank\">https://wandb.ai/bss/pytorch-demo/runs/u2ii864f</a><br/>Synced 5 W&B file(s), 0 media file(s), 0 artifact file(s) and 0 other file(s)"
      ],
      "text/plain": [
       "<IPython.core.display.HTML object>"
      ]
     },
     "metadata": {},
     "output_type": "display_data"
    },
    {
     "data": {
      "text/html": [
       "Find logs at: <code>./wandb/run-20230218_234241-u2ii864f/logs</code>"
      ],
      "text/plain": [
       "<IPython.core.display.HTML object>"
      ]
     },
     "metadata": {},
     "output_type": "display_data"
    }
   ],
   "source": [
    "best_p = float('inf')\n",
    "epochs = LM_config['epoch']\n",
    "with wandb.init(project=\"pytorch-demo\", config=LM_config):\n",
    "    for t in range(epochs):\n",
    "        print(f\"Epoch {t+1}\\n-------------------------------\")\n",
    "        print(scheduler.get_last_lr()[0])\n",
    "        tp,tl = train(train_dl, LM_1, loss,opt,scheduler)\n",
    "        vp,vl = validate(val_dl, LM_1, loss)\n",
    "        # scheduler.step(vp)\n",
    "        wandb.log({'validate_preplex':vp,\n",
    "                   'validate_loss':vl,\n",
    "                   'train_preplex':tp, \n",
    "                   'train_loss':tl,\n",
    "                   \"lr\": scheduler.get_last_lr()[0]\n",
    "                  })\n",
    "        scheduler.step()\n",
    "        if vp < best_p:\n",
    "            best_p = vp\n",
    "            torch.save(LM_1.state_dict(),'../data/LM_5.pth')\n",
    "            print(\"model saved\")\n",
    "    print(\"Done!\")"
   ]
  },
  {
   "cell_type": "code",
   "execution_count": 38,
   "id": "2e2e48dd-caf1-403f-82c6-a12eaad0c5b6",
   "metadata": {},
   "outputs": [
    {
     "data": {
      "text/plain": [
       "0.00029516394846410075"
      ]
     },
     "execution_count": 38,
     "metadata": {},
     "output_type": "execute_result"
    }
   ],
   "source": [
    "scheduler.get_last_lr()[0]"
   ]
  },
  {
   "cell_type": "code",
   "execution_count": 40,
   "id": "0e113c15-330a-41a8-a2ee-039d1f3f57ef",
   "metadata": {
    "tags": []
   },
   "outputs": [
    {
     "data": {
      "text/plain": [
       "<All keys matched successfully>"
      ]
     },
     "execution_count": 40,
     "metadata": {},
     "output_type": "execute_result"
    }
   ],
   "source": [
    "LM_1.load_state_dict(torch.load('../data/LM_5.pth'))"
   ]
  },
  {
   "cell_type": "code",
   "execution_count": 41,
   "id": "ab66cb6f-265e-4088-ada7-97e3723dbb02",
   "metadata": {},
   "outputs": [
    {
     "data": {
      "text/plain": [
       "LM(\n",
       "  (embedding): Embedding(5691, 50)\n",
       "  (LSTM): LSTM(50, 100)\n",
       "  (convert_vocab): Linear(in_features=100, out_features=5691, bias=True)\n",
       "  (softmax): Softmax(dim=1)\n",
       ")"
      ]
     },
     "execution_count": 41,
     "metadata": {},
     "output_type": "execute_result"
    }
   ],
   "source": [
    "LM_1.eval()"
   ]
  },
  {
   "cell_type": "code",
   "execution_count": 42,
   "id": "843b15da-8273-4496-afec-1a6ea1becb98",
   "metadata": {},
   "outputs": [],
   "source": [
    "def my_token_sent(token):\n",
    "    # print(token.shape)\n",
    "    token = token.tolist()[0]\n",
    "    # print(token)\n",
    "    out = ''\n",
    "    for i in token:\n",
    "        out += idx_word[i]+' '\n",
    "    return out.strip()\n",
    "def generate_p(dataloader, model, loss_fn,which='Validation_LM_2'):\n",
    "    file = open(f'../data/{which}.txt','w')\n",
    "    size = len(dataloader.dataset)\n",
    "    num_batches = len(dataloader)\n",
    "    model.eval()\n",
    "    test_loss, correct = 0, 0\n",
    "    preplex = 0\n",
    "    with torch.no_grad():\n",
    "        for X, y in dataloader:\n",
    "            out = my_token_sent(X)\n",
    "            X, y = X.to(device), y.to(device).to(torch.float32)\n",
    "            pred = model(X)\n",
    "            test_loss += loss_fn(pred, y).item()\n",
    "            pout = preplixity(y,pred) \n",
    "            preplex += pout\n",
    "            file.write(f\"{out}\\t{pout}\\n\")\n",
    "            # correct += (pred.argmax(1) == y).type(torch.float).sum().item()\n",
    "    test_loss /= num_batches\n",
    "    preplex /= size\n",
    "    file.close()\n",
    "    print(f\"{which} Preplexity: \\n : {(preplex):>0.5f}, Avg loss: {test_loss:>8f} \\n\")\n",
    "    return (preplex,test_loss)"
   ]
  },
  {
   "cell_type": "code",
   "execution_count": 44,
   "id": "d1e18aa8-7e3e-4e02-8395-54a7ed24ede9",
   "metadata": {
    "tags": []
   },
   "outputs": [
    {
     "name": "stdout",
     "output_type": "stream",
     "text": [
      "train_LM_1 Preplexity: \n",
      " : 51.27480, Avg loss: 0.048829 \n",
      "\n"
     ]
    }
   ],
   "source": [
    "for t in range(1):\n",
    "    # print(f\"Epoch {t+1}\\n-------------------------------\")\n",
    "    vp,vl = generate_p(train_dl, LM_1, loss,which='train_LM_1')\n",
    "    # print(\"Done!\")"
   ]
  },
  {
   "cell_type": "code",
   "execution_count": 45,
   "id": "e6dd8e2d-2a58-4935-b7fd-7eed471cf224",
   "metadata": {},
   "outputs": [
    {
     "name": "stdout",
     "output_type": "stream",
     "text": [
      "test_LM_1 Preplexity: \n",
      " : 47.60085, Avg loss: 0.043497 \n",
      "\n"
     ]
    }
   ],
   "source": [
    "for t in range(1):\n",
    "    # print(f\"Epoch {t+1}\\n-------------------------------\")\n",
    "    vp,vl = generate_p(test_dl, LM_1, loss,which='test_LM_1')\n",
    "    # print(\"Done!\")"
   ]
  },
  {
   "cell_type": "code",
   "execution_count": 45,
   "id": "26f69edb-70b7-45d8-83fb-31ed4a4e9818",
   "metadata": {},
   "outputs": [],
   "source": [
    "data = {'test_data':test_sents,\n",
    " 'word_idx':word_idx,\n",
    " 'idx_word': idx_word,\n",
    " 'final_vocab':final_vocab,\n",
    " 'LM_config':LM_config,\n",
    " 'embedding': np.array(train_embedding)}"
   ]
  },
  {
   "cell_type": "code",
   "execution_count": 46,
   "id": "a83cea85-6688-4d73-8113-5daa98a16fe6",
   "metadata": {},
   "outputs": [],
   "source": [
    "import pickle\n",
    "file = open('../data/LM_5_data.pkl','wb')\n",
    "pickle.dump(data,file)\n",
    "file.close()"
   ]
  },
  {
   "cell_type": "code",
   "execution_count": 5,
   "id": "307b0c2f-045d-40dd-99cc-ad74a0318358",
   "metadata": {},
   "outputs": [
    {
     "data": {
      "text/plain": [
       "LM(\n",
       "  (embedding): Embedding(5691, 50)\n",
       "  (LSTM): LSTM(50, 100)\n",
       "  (convert_vocab): Linear(in_features=100, out_features=5691, bias=True)\n",
       "  (softmax): Softmax(dim=1)\n",
       ")"
      ]
     },
     "execution_count": 5,
     "metadata": {},
     "output_type": "execute_result"
    }
   ],
   "source": [
    "import torch\n",
    "import torch.nn as nn\n",
    "from torch.utils.data import Dataset\n",
    "from torch.utils.data import DataLoader\n",
    "import pickle\n",
    "import pdb\n",
    "\n",
    "def tokenizer(text,idx_word,word_idx,final_vocab):\n",
    "    tokens = []\n",
    "    text.lower()\n",
    "    text = text.strip('\\n')\n",
    "    text = idx_word[2]+' '+text+' '+idx_word[3]\n",
    "    # print(text)\n",
    "    for word in text.split():\n",
    "        if word in final_vocab:\n",
    "            tokens.append(word_idx[word])\n",
    "        else:\n",
    "            tokens.append(word_idx['[UNK]']) # update []\n",
    "    return tokens\n",
    "\n",
    "\n",
    "\n",
    "class Dataset(Dataset):\n",
    "    def __init__(self,data,vocab_size):\n",
    "        self.data = data\n",
    "        self.vocab_size = vocab_size\n",
    "    def __len__(self):\n",
    "        return len(self.data)\n",
    "    \n",
    "    def __getitem__(self,idx):\n",
    "        # print(self.data[idx])\n",
    "        out = tokenizer(self.data[idx])\n",
    "        inputs = out[:-1]# Last token is [END] will not include in data\n",
    "        labels = out[1:]# First token is [STR] will never be predected\n",
    "        # print(out)\n",
    "        return torch.tensor(inputs),torch.nn.functional.one_hot(torch.tensor(labels),num_classes=self.vocab_size)\n",
    "\n",
    "\n",
    "\n",
    "\n",
    "class LM(nn.Module):\n",
    "    \n",
    "    def __init__(self,config,embedding):\n",
    "        super().__init__()\n",
    "        self.config = config\n",
    "        # This will tak token ids an make enbedding out of it\n",
    "        # Embedding are from glove and should be frezzed from learning\n",
    "        self.embedding = nn.Embedding.from_pretrained(torch.from_numpy(embedding).float())\n",
    "        self.LSTM = nn.LSTM(num_layers=self.config['num_layers'],input_size=self.config['embedding'],hidden_size=self.config['hidden'])\n",
    "        self.convert_vocab = nn.Linear(in_features=self.config['hidden'],out_features=self.config['vocab_size'])\n",
    "        self.softmax = nn.Softmax(dim=1)\n",
    "    def forward(self,token_seq):\n",
    "        x = self.embedding(token_seq)\n",
    "        out,_ = self.LSTM(x) # (h_n,c_n)\n",
    "        convert_output = self.convert_vocab(out)\n",
    "        prob = self.softmax(convert_output)\n",
    "        return prob\n",
    "\n",
    "def sent_probablity(ground_truth,pred):\n",
    "    print(\"Ground truth , Predictions\",ground_truth.shape,pred.shape)\n",
    "    index_gt = torch.argmax(ground_truth,dim=1)\n",
    "    \n",
    "    print(\"Ground truth Index: \",index_gt)\n",
    "    # pdb.set_trace()\n",
    "    row = torch.arange(index_gt.shape[0]).to(device)\n",
    "    probablity = pred[row,index_gt]\n",
    "    print(probablity,probablity.shape)\n",
    "    # print(power_p,power_p.shape)\n",
    "    prob = torch.prod(probablity)\n",
    "    return prob\n",
    "\n",
    "\n",
    "\n",
    "device = \"cuda\" if torch.cuda.is_available() else \"mps\" if torch.backends.mps.is_available() else \"cpu\"\n",
    "\n",
    "file = open('../data/LM_5_data.pkl','rb')\n",
    "config = pickle.load(file)\n",
    "final_vocab = config['final_vocab']\n",
    "word_idx = config['word_idx']\n",
    "idx_word = config['idx_word']\n",
    "embedding = config['embedding']\n",
    "LM_config = config['LM_config']\n",
    "#test_data = config['test_data'] # list of strings\n",
    "checkpoint = torch.load('../data/LM_1.pth')\n",
    "LM_1 = LM(LM_config,embedding).to(device)\n",
    "LM_1.load_state_dict(checkpoint)\n",
    "LM_1.eval()"
   ]
  },
  {
   "cell_type": "code",
   "execution_count": 9,
   "id": "a8951601-7bea-408f-a15c-c7c8ac3ecad3",
   "metadata": {
    "collapsed": true,
    "jupyter": {
     "outputs_hidden": true
    },
    "tags": []
   },
   "outputs": [
    {
     "name": "stdout",
     "output_type": "stream",
     "text": [
      "Ground truth , Predictions torch.Size([25, 5691]) torch.Size([25, 5691])\n",
      "elizabeth shook her head over this letter it convinced her that accident only could discover to mr bingley her sister is being in town\n",
      "   tensor(5121.7280, device='cuda:0', grad_fn=<ProdBackward0>)\n",
      "Ground truth , Predictions torch.Size([35, 5691]) torch.Size([35, 5691])\n",
      "after a few minutes reflection however she continued i do remember his boasting one day at netherfield of the implacability of his resentments of his having an unforgiving temper his disposition must be dreadful\n",
      "   tensor(4447.1997, device='cuda:0', grad_fn=<ProdBackward0>)\n",
      "Ground truth , Predictions torch.Size([84, 5691]) torch.Size([84, 5691])\n",
      "to catherine and lydia neither the letter nor its writer were in any degree interesting it was next to impossible that their cousin should come in a scarlet coat and it was now some weeks since they had received pleasure from the society of a man in any other colour as for their mother mr collins is letter had done away much of her illwill and she was preparing to see him with a degree of composure which astonished her husband and daughters\n",
      "   tensor(6539.9019, device='cuda:0', grad_fn=<ProdBackward0>)\n",
      "Ground truth , Predictions torch.Size([45, 5691]) torch.Size([45, 5691])\n",
      "i cannot see why mrs forster should not ask me as well as lydia said she though i am not her particular friend i have just as much right to be asked as she has and more too for i am two years older\n",
      "   tensor(5012.8516, device='cuda:0', grad_fn=<ProdBackward0>)\n",
      "Ground truth , Predictions torch.Size([7, 5691]) torch.Size([7, 5691])\n",
      "i am not one and twenty\n",
      "   tensor(4113.2451, device='cuda:0', grad_fn=<ProdBackward0>)\n",
      "Ground truth , Predictions torch.Size([216, 5691]) torch.Size([216, 5691])\n",
      "but when elizabeth told of his silence it did not seem very likely even to charlotte is wishes to be the case and after various conjectures they could at last only suppose his visit to proceed from the difficulty of finding any thing to do which was the more probable from the time of year all field sports were over within doors there was lady catherine books and a billiard table but gentlemen cannot be always within doors and in the nearness of the parsonage or the pleasantness of the walk to it or of the people who lived in it the two cousins found a temptation from this period of walking thither almost every day they called at various times of the morning sometimes separately sometimes together and now and then accompanied by their aunt it was plain to them all that colonel fitzwilliam came because he had pleasure in their society a persuasion which of course recommended him still more and elizabeth was reminded by her own satisfaction in being with him as well as by his evident admiration of her of her former favourite george wickham and though in comparing them she saw there was less captivating softness in colonel fitzwilliam is manners she believed he might have the best informed mind\n",
      "   tensor(5563.1084, device='cuda:0', grad_fn=<ProdBackward0>)\n",
      "Ground truth , Predictions torch.Size([55, 5691]) torch.Size([55, 5691])\n",
      "it is wonderful replied wickham for almost all his actions may be traced to pride and pride has often been his best friend it has connected him nearer with virtue than any other feeling but we are none of us consistent and in his behaviour to me there were stronger impulses even than pride\n",
      "   tensor(6012.2275, device='cuda:0', grad_fn=<ProdBackward0>)\n",
      "Ground truth , Predictions torch.Size([41, 5691]) torch.Size([41, 5691])\n",
      "while she spoke wickham looked as if scarcely knowing whether to rejoice over her words or to distrust their meaning there was a something in her countenance which made him listen with an apprehensive and anxious attention while she added\n",
      "   tensor(6002.0879, device='cuda:0', grad_fn=<ProdBackward0>)\n",
      "Ground truth , Predictions torch.Size([44, 5691]) torch.Size([44, 5691])\n",
      "you judge very properly said mr bennet and it is happy for you that you possess the talent of flattering with delicacy may i ask whether these pleasing attentions proceed from the impulse of the moment or are the result of previous study\n",
      "   tensor(5651.8750, device='cuda:0', grad_fn=<ProdBackward0>)\n",
      "Ground truth , Predictions torch.Size([47, 5691]) torch.Size([47, 5691])\n",
      "the surprise of the rest of the family on hearing who their visitor had been was very great but they obligingly satisfied it with the same kind of supposition which had appeased mrs bennet is curiosity and elizabeth was spared from much teazing on the subject\n",
      "   tensor(4537.1357, device='cuda:0', grad_fn=<ProdBackward0>)\n",
      "Ground truth , Predictions torch.Size([126, 5691]) torch.Size([126, 5691])\n",
      "when this information was given and they had all taken their seats mr collins was at leisure to look around him and admire and he was so much struck with the size and furniture of the apartment that he declared he might almost have supposed himself in the small summer breakfast parlour at rosings a comparison that did not at first convey much gratification but when mrs philips understood from him what rosings was and who was its proprietor when she had listened to the description of only one of lady catherine is drawingrooms and found that the chimneypiece alone had cost eight hundred pounds she felt all the force of the compliment and would hardly have resented a comparison with the housekeeper is room\n",
      "   tensor(5852.9272, device='cuda:0', grad_fn=<ProdBackward0>)\n",
      "Ground truth , Predictions torch.Size([16, 5691]) torch.Size([16, 5691])\n",
      "but there seems indelicacy in directing his attentions towards her so soon after this event\n",
      "   tensor(5499.7676, device='cuda:0', grad_fn=<ProdBackward0>)\n",
      "Ground truth , Predictions torch.Size([33, 5691]) torch.Size([33, 5691])\n",
      "why did not you all learn you ought all to have learned the miss webbs all play and their father has not so good an income as your is do you draw\n",
      "   tensor(5954.7095, device='cuda:0', grad_fn=<ProdBackward0>)\n",
      "Ground truth , Predictions torch.Size([64, 5691]) torch.Size([64, 5691])\n",
      "mrs bennet to whose apartment they all repaired after a few minutes conversation together received them exactly as might be expected with tears and lamentations of regret invectives against the villanous conduct of wickham and complaints of her own sufferings and ill usage blaming every body but the person to whose ill judging indulgence the errors of her daughter must be principally owing\n",
      "   tensor(4974.3691, device='cuda:0', grad_fn=<ProdBackward0>)\n",
      "Ground truth , Predictions torch.Size([13, 5691]) torch.Size([13, 5691])\n",
      "you begin to comprehend me do you cried he turning towards her\n",
      "   tensor(5740.0757, device='cuda:0', grad_fn=<ProdBackward0>)\n",
      "Ground truth , Predictions torch.Size([94, 5691]) torch.Size([94, 5691])\n",
      "elizabeth then contrived to sit by her aunt their first subject was her sister and she was more grieved than astonished to hear in reply to her minute enquiries that though jane always struggled to support her spirits there were periods of dejection it was reasonable however to hope that they would not continue long mrs gardiner gave her the particulars also of miss bingley is visit in gracechurchstreet and repeated conversations occurring at different times between jane and herself which proved that the former had from her heart given up the acquaintance\n",
      "   tensor(5527.5400, device='cuda:0', grad_fn=<ProdBackward0>)\n",
      "Ground truth , Predictions torch.Size([50, 5691]) torch.Size([50, 5691])\n",
      "he was seriously concerned that a cause of so little advantage to any one should be forwarded at the sole expence of his brotherin law and he was determined if possible to find out the extent of his assistance and to discharge the obligation as soon as he could\n",
      "   tensor(5643.8965, device='cuda:0', grad_fn=<ProdBackward0>)\n",
      "Ground truth , Predictions torch.Size([147, 5691]) torch.Size([147, 5691])\n",
      "the gardiners staid a week at longbourn and what with the philipses the lucases and the officers there was not a day without its engagement mrs bennet had so carefully provided for the entertainment of her brother and sister that they did not once sit down to a family dinner when the engagement was for home some of the officers always made part of it of which officers mr wickham was sure to be one and on these occasions mrs gardiner rendered suspicious by elizabeth is warm commendation of him narrowly observed them both without supposing them from what she saw to be very seriously in love their preference of each other was plain enough to make her a little uneasy and she resolved to speak to elizabeth on the subject before she left hertfordshire and represent to her the imprudence of encouraging such an attachment\n",
      "   tensor(5662.0029, device='cuda:0', grad_fn=<ProdBackward0>)\n",
      "Ground truth , Predictions torch.Size([79, 5691]) torch.Size([79, 5691])\n",
      "my fingers said elizabeth do not move over this instrument in the masterly manner which i see so many women is do they have not the same force or rapidity and do not produce the same expression but then i have always supposed it to be my own fault because i would not take the trouble of practising it is not that i do not believe my fingers as capable as any other woman is of superior execution\n",
      "   tensor(4699.8208, device='cuda:0', grad_fn=<ProdBackward0>)\n",
      "Ground truth , Predictions torch.Size([11, 5691]) torch.Size([11, 5691])\n",
      "i should like it beyond any thing said her mother\n",
      "   tensor(3190.9617, device='cuda:0', grad_fn=<ProdBackward0>)\n",
      "Ground truth , Predictions torch.Size([26, 5691]) torch.Size([26, 5691])\n",
      "how unfortunate that you should have used such very strong expressions in speaking of wickham to mr darcy for now they do appear wholly undeserved\n",
      "   tensor(4404.8291, device='cuda:0', grad_fn=<ProdBackward0>)\n",
      "Ground truth , Predictions torch.Size([195, 5691]) torch.Size([195, 5691])\n",
      "all this was acknowledged to mrs gardiner and after relating the circumstances she thus went on i am now convinced my dear aunt that i have never been much in love for had i really experienced that pure and elevating passion i should at present detest his very name and wish him all manner of evil but my feelings are not only cordial towards him they are even impartial towards miss king i cannot find out that i hate her at all or that i am in the least unwilling to think her a very good sort of girl there can be no love in all this my watchfulness has been effectual and though i should certainly be a more interesting object to all my acquaintance were i distractedly in love with him i cannot say that i regret my comparative insignificance importance may sometimes be purchased too dearly kitty and lydia take his defection much more to heart than i do they are young in the ways of the world and not yet open to the mortifying conviction that handsome young men must have something to live on as well as the plain\n",
      "   tensor(5620.5312, device='cuda:0', grad_fn=<ProdBackward0>)\n",
      "Ground truth , Predictions torch.Size([14, 5691]) torch.Size([14, 5691])\n",
      "could colonel forster repeat the particulars of lydia is note to his wife\n",
      "   tensor(5970.3413, device='cuda:0', grad_fn=<ProdBackward0>)\n",
      "Ground truth , Predictions torch.Size([222, 5691]) torch.Size([222, 5691])\n",
      "so miss eliza i hear you are quite delighted with george wickham your sister has been talking to me about him and asking me a thousand questions and i find that the young man forgot to tell you among his other communications that he was the son of old wickham the late mr darcy is steward let me recommend you however as a friend not to give implicit confidence to all his assertions for as to mr darcy is using him ill it is perfectly false for on the contrary he has been always remarkably kind to him though george wickham has treated mr darcy in a most infamous manner i do not know the particulars but i know very well that mr darcy is not in the least to blame that he cannot bear to hear george wickham mentioned and that though my brother thought he could not well avoid including him in his invitation to the officers he was excessively glad to find that he had taken himself out of the way his coming into the country at all is a most insolent thing indeed and i wonder how he could presume to do it i pity you miss eliza for this discovery of your favourite is guilt but really considering his descent one could not expect much better\n",
      "   tensor(5882.5938, device='cuda:0', grad_fn=<ProdBackward0>)\n",
      "Ground truth , Predictions torch.Size([13, 5691]) torch.Size([13, 5691])\n",
      "she is a great fool for going away if she liked him\n",
      "   tensor(5829.1440, device='cuda:0', grad_fn=<ProdBackward0>)\n",
      "Ground truth , Predictions torch.Size([188, 5691]) torch.Size([188, 5691])\n",
      "the tumult of her mind was now painfully great she knew not how to support herself and from actual weakness sat down and cried for half an hour her astonishment as she reflected on what had passed was increased by every review of it that she should receive an offer of marriage from mr darcy that he should have been in love with her for so many months so much in love as to wish to marry her in spite of all the objections which had made him prevent his friend is marrying her sister and which must appear at least with equal force in his own case was almost incredible it was gratifying to have inspired unconsciously so strong an affection but his pride his abominable pride his shameless avowal of what he had done with respect to jane his unpardonable assurance in acknowledging though he could not justify it and the unfeeling manner in which he had mentioned mr wickham his cruelty towards whom he had not attempted to deny soon overcame the pity which the consideration of his attachment had for a moment excited\n",
      "   tensor(5452.3818, device='cuda:0', grad_fn=<ProdBackward0>)\n",
      "Ground truth , Predictions torch.Size([18, 5691]) torch.Size([18, 5691])\n",
      "how could i ever think her like her nephew said she as she looked in her face\n",
      "   tensor(5842.5913, device='cuda:0', grad_fn=<ProdBackward0>)\n",
      "Ground truth , Predictions torch.Size([5, 5691]) torch.Size([5, 5691])\n",
      "can you come tomorrow\n",
      "   tensor(6555.1909, device='cuda:0', grad_fn=<ProdBackward0>)\n",
      "Ground truth , Predictions torch.Size([12, 5691]) torch.Size([12, 5691])\n",
      "and lydia used to want to go to london added kitty\n",
      "   tensor(8249.8887, device='cuda:0', grad_fn=<ProdBackward0>)\n",
      "Ground truth , Predictions torch.Size([21, 5691]) torch.Size([21, 5691])\n",
      "if they had uncles enough to fill all cheapside cried bingley it would not make them one jot less agreeable\n",
      "   tensor(4501.5464, device='cuda:0', grad_fn=<ProdBackward0>)\n",
      "Ground truth , Predictions torch.Size([202, 5691]) torch.Size([202, 5691])\n",
      "at length the parsonage was discernible the garden sloping to the road the house standing in it the green pales and the laurel hedge every thing declared they were arriving mr collins and charlotte appeared at the door and the carriage stopped at the small gate which led by a short gravel walk to the house amidst the nods and smiles of the whole party in a moment they were all out of the chaise rejoicing at the sight of each other mrs collins welcomed her friend with the liveliest pleasure and elizabeth was more and more satisfied with coming when she found herself so affectionately received she saw instantly that her cousin is manners were not altered by his marriage his formal civility was just what it had been and he detained her some minutes at the gate to hear and satisfy his enquiries after all her family they were then with no other delay than his pointing out the neatness of the entrance taken into the house and as soon as they were in the parlour he welcomed them a second time with ostentatious formality to his humble abode and punctually repeated all his wife is offers of refreshment\n",
      "   tensor(4695.9575, device='cuda:0', grad_fn=<ProdBackward0>)\n",
      "Ground truth , Predictions torch.Size([26, 5691]) torch.Size([26, 5691])\n",
      "we will go as far as meryton with you said catherine and lydia elizabeth accepted their company and the three young ladies set off together\n",
      "   tensor(6826.7178, device='cuda:0', grad_fn=<ProdBackward0>)\n",
      "Ground truth , Predictions torch.Size([52, 5691]) torch.Size([52, 5691])\n",
      "do you know mama that my uncle philips talks of turning away richard and if he does colonel forster will hire him my aunt told me so herself on saturday i shall walk to meryton tomorrow to hear more about it and to ask when mr denny comes back from town\n",
      "   tensor(7259.3115, device='cuda:0', grad_fn=<ProdBackward0>)\n",
      "Ground truth , Predictions torch.Size([88, 5691]) torch.Size([88, 5691])\n",
      "from the very beginning from the first moment i may almost say of my acquaintance with you your manners impressing me with the fullest belief of your arrogance your conceit and your selfish disdain of the feelings of others were such as to form that groundwork of disapprobation on which succeeding events have built so immoveable a dislike and i had not known you a month before i felt that you were the last man in the world whom i could ever be prevailed on to marry\n",
      "   tensor(5501.0962, device='cuda:0', grad_fn=<ProdBackward0>)\n",
      "Ground truth , Predictions torch.Size([33, 5691]) torch.Size([33, 5691])\n",
      "if you believed it impossible to be true said elizabeth colouring with astonishment and disdain i wonder you took the trouble of coming so far what could your ladyship propose by it\n",
      "   tensor(5844.9844, device='cuda:0', grad_fn=<ProdBackward0>)\n",
      "Ground truth , Predictions torch.Size([59, 5691]) torch.Size([59, 5691])\n",
      "at length there was nothing more to be said the ladies drove on and the others returned into the house mr collins no sooner saw the two girls than he began to congratulate them on their good fortune which charlotte explained by letting them know that the whole party was asked to dine at rosings the next day\n",
      "   tensor(5152.9668, device='cuda:0', grad_fn=<ProdBackward0>)\n",
      "Ground truth , Predictions torch.Size([33, 5691]) torch.Size([33, 5691])\n",
      "as he spoke there was a sort of smile which elizabeth fancied she understood he must be supposing her to be thinking of jane and netherfield and she blushed as she answered\n",
      "   tensor(5600.4771, device='cuda:0', grad_fn=<ProdBackward0>)\n",
      "Ground truth , Predictions torch.Size([76, 5691]) torch.Size([76, 5691])\n",
      "elizabeth on her side had much to do she wanted to ascertain the feelings of each of her visitors she wanted to compose her own and to make herself agreeable to all and in the latter object where she feared most to fail she was most sure of success for those to whom she endeavoured to give pleasure were prepossessed in her favour bingley was ready georgiana was eager and darcy determined to be pleased\n",
      "   tensor(6209.3364, device='cuda:0', grad_fn=<ProdBackward0>)\n",
      "Ground truth , Predictions torch.Size([5, 5691]) torch.Size([5, 5691])\n",
      "you write uncommonly fast\n",
      "   tensor(5075.3750, device='cuda:0', grad_fn=<ProdBackward0>)\n",
      "Ground truth , Predictions torch.Size([19, 5691]) torch.Size([19, 5691])\n",
      "your examination of mr darcy is over i presume said miss bingley and pray what is the result\n",
      "   tensor(6793.2935, device='cuda:0', grad_fn=<ProdBackward0>)\n",
      "Ground truth , Predictions torch.Size([42, 5691]) torch.Size([42, 5691])\n",
      "i must trouble you once more for congratulations elizabeth will soon be the wife of mr darcy console lady catherine as well as you can but if i were you i would stand by the nephew he has more to give\n",
      "   tensor(5944.6255, device='cuda:0', grad_fn=<ProdBackward0>)\n",
      "Ground truth , Predictions torch.Size([93, 5691]) torch.Size([93, 5691])\n",
      "you go to brighton i would not trust you so near it as east bourne for fifty pounds no kitty i have at last learnt to be cautious and you will feel the effects of it no officer is ever to enter my house again nor even to pass through the village balls will be absolutely prohibited unless you stand up with one of your sisters and you are never to stir out of doors till you can prove that you have spent ten minutes of every day in a rational manner\n",
      "   tensor(5724.1357, device='cuda:0', grad_fn=<ProdBackward0>)\n",
      "Ground truth , Predictions torch.Size([40, 5691]) torch.Size([40, 5691])\n",
      "mama cried lydia my aunt says that colonel forster and captain carter do not go so often to miss watson is as they did when they first came she sees them now very often standing in clarke is library\n",
      "   tensor(6094.1484, device='cuda:0', grad_fn=<ProdBackward0>)\n",
      "Ground truth , Predictions torch.Size([95, 5691]) torch.Size([95, 5691])\n",
      "mr gardiner added in his letter that they might expect to see their father at home on the following day which was saturday rendered spiritless by the illsuccess of all their endeavours he had yielded to his brotherin law is intreaty that he would return to his family and leave it to him to do whatever occasion might suggest to be advisable for continuing their pursuit when mrs bennet was told of this she did not express so much satisfaction as her children expected considering what her anxiety for his life had been before\n",
      "   tensor(4787.0469, device='cuda:0', grad_fn=<ProdBackward0>)\n",
      "Ground truth , Predictions torch.Size([48, 5691]) torch.Size([48, 5691])\n",
      "yes but when questioned by him denny denied knowing any thing of their plan and would not give his real opinion about it he did not repeat his persuasion of their not marrying and from that i am inclined to hope he might have been misunderstood before\n",
      "   tensor(4992.4561, device='cuda:0', grad_fn=<ProdBackward0>)\n",
      "Ground truth , Predictions torch.Size([4, 5691]) torch.Size([4, 5691])\n",
      "transcriber is note\n",
      "   tensor(6611.1167, device='cuda:0', grad_fn=<ProdBackward0>)\n",
      "Ground truth , Predictions torch.Size([49, 5691]) torch.Size([49, 5691])\n",
      "1 e 5 do not copy display perform distribute or redistribute this electronic work or any part of this electronic work without prominently displaying the sentence set forth in paragraph 1 e 1 with active links or immediate access to the full terms of the project gutenbergtm license\n",
      "   tensor(5716.7129, device='cuda:0', grad_fn=<ProdBackward0>)\n",
      "Ground truth , Predictions torch.Size([167, 5691]) torch.Size([167, 5691])\n",
      "elizabeth is mind was too full for conversation but she saw and admired every remarkable spot and point of view they gradually ascended for half a mile and then found themselves at the top of a considerable eminence where the wood ceased and the eye was instantly caught by pemberley house situated on the opposite side of a valley into which the road with some abruptness wound it was a large handsome stone building standing well on rising ground and backed by a ridge of high woody hills and in front a stream of some natural importance was swelled into greater but without any artificial appearance its banks were neither formal nor falsely adorned elizabeth was delighted she had never seen a place for which nature had done more or where natural beauty had been so little counteracted by an awkward taste they were all of them warm in their admiration and at that moment she felt that to be mistress of pemberley might be something\n",
      "   tensor(5775.8096, device='cuda:0', grad_fn=<ProdBackward0>)\n",
      "Ground truth , Predictions torch.Size([9, 5691]) torch.Size([9, 5691])\n",
      "nor i i am sure said miss bingley\n",
      "   tensor(4046.0073, device='cuda:0', grad_fn=<ProdBackward0>)\n",
      "Ground truth , Predictions torch.Size([22, 5691]) torch.Size([22, 5691])\n",
      "the garden in which stands my humble abode is separated only by a lane from rosings park her ladyship is residence\n",
      "   tensor(5633.7031, device='cuda:0', grad_fn=<ProdBackward0>)\n",
      "Ground truth , Predictions torch.Size([40, 5691]) torch.Size([40, 5691])\n",
      "while we cannot and do not solicit contributions from states where we have not met the solicitation requirements we know of no prohibition against accepting unsolicited donations from donors in such states who approach us with offers to donate\n",
      "   tensor(4864.6733, device='cuda:0', grad_fn=<ProdBackward0>)\n",
      "Ground truth , Predictions torch.Size([27, 5691]) torch.Size([27, 5691])\n",
      "what is that you are saying fitzwilliam what is it you are talking of what are you telling miss bennet let me hear what it is\n",
      "   tensor(7812.7900, device='cuda:0', grad_fn=<ProdBackward0>)\n",
      "Ground truth , Predictions torch.Size([97, 5691]) torch.Size([97, 5691])\n",
      "i see what you are feeling replied charlotte you must be surprised very much surprised so lately as mr collins was wishing to marry you but when you have had time to think it all over i hope you will be satisfied with what i have done i am not romantic you know i never was i ask only a comfortable home and considering mr collins is character connections and situation in life i am convinced that my chance of happiness with him is as fair as most people can boast on entering the marriage state\n",
      "   tensor(4886.2329, device='cuda:0', grad_fn=<ProdBackward0>)\n",
      "Ground truth , Predictions torch.Size([36, 5691]) torch.Size([36, 5691])\n",
      "these are heavy misfortunes replied elizabeth but the wife of mr darcy must have such extraordinary sources of happiness necessarily attached to her situation that she could upon the whole have no cause to repine\n",
      "   tensor(5425.4912, device='cuda:0', grad_fn=<ProdBackward0>)\n",
      "Ground truth , Predictions torch.Size([22, 5691]) torch.Size([22, 5691])\n",
      "only this that if he is so you can have no reason to suppose he will make an offer to me\n",
      "   tensor(5121.4453, device='cuda:0', grad_fn=<ProdBackward0>)\n",
      "Ground truth , Predictions torch.Size([21, 5691]) torch.Size([21, 5691])\n",
      "what you ask said elizabeth is no sacrifice on my side and mr darcy had much better finish his letter\n",
      "   tensor(5183.7642, device='cuda:0', grad_fn=<ProdBackward0>)\n",
      "Ground truth , Predictions torch.Size([16, 5691]) torch.Size([16, 5691])\n",
      "you are all kindness madam but i believe we must abide by our original plan\n",
      "   tensor(4977.2925, device='cuda:0', grad_fn=<ProdBackward0>)\n",
      "Ground truth , Predictions torch.Size([20, 5691]) torch.Size([20, 5691])\n",
      "mr bennet saw that her whole heart was in the subject and affectionately taking her hand said in reply\n",
      "   tensor(4485.3789, device='cuda:0', grad_fn=<ProdBackward0>)\n",
      "Ground truth , Predictions torch.Size([22, 5691]) torch.Size([22, 5691])\n",
      "elizabeth could not oppose such a wish and from this time mr bingley is name was scarcely ever mentioned between them\n",
      "   tensor(4980.9082, device='cuda:0', grad_fn=<ProdBackward0>)\n",
      "Ground truth , Predictions torch.Size([54, 5691]) torch.Size([54, 5691])\n",
      "every object in the next day is journey was new and interesting to elizabeth and her spirits were in a state for enjoyment for she had seen her sister looking so well as to banish all fear for her health and the prospect of her northern tour was a constant source of delight\n",
      "   tensor(6533.3125, device='cuda:0', grad_fn=<ProdBackward0>)\n",
      "Ground truth , Predictions torch.Size([23, 5691]) torch.Size([23, 5691])\n",
      "the boy protested that she should not she continued to declare that she would and the argument ended only with the visit\n",
      "   tensor(5412.2944, device='cuda:0', grad_fn=<ProdBackward0>)\n",
      "Ground truth , Predictions torch.Size([4, 5691]) torch.Size([4, 5691])\n",
      "my dear sir\n",
      "   tensor(2060.7832, device='cuda:0', grad_fn=<ProdBackward0>)\n",
      "Ground truth , Predictions torch.Size([68, 5691]) torch.Size([68, 5691])\n",
      "and yet i meant to be uncommonly clever in taking so decided a dislike to him without any reason it is such a spur to one is genius such an opening for wit to have a dislike of that kind one may be continually abusive without saying any thing just but one cannot be always laughing at a man without now and then stumbling on something witty\n",
      "   tensor(5656.3296, device='cuda:0', grad_fn=<ProdBackward0>)\n",
      "Ground truth , Predictions torch.Size([5, 5691]) torch.Size([5, 5691])\n",
      "no not at all\n",
      "   tensor(5583.5146, device='cuda:0', grad_fn=<ProdBackward0>)\n",
      "Ground truth , Predictions torch.Size([15, 5691]) torch.Size([15, 5691])\n",
      "she has one only daughter the heiress of rosings and of very extensive property\n",
      "   tensor(7735.5327, device='cuda:0', grad_fn=<ProdBackward0>)\n",
      "Ground truth , Predictions torch.Size([148, 5691]) torch.Size([148, 5691])\n",
      "mr bingley had soon made himself acquainted with all the principal people in the room he was lively and unreserved danced every dance was angry that the ball closed so early and talked of giving one himself at netherfield such amiable qualities must speak for themselves what a contrast between him and his friend mr darcy danced only once with mrs hurst and once with miss bingley declined being introduced to any other lady and spent the rest of the evening in walking about the room speaking occasionally to one of his own party his character was decided he was the proudest most disagreeable man in the world and every body hoped that he would never come there again amongst the most violent against him was mrs bennet whose dislike of his general behaviour was sharpened into particular resentment by his having slighted one of her daughters\n",
      "   tensor(5343.8110, device='cuda:0', grad_fn=<ProdBackward0>)\n",
      "Ground truth , Predictions torch.Size([57, 5691]) torch.Size([57, 5691])\n",
      "if you will thank me he replied let it be for yourself alone that the wish of giving happiness to you might add force to the other inducements which led me on i shall not attempt to deny but your family owe me nothing much as i respect them i believe i thought only of you\n",
      "   tensor(6542.4756, device='cuda:0', grad_fn=<ProdBackward0>)\n",
      "Ground truth , Predictions torch.Size([74, 5691]) torch.Size([74, 5691])\n",
      "your list of the common extent of accomplishments said darcy has too much truth the word is applied to many a woman who deserves it no otherwise than by netting a purse or covering a skreen but i am very far from agreeing with you in your estimation of ladies in general i cannot boast of knowing more than half a dozen in the whole range of my acquaintance that are really accomplished\n",
      "   tensor(5653.5474, device='cuda:0', grad_fn=<ProdBackward0>)\n",
      "Ground truth , Predictions torch.Size([68, 5691]) torch.Size([68, 5691])\n",
      "elizabeth having rather expected to affront him was amazed at his gallantry but there was a mixture of sweetness and archness in her manner which made it difficult for her to affront anybody and darcy had never been so bewitched by any woman as he was by her he really believed that were it not for the inferiority of her connections he should be in some danger\n",
      "   tensor(5331.6948, device='cuda:0', grad_fn=<ProdBackward0>)\n",
      "Ground truth , Predictions torch.Size([49, 5691]) torch.Size([49, 5691])\n",
      "the master of the house heard with real sorrow that they were to go so soon and repeatedly tried to persuade miss bennet that it would not be safe for her that she was not enough recovered but jane was firm where she felt herself to be right\n",
      "   tensor(5528.7109, device='cuda:0', grad_fn=<ProdBackward0>)\n",
      "Ground truth , Predictions torch.Size([18, 5691]) torch.Size([18, 5691])\n",
      "the present always occupies you in such scenes does it said he with a look of doubt\n",
      "   tensor(7499.3701, device='cuda:0', grad_fn=<ProdBackward0>)\n",
      "Ground truth , Predictions torch.Size([82, 5691]) torch.Size([82, 5691])\n",
      "elizabeth listened wondered doubted and was impatient for more mrs reynolds could interest her on no other point she related the subject of the pictures the dimensions of the rooms and the price of the furniture in vain mr gardiner highly amused by the kind of family prejudice to which he attributed her excessive commendation of her master soon led again to the subject and she dwelt with energy on his many merits as they proceeded together up the great staircase\n",
      "   tensor(4437.0894, device='cuda:0', grad_fn=<ProdBackward0>)\n",
      "Ground truth , Predictions torch.Size([15, 5691]) torch.Size([15, 5691])\n",
      "you have a very small park here returned lady catherine after a short silence\n",
      "   tensor(4379.1396, device='cuda:0', grad_fn=<ProdBackward0>)\n",
      "Ground truth , Predictions torch.Size([21, 5691]) torch.Size([21, 5691])\n",
      "and till colonel forster came himself not one of you entertained a doubt i suppose of their being really married\n",
      "   tensor(6374.7686, device='cuda:0', grad_fn=<ProdBackward0>)\n",
      "Ground truth , Predictions torch.Size([53, 5691]) torch.Size([53, 5691])\n",
      "and this is your real opinion this is your final resolve very well i shall now know how to act do not imagine miss bennet that your ambition will ever be gratified i came to try you i hoped to find you reasonable but depend upon it i will carry my point\n",
      "   tensor(6284.7021, device='cuda:0', grad_fn=<ProdBackward0>)\n",
      "Ground truth , Predictions torch.Size([41, 5691]) torch.Size([41, 5691])\n",
      "oh dear yes certainly i am sure lizzy will be very happy i am sure she can have no objection come kitty i want you up stairs and gathering her work together she was hastening away when elizabeth called out\n",
      "   tensor(4061.3608, device='cuda:0', grad_fn=<ProdBackward0>)\n",
      "Ground truth , Predictions torch.Size([3, 5691]) torch.Size([3, 5691])\n",
      "chapter xiv\n",
      "   tensor(2543.3137, device='cuda:0', grad_fn=<ProdBackward0>)\n",
      "Ground truth , Predictions torch.Size([79, 5691]) torch.Size([79, 5691])\n",
      "on the very last day of the regiment is remaining in meryton he dined with others of the officers at longbourn and so little was elizabeth disposed to part from him in good humour that on his making some enquiry as to the manner in which her time had passed at hunsford she mentioned colonel fitzwilliam is and mr darcy is having both spent three weeks at rosings and asked him if he were acquainted with the former\n",
      "   tensor(5599.9634, device='cuda:0', grad_fn=<ProdBackward0>)\n",
      "Ground truth , Predictions torch.Size([12, 5691]) torch.Size([12, 5691])\n",
      "this accounted to elizabeth for mr wickham is being among them\n",
      "   tensor(6231.8203, device='cuda:0', grad_fn=<ProdBackward0>)\n",
      "Ground truth , Predictions torch.Size([22, 5691]) torch.Size([22, 5691])\n",
      "it must be very agreeable to her to be settled within so easy a distance of her own family and friends\n",
      "   tensor(4243.6260, device='cuda:0', grad_fn=<ProdBackward0>)\n",
      "Ground truth , Predictions torch.Size([26, 5691]) torch.Size([26, 5691])\n",
      "you know of course that lady catherine de bourgh and lady anne darcy were sisters consequently that she is aunt to the present mr darcy\n",
      "   tensor(5343.3140, device='cuda:0', grad_fn=<ProdBackward0>)\n",
      "Ground truth , Predictions torch.Size([65, 5691]) torch.Size([65, 5691])\n",
      "her performance was pleasing though by no means capital after a song or two and before she could reply to the entreaties of several that she would sing again she was eagerly succeeded at the instrument by her sister mary who having in consequence of being the only plain one in the family worked hard for knowledge and accomplishments was always impatient for display\n",
      "   tensor(5338.3540, device='cuda:0', grad_fn=<ProdBackward0>)\n",
      "Ground truth , Predictions torch.Size([44, 5691]) torch.Size([44, 5691])\n",
      "what did you say of me that i did not deserve for though your accusations were illfounded formed on mistaken premises my behaviour to you at the time had merited the severest reproof it was unpardonable i cannot think of it without abhorrence\n",
      "   tensor(5728.1880, device='cuda:0', grad_fn=<ProdBackward0>)\n",
      "Ground truth , Predictions torch.Size([35, 5691]) torch.Size([35, 5691])\n",
      "and so ended his affection said elizabeth impatiently there has been many a one i fancy overcome in the same way i wonder who first discovered the efficacy of poetry in driving away love\n",
      "   tensor(4853.4355, device='cuda:0', grad_fn=<ProdBackward0>)\n",
      "Ground truth , Predictions torch.Size([1, 5691]) torch.Size([1, 5691])\n",
      "\n",
      "   tensor(18708.9180, device='cuda:0', grad_fn=<ProdBackward0>)\n",
      "Ground truth , Predictions torch.Size([52, 5691]) torch.Size([52, 5691])\n",
      "the colour which had been driven from her face returned for half a minute with an additional glow and a smile of delight added lustre to her eyes as she thought for that space of time that his affection and wishes must still be unshaken but she would not be secure\n",
      "   tensor(4880.0977, device='cuda:0', grad_fn=<ProdBackward0>)\n",
      "Ground truth , Predictions torch.Size([13, 5691]) torch.Size([13, 5691])\n",
      "i dislike it very much he replied but it must be done\n",
      "   tensor(3674.1438, device='cuda:0', grad_fn=<ProdBackward0>)\n",
      "Ground truth , Predictions torch.Size([3, 5691]) torch.Size([3, 5691])\n",
      "a little\n",
      "   tensor(5934.0156, device='cuda:0', grad_fn=<ProdBackward0>)\n",
      "Ground truth , Predictions torch.Size([19, 5691]) torch.Size([19, 5691])\n",
      "i think i have understood that mr bingley has not much idea of ever returning to netherfield again\n",
      "   tensor(4233.1021, device='cuda:0', grad_fn=<ProdBackward0>)\n",
      "Ground truth , Predictions torch.Size([108, 5691]) torch.Size([108, 5691])\n",
      "not so hasty if you please i have by no means done to all the objections i have already urged i have still another to add i am no stranger to the particulars of your youngest sister is infamous elopement i know it all that the young man is marrying her was a patchedup business at the expence of your father and uncles and is such a girl to be my nephew is sister is her husband is the son of his late father is steward to be his brother heaven and earth of what are you thinking are the shades of pemberley to be thus polluted\n",
      "   tensor(4975.1470, device='cuda:0', grad_fn=<ProdBackward0>)\n",
      "Ground truth , Predictions torch.Size([54, 5691]) torch.Size([54, 5691])\n",
      "on reaching the spacious lobby above they were shewn into a very pretty sittingroom lately fitted up with greater elegance and lightness than the apartments below and were informed that it was but just done to give pleasure to miss darcy who had taken a liking to the room when last at pemberley\n",
      "   tensor(5794.6338, device='cuda:0', grad_fn=<ProdBackward0>)\n",
      "Ground truth , Predictions torch.Size([186, 5691]) torch.Size([186, 5691])\n",
      "mrs gardiner about this time reminded elizabeth of her promise concerning that gentleman and required information and elizabeth had such to send as might rather give contentment to her aunt than to herself his apparent partiality had subsided his attentions were over he was the admirer of some one else elizabeth was watchful enough to see it all but she could see it and write of it without material pain her heart had been but slightly touched and her vanity was satisfied with believing that she would have been his only choice had fortune permitted it the sudden acquisition of ten thousand pounds was the most remarkable charm of the young lady to whom he was now rendering himself agreeable but elizabeth less clearsighted perhaps in his case than in charlotte is did not quarrel with him for his wish of independence nothing on the contrary could be more natural and while able to suppose that it cost him a few struggles to relinquish her she was ready to allow it a wise and desirable measure for both and could very sincerely wish him happy\n",
      "   tensor(5801.7441, device='cuda:0', grad_fn=<ProdBackward0>)\n",
      "Ground truth , Predictions torch.Size([25, 5691]) torch.Size([25, 5691])\n",
      "bingley looked a little silly at this reflection and said something of his concern at having been prevented by business they then went away\n",
      "   tensor(5983.5801, device='cuda:0', grad_fn=<ProdBackward0>)\n",
      "Ground truth , Predictions torch.Size([66, 5691]) torch.Size([66, 5691])\n",
      "the foundation is principal office is located at 4557 melan dr s fairbanks ak 99712 but its volunteers and employees are scattered throughout numerous locations its business office is located at 809 north 1500 west salt lake city ut 84116 801 5961887 email contact links and up to date contact information can be found at the foundation is web site and official page at <URL>\n",
      "   tensor(6052.6709, device='cuda:0', grad_fn=<ProdBackward0>)\n",
      "Ground truth , Predictions torch.Size([73, 5691]) torch.Size([73, 5691])\n",
      "i have not a doubt of mr bingley is sincerity said elizabeth warmly but you must excuse my not being convinced by assurances only mr bingley is defence of his friend was a very able one i dare say but since he is unacquainted with several parts of the story and has learnt the rest from that friend himself i shall venture still to think of both gentlemen as i did before\n",
      "   tensor(5977.0947, device='cuda:0', grad_fn=<ProdBackward0>)\n",
      "Ground truth , Predictions torch.Size([3, 5691]) torch.Size([3, 5691])\n",
      "chapter i\n",
      "   tensor(4405.1499, device='cuda:0', grad_fn=<ProdBackward0>)\n",
      "Ground truth , Predictions torch.Size([17, 5691]) torch.Size([17, 5691])\n",
      "but you will know it when i have told you what happened the very next day\n",
      "   tensor(5017.9941, device='cuda:0', grad_fn=<ProdBackward0>)\n",
      "Ground truth , Predictions torch.Size([86, 5691]) torch.Size([86, 5691])\n",
      "their engagements at rosings were as frequent during the last week of her stay as they had been at first the very last evening was spent there and her ladyship again enquired minutely into the particulars of their journey gave them directions as to the best method of packing and was so urgent on the necessity of placing gowns in the only right way that maria thought herself obliged on her return to undo all the work of the morning and pack her trunk afresh\n",
      "   tensor(5120.0342, device='cuda:0', grad_fn=<ProdBackward0>)\n",
      "Ground truth , Predictions torch.Size([12, 5691]) torch.Size([12, 5691])\n",
      "elizabeth impatiently caught it from his hand jane now came up\n",
      "   tensor(5921.0415, device='cuda:0', grad_fn=<ProdBackward0>)\n",
      "Ground truth , Predictions torch.Size([36, 5691]) torch.Size([36, 5691])\n",
      "elizabeth particularly who knew that her mother owed to the latter the preservation of her favourite daughter from irremediable infamy was hurt and distressed to a most painful degree by a distinction so ill applied\n",
      "   tensor(4748.5591, device='cuda:0', grad_fn=<ProdBackward0>)\n",
      "Ground truth , Predictions torch.Size([16, 5691]) torch.Size([16, 5691])\n",
      "some acquaintance or other my dear i suppose i am sure i do not know\n",
      "   tensor(3427.7939, device='cuda:0', grad_fn=<ProdBackward0>)\n",
      "Ground truth , Predictions torch.Size([202, 5691]) torch.Size([202, 5691])\n",
      "elizabeth allowed that he had given a very rational account of it and they continued talking together with mutual satisfaction till supper put an end to cards and gave the rest of the ladies their share of mr wickham is attentions there could be no conversation in the noise of mrs philips is supper party but his manners recommended him to every body whatever he said was said well and whatever he did done gracefully elizabeth went away with her head full of him she could think of nothing but of mr wickham and of what he had told her all the way home but there was not time for her even to mention his name as they went for neither lydia nor mr collins were once silent lydia talked incessantly of lottery tickets of the fish she had lost and the fish she had won and mr collins in describing the civility of mr and mrs philips protesting that he did not in the least regard his losses at whist enumerating all the dishes at supper and repeatedly fearing that he crouded his cousins had more to say than he could well manage before the carriage stopped at longbourn house\n",
      "   tensor(5680.3560, device='cuda:0', grad_fn=<ProdBackward0>)\n",
      "Ground truth , Predictions torch.Size([61, 5691]) torch.Size([61, 5691])\n",
      "he made no answer and they were again silent till they had gone down the dance when he asked her if she and her sisters did not very often walk to meryton she answered in the affirmative and unable to resist the temptation added when you met us there the other day we had just been forming a new acquaintance\n",
      "   tensor(5032.2979, device='cuda:0', grad_fn=<ProdBackward0>)\n",
      "Ground truth , Predictions torch.Size([18, 5691]) torch.Size([18, 5691])\n",
      "the project gutenberg ebook pride and prejudice by jane austen edited by r w robert william chapman\n",
      "   tensor(5480.3003, device='cuda:0', grad_fn=<ProdBackward0>)\n",
      "Ground truth , Predictions torch.Size([40, 5691]) torch.Size([40, 5691])\n",
      "and this is all the reply which i am to have the honour of expecting i might perhaps wish to be informed why with so little endeavour at civility i am thus rejected but it is of small importance\n",
      "   tensor(5033.1396, device='cuda:0', grad_fn=<ProdBackward0>)\n",
      "Ground truth , Predictions torch.Size([39, 5691]) torch.Size([39, 5691])\n",
      "with a stronger voice she soon added i have this comfort immediately that it has not been more than an error of fancy on my side and that it has done no harm to any one but myself\n",
      "   tensor(6089.8364, device='cuda:0', grad_fn=<ProdBackward0>)\n",
      "Ground truth , Predictions torch.Size([11, 5691]) torch.Size([11, 5691])\n",
      "do you talk by rule then while you are dancing\n",
      "   tensor(5387.5293, device='cuda:0', grad_fn=<ProdBackward0>)\n",
      "Ground truth , Predictions torch.Size([77, 5691]) torch.Size([77, 5691])\n",
      "after wandering along the lane for two hours giving way to every variety of thought reconsidering events determining probabilities and reconciling herself as well as she could to a change so sudden and so important fatigue and a recollection of her long absence made her at length return home and she entered the house with the wish of appearing cheerful as usual and the resolution of repressing such reflections as must make her unfit for conversation\n",
      "   tensor(5685.9077, device='cuda:0', grad_fn=<ProdBackward0>)\n",
      "Ground truth , Predictions torch.Size([115, 5691]) torch.Size([115, 5691])\n",
      "she was now on being settled at home at leisure to observe the real state of her sister is spirits jane was not happy she still cherished a very tender affection for bingley having never even fancied herself in love before her regard had all the warmth of first attachment and from her age and disposition greater steadiness than first attachments often boast and so fervently did she value his remembrance and prefer him to every other man that all her good sense and all her attention to the feelings of her friends were requisite to check the indulgence of those regrets which must have been injurious to her own health and their tranquillity\n",
      "   tensor(4949.5220, device='cuda:0', grad_fn=<ProdBackward0>)\n",
      "Ground truth , Predictions torch.Size([31, 5691]) torch.Size([31, 5691])\n",
      "international donations are gratefully accepted but we cannot make any statements concerning tax treatment of donations received from outside the united states u s laws alone swamp our small staff\n",
      "   tensor(5043.8398, device='cuda:0', grad_fn=<ProdBackward0>)\n",
      "Ground truth , Predictions torch.Size([74, 5691]) torch.Size([74, 5691])\n",
      "then perceiving in elizabeth no inclination of replying she added unhappy as the event must be for lydia we may draw from it this useful lesson that loss of virtue in a female is irretrievable that one false step involves her in endless ruin that her reputation is no less brittle than it is beautiful and that she cannot be too much guarded in her behaviour towards the undeserving of the other sex\n",
      "   tensor(5046.9478, device='cuda:0', grad_fn=<ProdBackward0>)\n",
      "Ground truth , Predictions torch.Size([105, 5691]) torch.Size([105, 5691])\n",
      "in the gallery there were many family portraits but they could have little to fix the attention of a stranger elizabeth walked on in quest of the only face whose features would be known to her at last it arrested her and she beheld a striking resemblance of mr darcy with such a smile over the face as she remembered to have sometimes seen when he looked at her she stood several minutes before the picture in earnest contemplation and returned to it again before they quitted the gallery mrs reynolds informed them that it had been taken in his father is life time\n",
      "   tensor(5269.7407, device='cuda:0', grad_fn=<ProdBackward0>)\n",
      "Ground truth , Predictions torch.Size([4, 5691]) torch.Size([4, 5691])\n",
      "i am not\n",
      "   tensor(1275.7847, device='cuda:0', grad_fn=<ProdBackward0>)\n",
      "Ground truth , Predictions torch.Size([13, 5691]) torch.Size([13, 5691])\n",
      "and is miss darcy as handsome as her brother said mr gardiner\n",
      "   tensor(5239.4053, device='cuda:0', grad_fn=<ProdBackward0>)\n",
      "Ground truth , Predictions torch.Size([76, 5691]) torch.Size([76, 5691])\n",
      "when alone with elizabeth afterwards she spoke more on the subject it seems likely to have been a desirable match for jane said she i am sorry it went off but these things happen so often a young man such as you describe mr bingley so easily falls in love with a pretty girl for a few weeks and when accident separates them so easily forgets her that these sort of inconstancies are very frequent\n",
      "   tensor(5980.0410, device='cuda:0', grad_fn=<ProdBackward0>)\n",
      "Ground truth , Predictions torch.Size([15, 5691]) torch.Size([15, 5691])\n",
      "have you any idea lizzy who this gentleman is but now it comes out\n",
      "   tensor(8522.1221, device='cuda:0', grad_fn=<ProdBackward0>)\n",
      "Ground truth , Predictions torch.Size([49, 5691]) torch.Size([49, 5691])\n",
      "my beauty you had early withstood and as for my manners my behaviour to you was at least always bordering on the uncivil and i never spoke to you without rather wishing to give you pain than not now be sincere did you admire me for my impertinence\n",
      "   tensor(5367.6968, device='cuda:0', grad_fn=<ProdBackward0>)\n",
      "Ground truth , Predictions torch.Size([10, 5691]) torch.Size([10, 5691])\n",
      "end of the project gutenberg ebook pride and prejudice\n",
      "   tensor(4430.2495, device='cuda:0', grad_fn=<ProdBackward0>)\n",
      "Ground truth , Predictions torch.Size([175, 5691]) torch.Size([175, 5691])\n",
      "till elizabeth entered the drawingroom at netherfield and looked in vain for mr wickham among the cluster of red coats there assembled a doubt of his being present had never occurred to her the certainty of meeting him had not been checked by any of those recollections that might not unreasonably have alarmed her she had dressed with more than usual care and prepared in the highest spirits for the conquest of all that remained unsubdued of his heart trusting that it was not more than might be won in the course of the evening but in an instant arose the dreadful suspicion of his being purposely omitted for mr darcy is pleasure in the bingleys invitation to the officers and though this was not exactly the case the absolute fact of his absence was pronounced by his friend mr denny to whom lydia eagerly applied and who told them that wickham had been obliged to go to town on business the day before and was not yet returned adding with a significant smile\n",
      "   tensor(4807.2832, device='cuda:0', grad_fn=<ProdBackward0>)\n",
      "Ground truth , Predictions torch.Size([57, 5691]) torch.Size([57, 5691])\n",
      "elizabeth was pleased to find his memory so exact and he afterwards took occasion to ask her when unattended to by any of the rest whether all her sisters were at longbourn there was not much in the question nor in the preceding remark but there was a look and a manner which gave them meaning\n",
      "   tensor(5404.3037, device='cuda:0', grad_fn=<ProdBackward0>)\n",
      "Ground truth , Predictions torch.Size([13, 5691]) torch.Size([13, 5691])\n",
      "oh cried elizabeth i am excessively diverted but it is so strange\n",
      "   tensor(5100.4219, device='cuda:0', grad_fn=<ProdBackward0>)\n",
      "Ground truth , Predictions torch.Size([58, 5691]) torch.Size([58, 5691])\n",
      "in vain did elizabeth endeavour to check the rapidity of her mother is words or persuade her to describe her felicity in a less audible whisper for to her inexpressible vexation she could perceive that the chief of it was overheard by mr darcy who sat opposite to them her mother only scolded her for being nonsensical\n",
      "   tensor(5294.7266, device='cuda:0', grad_fn=<ProdBackward0>)\n",
      "Ground truth , Predictions torch.Size([138, 5691]) torch.Size([138, 5691])\n",
      "to oblige you i would try to believe almost any thing but no one else could be benefited by such a belief as this for were i persuaded that charlotte had any regard for him i should only think worse of her understanding than i now do of her heart my dear jane mr collins is a conceited pompous narrowminded silly man you know he is as well as i do and you must feel as well as i do that the woman who marries him cannot have a proper way of thinking you shall not defend her though it is charlotte lucas you shall not for the sake of one individual change the meaning of principle and integrity nor endeavour to persuade yourself or me that selfishness is prudence and insensibility of danger security for happiness\n",
      "   tensor(5890.1655, device='cuda:0', grad_fn=<ProdBackward0>)\n",
      "Ground truth , Predictions torch.Size([79, 5691]) torch.Size([79, 5691])\n",
      "mr bingley arrived mrs bennet through the assistance of servants contrived to have the earliest tidings of it that the period of anxiety and fretfulness on her side might be as long as it could she counted the days that must intervene before their invitation could be sent hopeless of seeing him before but on the third morning after his arrival in hertfordshire she saw him from her dressingroom window enter the paddock and ride towards the house\n",
      "   tensor(4808.2681, device='cuda:0', grad_fn=<ProdBackward0>)\n",
      "Ground truth , Predictions torch.Size([28, 5691]) torch.Size([28, 5691])\n",
      "i am sorry you think so but if that be the case there can at least be no want of subject we may compare our different opinions\n",
      "   tensor(4438.4395, device='cuda:0', grad_fn=<ProdBackward0>)\n",
      "Ground truth , Predictions torch.Size([51, 5691]) torch.Size([51, 5691])\n",
      "lady catherine continued her remarks on elizabeth is performance mixing with them many instructions on execution and taste elizabeth received them with all the forbearance of civility and at the request of the gentlemen remained at the instrument till her ladyship is carriage was ready to take them all home\n",
      "   tensor(4939.4619, device='cuda:0', grad_fn=<ProdBackward0>)\n",
      "Ground truth , Predictions torch.Size([32, 5691]) torch.Size([32, 5691])\n",
      "very well that reply will do for the present perhaps by and bye i may observe that private balls are much pleasanter than public ones but now we may be silent\n",
      "   tensor(6110.6094, device='cuda:0', grad_fn=<ProdBackward0>)\n",
      "Ground truth , Predictions torch.Size([70, 5691]) torch.Size([70, 5691])\n",
      "my father is gone to london and jane has written to beg my uncle is immediate assistance and we shall be off i hope in half an hour but nothing can be done i know very well that nothing can be done how is such a man to be worked on how are they even to be discovered i have not the smallest hope it is every way horrible\n",
      "   tensor(5074.9146, device='cuda:0', grad_fn=<ProdBackward0>)\n",
      "Ground truth , Predictions torch.Size([3, 5691]) torch.Size([3, 5691])\n",
      "chapter viii\n",
      "   tensor(2715.9282, device='cuda:0', grad_fn=<ProdBackward0>)\n",
      "Ground truth , Predictions torch.Size([3, 5691]) torch.Size([3, 5691])\n",
      "chapter xiii\n",
      "   tensor(2747.5833, device='cuda:0', grad_fn=<ProdBackward0>)\n",
      "Ground truth , Predictions torch.Size([19, 5691]) torch.Size([19, 5691])\n",
      "on such encouragement to ask elizabeth was forced to put it out of her power by running away\n",
      "   tensor(7291.9067, device='cuda:0', grad_fn=<ProdBackward0>)\n",
      "Ground truth , Predictions torch.Size([18, 5691]) torch.Size([18, 5691])\n",
      "jane looked at her doubtingly oh lizzy it cannot be i know how much you dislike him\n",
      "   tensor(4636.1304, device='cuda:0', grad_fn=<ProdBackward0>)\n",
      "Ground truth , Predictions torch.Size([54, 5691]) torch.Size([54, 5691])\n",
      "very very much nothing could give either bingley or myself more delight but we considered it we talked of it as impossible and do you really love him quite well enough oh lizzy do any thing rather than marry without affection are you quite sure that you feel what you ought to do\n",
      "   tensor(6751.6201, device='cuda:0', grad_fn=<ProdBackward0>)\n",
      "Ground truth , Predictions torch.Size([20, 5691]) torch.Size([20, 5691])\n",
      "mrs reynolds then directed their attention to one of miss darcy drawn when she was only eight years old\n",
      "   tensor(7400.0669, device='cuda:0', grad_fn=<ProdBackward0>)\n",
      "Ground truth , Predictions torch.Size([15, 5691]) torch.Size([15, 5691])\n",
      "i believe ma am i may safely promise you never to dance with him\n",
      "   tensor(5228.6973, device='cuda:0', grad_fn=<ProdBackward0>)\n",
      "Ground truth , Predictions torch.Size([219, 5691]) torch.Size([219, 5691])\n",
      "i beg your pardon i will try again at present i am not in love with mr wickham no i certainly am not but he is beyond all comparison the most agreeable man i ever saw and if he becomes really attached to me i believe it will be better that he should not i see the imprudence of it oh that abominable mr darcy my father is opinion of me does me the greatest honour and i should be miserable to forfeit it my father however is partial to mr wickham in short my dear aunt i should be very sorry to be the means of making any of you unhappy but since we see every day that where there is affection young people are seldom withheld by immediate want of fortune from entering into engagements with each other how can i promise to be wiser than so many of my fellow creatures if i am tempted or how am i even to know that it would be wisdom to resist all that i can promise you therefore is not to be in a hurry i will not be in a hurry to believe myself his first object when i am in company with him i will not be wishing in short i will do my best\n",
      "   tensor(5532.3149, device='cuda:0', grad_fn=<ProdBackward0>)\n",
      "Ground truth , Predictions torch.Size([45, 5691]) torch.Size([45, 5691])\n",
      "this is from caroline bingley what it contains has surprised me a good deal the whole party have left netherfield by this time and are on their way to town and without any intention of coming back again you shall hear what she says\n",
      "   tensor(7230.1689, device='cuda:0', grad_fn=<ProdBackward0>)\n",
      "Ground truth , Predictions torch.Size([19, 5691]) torch.Size([19, 5691])\n",
      "do not you feel a great inclination miss bennet to seize such an opportunity of dancing a reel\n",
      "   tensor(5634.2417, device='cuda:0', grad_fn=<ProdBackward0>)\n",
      "Ground truth , Predictions torch.Size([52, 5691]) torch.Size([52, 5691])\n",
      "yes sir i know i am if i was to go through the world i could not meet with a better but i have always observed that they who are goodnatured when children are goodnatured when they grow up and he was always the sweetesttempered most generoushearted boy in the world\n",
      "   tensor(5425.6177, device='cuda:0', grad_fn=<ProdBackward0>)\n",
      "Ground truth , Predictions torch.Size([39, 5691]) torch.Size([39, 5691])\n",
      "they travelled as expeditiously as possible and sleeping one night on the road reached longbourn by dinnertime the next day it was a comfort to elizabeth to consider that jane could not have been wearied by long expectations\n",
      "   tensor(4914.6748, device='cuda:0', grad_fn=<ProdBackward0>)\n",
      "Ground truth , Predictions torch.Size([42, 5691]) torch.Size([42, 5691])\n",
      "my mother is tolerably well i trust though her spirits are greatly shaken she is up stairs and will have great satisfaction in seeing you all she does not yet leave her dressingroom mary and kitty thank heaven are quite well\n",
      "   tensor(5044.4248, device='cuda:0', grad_fn=<ProdBackward0>)\n",
      "Ground truth , Predictions torch.Size([13, 5691]) torch.Size([13, 5691])\n",
      "and what has been done what has been attempted to recover her\n",
      "   tensor(4043.5574, device='cuda:0', grad_fn=<ProdBackward0>)\n",
      "Ground truth , Predictions torch.Size([150, 5691]) torch.Size([150, 5691])\n",
      "he then asked her to walk into the house but she declared herself not tired and they stood together on the lawn at such a time much might have been said and silence was very awkward she wanted to talk but there seemed an embargo on every subject at last she recollected that she had been travelling and they talked of matlock and dove dale with great perseverance yet time and her aunt moved slowly and her patience and her ideas were nearly worn out before the t te t te was over on mr and mrs gardiner is coming up they were all pressed to go into the house and take some refreshment but this was declined and they parted on each side with the utmost politeness mr darcy handed the ladies into the carriage and when it drove off elizabeth saw him walking slowly towards the house\n",
      "   tensor(5822.7524, device='cuda:0', grad_fn=<ProdBackward0>)\n",
      "Ground truth , Predictions torch.Size([10, 5691]) torch.Size([10, 5691])\n",
      "and what arts did he use to separate them\n",
      "   tensor(7115.3257, device='cuda:0', grad_fn=<ProdBackward0>)\n",
      "Ground truth , Predictions torch.Size([74, 5691]) torch.Size([74, 5691])\n",
      "she was then proceeding to all the particulars of calico muslin and cambric and would shortly have dictated some very plentiful orders had not jane though with some difficulty persuaded her to wait till her father was at leisure to be consulted one day is delay she observed would be of small importance and her mother was too happy to be quite so obstinate as usual other schemes too came into her head\n",
      "   tensor(4656.6504, device='cuda:0', grad_fn=<ProdBackward0>)\n",
      "Ground truth , Predictions torch.Size([6, 5691]) torch.Size([6, 5691])\n",
      "are you pleased with kent\n",
      "   tensor(5543.8320, device='cuda:0', grad_fn=<ProdBackward0>)\n",
      "Ground truth , Predictions torch.Size([4, 5691]) torch.Size([4, 5691])\n",
      "author jane austen\n",
      "   tensor(6098.7056, device='cuda:0', grad_fn=<ProdBackward0>)\n",
      "Ground truth , Predictions torch.Size([21, 5691]) torch.Size([21, 5691])\n",
      "thank you said lydia for if you did i should certainly tell you all and then wickham would be angry\n",
      "   tensor(6787.9053, device='cuda:0', grad_fn=<ProdBackward0>)\n",
      "Ground truth , Predictions torch.Size([36, 5691]) torch.Size([36, 5691])\n",
      "however little mr darcy might have liked such an address he contented himself with coolly replying that he perceived no other alteration than her being rather tanned no miraculous consequence of travelling in the summer\n",
      "   tensor(4035.2844, device='cuda:0', grad_fn=<ProdBackward0>)\n",
      "Ground truth , Predictions torch.Size([8, 5691]) torch.Size([8, 5691])\n",
      "elizabeth replied very concisely that she was\n",
      "   tensor(4336.8267, device='cuda:0', grad_fn=<ProdBackward0>)\n",
      "Ground truth , Predictions torch.Size([72, 5691]) torch.Size([72, 5691])\n",
      "in pompous nothings on his side and civil assents on that of his cousins their time passed till they entered meryton the attention of the younger ones was then no longer to be gained by him their eyes were immediately wandering up in the street in quest of the officers and nothing less than a very smart bonnet indeed or a really new muslin in a shop window could recal them\n",
      "   tensor(5536.6704, device='cuda:0', grad_fn=<ProdBackward0>)\n",
      "Ground truth , Predictions torch.Size([79, 5691]) torch.Size([79, 5691])\n",
      "can you possibly guess lizzy who is meant by this this young gentleman is blessed in a peculiar way with every thing the heart of mortal can most desire splendid property noble kindred and extensive patronage yet in spite of all these temptations let me warn my cousin elizabeth and yourself of what evils you may incur by a precipitate closure with this gentleman is proposals which of course you will be inclined to take immediate advantage of\n",
      "   tensor(6209.7715, device='cuda:0', grad_fn=<ProdBackward0>)\n",
      "Ground truth , Predictions torch.Size([30, 5691]) torch.Size([30, 5691])\n",
      "when i wrote that letter replied darcy i believed myself perfectly calm and cool but i am since convinced that it was written in a dreadful bitterness of spirit\n",
      "   tensor(5760.6318, device='cuda:0', grad_fn=<ProdBackward0>)\n",
      "Ground truth , Predictions torch.Size([3, 5691]) torch.Size([3, 5691])\n",
      "chapter xxiii\n",
      "   tensor(3140.6226, device='cuda:0', grad_fn=<ProdBackward0>)\n",
      "Ground truth , Predictions torch.Size([28, 5691]) torch.Size([28, 5691])\n",
      "she was roused from her seat and her reflections by some one is approach and before she could strike into another path she was overtaken by wickham\n",
      "   tensor(6066.9336, device='cuda:0', grad_fn=<ProdBackward0>)\n",
      "Ground truth , Predictions torch.Size([43, 5691]) torch.Size([43, 5691])\n",
      "i have never heard him say so but it is probable that he may spend very little of his time there in future he has many friends and he is at a time of life when friends and engagements are continually increasing\n",
      "   tensor(7757.1699, device='cuda:0', grad_fn=<ProdBackward0>)\n",
      "Ground truth , Predictions torch.Size([15, 5691]) torch.Size([15, 5691])\n",
      "no i do not know that you were wrong in saying what you did\n",
      "   tensor(4551.7646, device='cuda:0', grad_fn=<ProdBackward0>)\n",
      "Ground truth , Predictions torch.Size([13, 5691]) torch.Size([13, 5691])\n",
      "elizabeth could not refuse though she foresaw little pleasure in the visit\n",
      "   tensor(3906.7483, device='cuda:0', grad_fn=<ProdBackward0>)\n",
      "Ground truth , Predictions torch.Size([29, 5691]) torch.Size([29, 5691])\n",
      "your coming to longbourn to see me and my family said elizabeth coolly will be rather a confirmation of it if indeed such a report is in existence\n",
      "   tensor(6877.3408, device='cuda:0', grad_fn=<ProdBackward0>)\n",
      "Ground truth , Predictions torch.Size([16, 5691]) torch.Size([16, 5691])\n",
      "read it aloud said their father for i hardly know myself what it is about\n",
      "   tensor(7996.6260, device='cuda:0', grad_fn=<ProdBackward0>)\n",
      "Ground truth , Predictions torch.Size([44, 5691]) torch.Size([44, 5691])\n",
      "not perhaps of neglecting his own interest but of every other neglect i can believe him capable if indeed it should be so but i dare not hope it why should they not go on to scotland if that had been the case\n",
      "   tensor(5271.4053, device='cuda:0', grad_fn=<ProdBackward0>)\n",
      "Ground truth , Predictions torch.Size([42, 5691]) torch.Size([42, 5691])\n",
      "this information however startled mrs bennet she would have been glad to be equally satisfied that her daughter had meant to encourage him by protesting against his proposals but she dared not to believe it and could not help saying so\n",
      "   tensor(4255.3276, device='cuda:0', grad_fn=<ProdBackward0>)\n",
      "Ground truth , Predictions torch.Size([5, 5691]) torch.Size([5, 5691])\n",
      "that you certainly shall\n",
      "   tensor(4264.2720, device='cuda:0', grad_fn=<ProdBackward0>)\n",
      "Ground truth , Predictions torch.Size([30, 5691]) torch.Size([30, 5691])\n",
      "i am sure there is not on his i will answer for it he never cared three straws about her who could about such a nasty little freckled thing\n",
      "   tensor(4252.1685, device='cuda:0', grad_fn=<ProdBackward0>)\n",
      "Ground truth , Predictions torch.Size([4, 5691]) torch.Size([4, 5691])\n",
      "my dear friend\n",
      "   tensor(2473.2063, device='cuda:0', grad_fn=<ProdBackward0>)\n",
      "Ground truth , Predictions torch.Size([12, 5691]) torch.Size([12, 5691])\n",
      "mary wished to say something very sensible but knew not how\n",
      "   tensor(5431.5317, device='cuda:0', grad_fn=<ProdBackward0>)\n",
      "Ground truth , Predictions torch.Size([4, 5691]) torch.Size([4, 5691])\n",
      "your is c\n",
      "   tensor(7767.0864, device='cuda:0', grad_fn=<ProdBackward0>)\n",
      "Ground truth , Predictions torch.Size([3, 5691]) torch.Size([3, 5691])\n",
      "chapter xv\n",
      "   tensor(3140.6226, device='cuda:0', grad_fn=<ProdBackward0>)\n",
      "Ground truth , Predictions torch.Size([11, 5691]) torch.Size([11, 5691])\n",
      "i have already told her so once by your desire\n",
      "   tensor(3441.4885, device='cuda:0', grad_fn=<ProdBackward0>)\n",
      "Ground truth , Predictions torch.Size([34, 5691]) torch.Size([34, 5691])\n",
      "would you believe it lizzy that when he went to town last november he really loved me and nothing but a persuasion of my being indifferent would have prevented his coming down again\n",
      "   tensor(6471.5752, device='cuda:0', grad_fn=<ProdBackward0>)\n",
      "Ground truth , Predictions torch.Size([22, 5691]) torch.Size([22, 5691])\n",
      "you are very cruel said her sister you will not let me smile and are provoking me to it every moment\n",
      "   tensor(4311.2358, device='cuda:0', grad_fn=<ProdBackward0>)\n",
      "Ground truth , Predictions torch.Size([19, 5691]) torch.Size([19, 5691])\n",
      "it will be no use to us if twenty such should come since you will not visit them\n",
      "   tensor(4243.9043, device='cuda:0', grad_fn=<ProdBackward0>)\n",
      "Ground truth , Predictions torch.Size([52, 5691]) torch.Size([52, 5691])\n",
      "she was at least free from the offence of mr darcy is farther notice though often standing within a very short distance of her quite disengaged he never came near enough to speak she felt it to be the probable consequence of her allusions to mr wickham and rejoiced in it\n",
      "   tensor(4991.8169, device='cuda:0', grad_fn=<ProdBackward0>)\n",
      "Ground truth , Predictions torch.Size([140, 5691]) torch.Size([140, 5691])\n",
      "something very much to the purpose of course he begins with congratulations on the approaching nuptials of my eldest daughter of which it seems he has been told by some of the goodnatured gossiping lucases i shall not sport with your impatience by reading what he says on that point what relates to yourself is as follows having thus offered you the sincere congratulations of mrs collins and myself on this happy event let me now add a short hint on the subject of another of which we have been advertised by the same authority your daughter elizabeth it is presumed will not long bear the name of bennet after her elder sister has resigned it and the chosen partner of her fate may be reasonably looked up to as one of the most illustrious personages in this land\n",
      "   tensor(5445.7168, device='cuda:0', grad_fn=<ProdBackward0>)\n",
      "Ground truth , Predictions torch.Size([73, 5691]) torch.Size([73, 5691])\n",
      "they were within twenty yards of each other and so abrupt was his appearance that it was impossible to avoid his sight their eyes instantly met and the cheeks of each were overspread with the deepest blush he absolutely started and for a moment seemed immoveable from surprise but shortly recovering himself advanced towards the party and spoke to elizabeth if not in terms of perfect composure at least of perfect civility\n",
      "   tensor(6723.0547, device='cuda:0', grad_fn=<ProdBackward0>)\n",
      "Ground truth , Predictions torch.Size([4, 5691]) torch.Size([4, 5691])\n",
      "in three volumes\n",
      "   tensor(6470.1987, device='cuda:0', grad_fn=<ProdBackward0>)\n",
      "Ground truth , Predictions torch.Size([54, 5691]) torch.Size([54, 5691])\n",
      "how very suddenly you all quitted netherfield last november mr darcy it must have been a most agreeable surprise to mr bingley to see you all after him so soon for if i recollect right he went but the day before he and his sisters were well i hope when you left london\n",
      "   tensor(6511.2485, device='cuda:0', grad_fn=<ProdBackward0>)\n",
      "Ground truth , Predictions torch.Size([138, 5691]) torch.Size([138, 5691])\n",
      "elizabeth however had never been blind to the impropriety of her father is behaviour as a husband she had always seen it with pain but respecting his abilities and grateful for his affectionate treatment of herself she endeavoured to forget what she could not overlook and to banish from her thoughts that continual breach of conjugal obligation and decorum which in exposing his wife to the contempt of her own children was so highly reprehensible but she had never felt so strongly as now the disadvantages which must attend the children of so unsuitable a marriage nor ever been so fully aware of the evils arising from so illjudged a direction of talents talents which rightly used might at least have preserved the respectability of his daughters even if incapable of enlarging the mind of his wife\n",
      "   tensor(4924.8389, device='cuda:0', grad_fn=<ProdBackward0>)\n",
      "Ground truth , Predictions torch.Size([14, 5691]) torch.Size([14, 5691])\n",
      "mrs bennet rang the bell and miss elizabeth was summoned to the library\n",
      "   tensor(5808.9990, device='cuda:0', grad_fn=<ProdBackward0>)\n",
      "Ground truth , Predictions torch.Size([41, 5691]) torch.Size([41, 5691])\n",
      "and if i had not a letter to write myself i might sit by you and admire the evenness of your writing as another young lady once did but i have an aunt too who must not be longer neglected\n",
      "   tensor(5674.8076, device='cuda:0', grad_fn=<ProdBackward0>)\n",
      "Ground truth , Predictions torch.Size([57, 5691]) torch.Size([57, 5691])\n",
      "it was not till the afternoon when he joined them at tea that elizabeth ventured to introduce the subject and then on her briefly expressing her sorrow for what he must have endured he replied say nothing of that who should suffer but myself it has been my own doing and i ought to feel it\n",
      "   tensor(6572.6836, device='cuda:0', grad_fn=<ProdBackward0>)\n",
      "Ground truth , Predictions torch.Size([17, 5691]) torch.Size([17, 5691])\n",
      "another time lizzy said her mother i would not dance with him if i were you\n",
      "   tensor(6432.5693, device='cuda:0', grad_fn=<ProdBackward0>)\n",
      "Ground truth , Predictions torch.Size([17, 5691]) torch.Size([17, 5691])\n",
      "she followed her father to the fire place and they both sat down he then said\n",
      "   tensor(6202.8457, device='cuda:0', grad_fn=<ProdBackward0>)\n",
      "Ground truth , Predictions torch.Size([280, 5691]) torch.Size([280, 5691])\n",
      "at length however mrs bennet had no more to say and lady lucas who had been long yawning at the repetition of delights which she saw no likelihood of sharing was left to the comforts of cold ham and chicken elizabeth now began to revive but not long was the interval of tranquillity for when supper was over singing was talked of and she had the mortification of seeing mary after very little entreaty preparing to oblige the company by many significant looks and silent entreaties did she endeavour to prevent such a proof of complaisance but in vain mary would not understand them such an opportunity of exhibiting was delightful to her and she began her song elizabeth is eyes were fixed on her with most painful sensations and she watched her progress through the several stanzas with an impatience which was very ill rewarded at their close for mary on receiving amongst the thanks of the table the hint of a hope that she might be prevailed on to favour them again after the pause of half a minute began another mary is powers were by no means fitted for such a display her voice was weak and her manner affected elizabeth was in agonies she looked at jane to see how she bore it but jane was very composedly talking to bingley she looked at his two sisters and saw them making signs of derision at each other and at darcy who continued however impenetrably grave she looked at her father to entreat his interference lest mary should be singing all night he took the hint and when mary had finished her second song said aloud\n",
      "   tensor(5717.7310, device='cuda:0', grad_fn=<ProdBackward0>)\n",
      "Ground truth , Predictions torch.Size([4, 5691]) torch.Size([4, 5691])\n",
      "pride and prejudice\n",
      "   tensor(4161.7061, device='cuda:0', grad_fn=<ProdBackward0>)\n",
      "Ground truth , Predictions torch.Size([39, 5691]) torch.Size([39, 5691])\n",
      "mr darcy smiled but elizabeth thought she could perceive that he was rather offended and therefore checked her laugh miss bingley warmly resented the indignity he had received in an expostulation with her brother for talking such nonsense\n",
      "   tensor(5246.3574, device='cuda:0', grad_fn=<ProdBackward0>)\n",
      "Ground truth , Predictions torch.Size([33, 5691]) torch.Size([33, 5691])\n",
      "and that said mrs reynolds pointing to another of the miniatures is my master and very like him it was drawn at the same time as the other about eight years ago\n",
      "   tensor(5439.7324, device='cuda:0', grad_fn=<ProdBackward0>)\n",
      "Ground truth , Predictions torch.Size([58, 5691]) torch.Size([58, 5691])\n",
      "but consider your daughters only think what an establishment it would be for one of them sir william and lady lucas are determined to go merely on that account for in general you know they visit no new comers indeed you must go for it will be impossible for us to visit him if you do not\n",
      "   tensor(5238.3618, device='cuda:0', grad_fn=<ProdBackward0>)\n",
      "Ground truth , Predictions torch.Size([116, 5691]) torch.Size([116, 5691])\n",
      "good gracious lord bless me only think dear me mr darcy who would have thought it and is it really true oh my sweetest lizzy how rich and how great you will be what pinmoney what jewels what carriages you will have jane is is nothing to it nothing at all i am so pleased so happy such a charming man so handsome so tall oh my dear lizzy pray apologise for my having disliked him so much before i hope he will overlook it dear dear lizzy a house in town every thing that is charming three daughters married ten thousand a year oh lord what will become of me i shall go distracted\n",
      "   tensor(5632.0366, device='cuda:0', grad_fn=<ProdBackward0>)\n",
      "Ground truth , Predictions torch.Size([39, 5691]) torch.Size([39, 5691])\n",
      "i hope my dear said mr bennet to his wife as they were at breakfast the next morning that you have ordered a good dinner today because i have reason to expect an addition to our family party\n",
      "   tensor(4270.2085, device='cuda:0', grad_fn=<ProdBackward0>)\n",
      "Ground truth , Predictions torch.Size([12, 5691]) torch.Size([12, 5691])\n",
      "complied with i am only ashamed of his asking so little\n",
      "   tensor(4511.8184, device='cuda:0', grad_fn=<ProdBackward0>)\n",
      "Ground truth , Predictions torch.Size([3, 5691]) torch.Size([3, 5691])\n",
      "chapter ix\n",
      "   tensor(2931.9053, device='cuda:0', grad_fn=<ProdBackward0>)\n",
      "Ground truth , Predictions torch.Size([29, 5691]) torch.Size([29, 5691])\n",
      "he has been so unlucky as to lose your friendship replied elizabeth with emphasis and in a manner which he is likely to suffer from all his life\n",
      "   tensor(6394.7427, device='cuda:0', grad_fn=<ProdBackward0>)\n",
      "Ground truth , Predictions torch.Size([15, 5691]) torch.Size([15, 5691])\n",
      "and what am i to do on the occasion it seems an hopeless business\n",
      "   tensor(5369.1304, device='cuda:0', grad_fn=<ProdBackward0>)\n",
      "Ground truth , Predictions torch.Size([26, 5691]) torch.Size([26, 5691])\n",
      "did you speak from your own observation said she when you told him that my sister loved him or merely from my information last spring\n",
      "   tensor(6870.6899, device='cuda:0', grad_fn=<ProdBackward0>)\n",
      "Ground truth , Predictions torch.Size([44, 5691]) torch.Size([44, 5691])\n",
      "how wickham and lydia were to be supported in tolerable independence she could not imagine but how little of permanent happiness could belong to a couple who were only brought together because their passions were stronger than their virtue she could easily conjecture\n",
      "   tensor(5524.6050, device='cuda:0', grad_fn=<ProdBackward0>)\n",
      "Ground truth , Predictions torch.Size([33, 5691]) torch.Size([33, 5691])\n",
      "miss bingley saw or suspected enough to be jealous and her great anxiety for the recovery of her dear friend jane received some assistance from her desire of getting rid of elizabeth\n",
      "   tensor(4750.8857, device='cuda:0', grad_fn=<ProdBackward0>)\n",
      "Ground truth , Predictions torch.Size([30, 5691]) torch.Size([30, 5691])\n",
      "do let us have a little music cried miss bingley tired of a conversation in which she had no share louisa you will not mind my waking mr hurst\n",
      "   tensor(4615.8496, device='cuda:0', grad_fn=<ProdBackward0>)\n",
      "Ground truth , Predictions torch.Size([169, 5691]) torch.Size([169, 5691])\n",
      "in spite of having been at st james is sir william was so completely awed by the grandeur surrounding him that he had but just courage enough to make a very low bow and take his seat without saying a word and his daughter frightened almost out of her senses sat on the edge of her chair not knowing which way to look elizabeth found herself quite equal to the scene and could observe the three ladies before her composedly lady catherine was a tall large woman with stronglymarked features which might once have been handsome her air was not conciliating nor was her manner of receiving them such as to make her visitors forget their inferior rank she was not rendered formidable by silence but whatever she said was spoken in so authoritative a tone as marked her selfimportance and brought mr wickham immediately to elizabeth is mind and from the observation of the day altogether she believed lady catherine to be exactly what he had represented\n",
      "   tensor(5276.5679, device='cuda:0', grad_fn=<ProdBackward0>)\n",
      "Ground truth , Predictions torch.Size([26, 5691]) torch.Size([26, 5691])\n",
      "it may do very well for the others replied mr bingley but i am sure it will be too much for kitty wont it kitty\n",
      "   tensor(3782.1863, device='cuda:0', grad_fn=<ProdBackward0>)\n",
      "Ground truth , Predictions torch.Size([43, 5691]) torch.Size([43, 5691])\n",
      "the steady countenance which miss lucas had commanded in telling her story gave way to a momentary confusion here on receiving so direct a reproach though as it was no more than she expected she soon regained her composure and calmly replied\n",
      "   tensor(5700.0127, device='cuda:0', grad_fn=<ProdBackward0>)\n",
      "Ground truth , Predictions torch.Size([13, 5691]) torch.Size([13, 5691])\n",
      "it is from miss bingley said jane and then read it aloud\n",
      "   tensor(7800.5503, device='cuda:0', grad_fn=<ProdBackward0>)\n",
      "Ground truth , Predictions torch.Size([33, 5691]) torch.Size([33, 5691])\n",
      "mr gardiner left them soon after breakfast the fishing scheme had been renewed the day before and a positive engagement made of his meeting some of the gentlemen at pemberley by noon\n",
      "   tensor(5096.5547, device='cuda:0', grad_fn=<ProdBackward0>)\n",
      "Ground truth , Predictions torch.Size([3, 5691]) torch.Size([3, 5691])\n",
      "august 2\n",
      "   tensor(9056.7627, device='cuda:0', grad_fn=<ProdBackward0>)\n",
      "Ground truth , Predictions torch.Size([4, 5691]) torch.Size([4, 5691])\n",
      "start full license\n",
      "   tensor(7127.3711, device='cuda:0', grad_fn=<ProdBackward0>)\n",
      "Ground truth , Predictions torch.Size([22, 5691]) torch.Size([22, 5691])\n",
      "i wonder said he at the next opportunity of speaking whether he is likely to be in this country much longer\n",
      "   tensor(5013.4175, device='cuda:0', grad_fn=<ProdBackward0>)\n",
      "Ground truth , Predictions torch.Size([51, 5691]) torch.Size([51, 5691])\n",
      "mr bennet is expectations were fully answered his cousin was as absurd as he had hoped and he listened to him with the keenest enjoyment maintaining at the same time the most resolute composure of countenance and except in an occasional glance at elizabeth requiring no partner in his pleasure\n",
      "   tensor(4763.3003, device='cuda:0', grad_fn=<ProdBackward0>)\n",
      "Ground truth , Predictions torch.Size([98, 5691]) torch.Size([98, 5691])\n",
      "i saw you look at me today lizzy when my aunt told us of the present report and i know i appeared distressed but do not imagine it was from any silly cause i was only confused for the moment because i felt that i should be looked at i do assure you that the news does not affect me either with pleasure or pain i am glad of one thing that he comes alone because we shall see the less of him not that i am afraid of myself but i dread other people is remarks\n",
      "   tensor(6044.4434, device='cuda:0', grad_fn=<ProdBackward0>)\n",
      "Ground truth , Predictions torch.Size([21, 5691]) torch.Size([21, 5691])\n",
      "when they all removed to brighton therefore you had no reason i suppose to believe them fond of each other\n",
      "   tensor(5932.6646, device='cuda:0', grad_fn=<ProdBackward0>)\n",
      "Ground truth , Predictions torch.Size([78, 5691]) torch.Size([78, 5691])\n",
      "it must have been his sister is doing they were certainly no friends to his acquaintance with me which i cannot wonder at since he might have chosen so much more advantageously in many respects but when they see as i trust they will that their brother is happy with me they will learn to be contented and we shall be on good terms again though we can never be what we once were to each other\n",
      "   tensor(4969.0112, device='cuda:0', grad_fn=<ProdBackward0>)\n",
      "Ground truth , Predictions torch.Size([52, 5691]) torch.Size([52, 5691])\n",
      "it now occurred to the girls that their mother was in all likelihood perfectly ignorant of what had happened they went to the library therefore and asked their father whether he would not wish them to make it known to her he was writing and without raising his head coolly replied\n",
      "   tensor(4935.5400, device='cuda:0', grad_fn=<ProdBackward0>)\n",
      "Ground truth , Predictions torch.Size([10, 5691]) torch.Size([10, 5691])\n",
      "you persist then in supposing his sisters influence him\n",
      "   tensor(5548.5786, device='cuda:0', grad_fn=<ProdBackward0>)\n",
      "Ground truth , Predictions torch.Size([17, 5691]) torch.Size([17, 5691])\n",
      "if you are looking for my master ma am he is walking towards the little copse\n",
      "   tensor(5088.4297, device='cuda:0', grad_fn=<ProdBackward0>)\n",
      "Ground truth , Predictions torch.Size([95, 5691]) torch.Size([95, 5691])\n",
      "when at length they arose to take leave mrs bennet was most pressingly civil in her hope of seeing the whole family soon at longbourn and addressed herself particularly to mr bingley to assure him how happy he would make them by eating a family dinner with them at any time without the ceremony of a formal invitation bingley was all grateful pleasure and he readily engaged for taking the earliest opportunity of waiting on her after his return from london whither he was obliged to go the next day for a short time\n",
      "   tensor(5279.7090, device='cuda:0', grad_fn=<ProdBackward0>)\n",
      "Ground truth , Predictions torch.Size([69, 5691]) torch.Size([69, 5691])\n",
      "it may be easily believed that however little of novelty could be added to their fears hopes and conjectures on this interesting subject by its repeated discussion no other could detain them from it long during the whole of the journey from elizabeth is thoughts it was never absent fixed there by the keenest of all anguish self reproach she could find no interval of ease or forgetfulness\n",
      "   tensor(5139.2349, device='cuda:0', grad_fn=<ProdBackward0>)\n",
      "Ground truth , Predictions torch.Size([9, 5691]) torch.Size([9, 5691])\n",
      "thank you but i always mend my own\n",
      "   tensor(7569.3442, device='cuda:0', grad_fn=<ProdBackward0>)\n",
      "Ground truth , Predictions torch.Size([45, 5691]) torch.Size([45, 5691])\n",
      "i desire you will do no such thing lizzy is not a bit better than the others and i am sure she is not half so handsome as jane nor half so good humoured as lydia but you are always giving her the preference\n",
      "   tensor(5179.9048, device='cuda:0', grad_fn=<ProdBackward0>)\n",
      "Ground truth , Predictions torch.Size([7, 5691]) torch.Size([7, 5691])\n",
      "yes in conjunction with his friend\n",
      "   tensor(3862.6775, device='cuda:0', grad_fn=<ProdBackward0>)\n",
      "Ground truth , Predictions torch.Size([26, 5691]) torch.Size([26, 5691])\n",
      "how many letters you must have occasion to write in the course of the year letters of business too how odious i should think them\n",
      "   tensor(4296.3013, device='cuda:0', grad_fn=<ProdBackward0>)\n",
      "Ground truth , Predictions torch.Size([103, 5691]) torch.Size([103, 5691])\n",
      "that it would be done with such trifling exertion on his side too was another very welcome surprise for his chief wish at present was to have as little trouble in the business as possible when the first transports of rage which had produced his activity in seeking her were over he naturally returned to all his former indolence his letter was soon dispatched for though dilatory in undertaking business he was quick in its execution he begged to know farther particulars of what he was indebted to his brother but was too angry with lydia to send any message to her\n",
      "   tensor(5094.2397, device='cuda:0', grad_fn=<ProdBackward0>)\n",
      "Ground truth , Predictions torch.Size([67, 5691]) torch.Size([67, 5691])\n",
      "i comfort myself with thinking replied jane that he certainly would not marry lydia if he had not a real regard for her though our kind uncle has done something towards clearing him i cannot believe that ten thousand pounds or any thing like it has been advanced he has children of his own and may have more how could he spare half ten thousand pounds\n",
      "   tensor(4901.8306, device='cuda:0', grad_fn=<ProdBackward0>)\n",
      "Ground truth , Predictions torch.Size([29, 5691]) torch.Size([29, 5691])\n",
      "the country said darcy can in general supply but few subjects for such a study in a country neighbourhood you move in a very confined and unvarying society\n",
      "   tensor(6883.2100, device='cuda:0', grad_fn=<ProdBackward0>)\n",
      "Ground truth , Predictions torch.Size([149, 5691]) torch.Size([149, 5691])\n",
      "and i certainly never shall give it i am not to be intimidated into anything so wholly unreasonable your ladyship wants mr darcy to marry your daughter but would my giving you the wishedfor promise make their marriage at all more probable supposing him to be attached to me would my refusing to accept his hand make him wish to bestow it on his cousin allow me to say lady catherine that the arguments with which you have supported this extraordinary application have been as frivolous as the application was illjudged you have widely mistaken my character if you think i can be worked on by such persuasions as these how far your nephew might approve of your interference in his affairs i cannot tell but you have certainly no right to concern yourself in mine i must beg therefore to be importuned no farther on the subject\n",
      "   tensor(4622.5820, device='cuda:0', grad_fn=<ProdBackward0>)\n",
      "Ground truth , Predictions torch.Size([8, 5691]) torch.Size([8, 5691])\n",
      "you are then resolved to have him\n",
      "   tensor(3949.3528, device='cuda:0', grad_fn=<ProdBackward0>)\n",
      "Ground truth , Predictions torch.Size([112, 5691]) torch.Size([112, 5691])\n",
      "elizabeth passed the chief of the night in her sister is room and in the morning had the pleasure of being able to send a tolerable answer to the enquiries which she very early received from mr bingley by a housemaid and some time afterwards from the two elegant ladies who waited on his sisters in spite of this amendment however she requested to have a note sent to longbourn desiring her mother to visit jane and form her own judgment of her situation the note was immediately dispatched and its contents as quickly complied with mrs bennet accompanied by her two youngest girls reached netherfield soon after the family breakfast\n",
      "   tensor(4736.9092, device='cuda:0', grad_fn=<ProdBackward0>)\n",
      "Ground truth , Predictions torch.Size([118, 5691]) torch.Size([118, 5691])\n",
      "in the afternoon the two elder miss bennets were able to be for half an hour by themselves and elizabeth instantly availed herself of the opportunity of making many enquiries which jane was equally eager to satisfy after joining in general lamentations over the dreadful sequel of this event which elizabeth considered as all but certain and miss bennet could not assert to be wholly impossible the former continued the subject by saying but tell me all and every thing about it which i have not already heard give me farther particulars what did colonel forster say had they no apprehension of any thing before the elopement took place they must have seen them together for ever\n",
      "   tensor(5060.6660, device='cuda:0', grad_fn=<ProdBackward0>)\n",
      "Ground truth , Predictions torch.Size([90, 5691]) torch.Size([90, 5691])\n",
      "the first week of their return was soon gone the second began it was the last of the regiment is stay in meryton and all the young ladies in the neighbourhood were drooping apace the dejection was almost universal the elder miss bennets alone were still able to eat drink and sleep and pursue the usual course of their employments very frequently were they reproached for this insensibility by kitty and lydia whose own misery was extreme and who could not comprehend such hardheartedness in any of the family\n",
      "   tensor(5278.1143, device='cuda:0', grad_fn=<ProdBackward0>)\n",
      "Ground truth , Predictions torch.Size([34, 5691]) torch.Size([34, 5691])\n",
      "you have no regard then for the honour and credit of my nephew unfeeling selfish girl do you not consider that a connection with you must disgrace him in the eyes of everybody\n",
      "   tensor(5528.1514, device='cuda:0', grad_fn=<ProdBackward0>)\n",
      "Ground truth , Predictions torch.Size([3, 5691]) torch.Size([3, 5691])\n",
      "chapter xii\n",
      "   tensor(2419.0066, device='cuda:0', grad_fn=<ProdBackward0>)\n",
      "Ground truth , Predictions torch.Size([3, 5691]) torch.Size([3, 5691])\n",
      "chapter vii\n",
      "   tensor(2723.2300, device='cuda:0', grad_fn=<ProdBackward0>)\n",
      "Ground truth , Predictions torch.Size([45, 5691]) torch.Size([45, 5691])\n",
      "an unhappy alternative is before you elizabeth from this day you must be a stranger to one of your parents your mother will never see you again if you do not marry mr collins and i will never see you again if you do\n",
      "   tensor(5060.6045, device='cuda:0', grad_fn=<ProdBackward0>)\n",
      "Ground truth , Predictions torch.Size([15, 5691]) torch.Size([15, 5691])\n",
      "after listening one morning to their effusions on this subject mr bennet coolly observed\n",
      "   tensor(5641.3672, device='cuda:0', grad_fn=<ProdBackward0>)\n",
      "Ground truth , Predictions torch.Size([30, 5691]) torch.Size([30, 5691])\n",
      "not so much as i could wish sir but i dare say he may spend half his time here and miss darcy is always down for the summer months\n",
      "   tensor(6630.8003, device='cuda:0', grad_fn=<ProdBackward0>)\n",
      "Ground truth , Predictions torch.Size([15, 5691]) torch.Size([15, 5691])\n",
      "lizzy said he i was going to look for you come into my room\n",
      "   tensor(7420.3799, device='cuda:0', grad_fn=<ProdBackward0>)\n",
      "Ground truth , Predictions torch.Size([26, 5691]) torch.Size([26, 5691])\n",
      "at length however the remarks of her companions on her absence of mind roused her and she felt the necessity of appearing more like herself\n",
      "   tensor(5363.3599, device='cuda:0', grad_fn=<ProdBackward0>)\n",
      "Ground truth , Predictions torch.Size([50, 5691]) torch.Size([50, 5691])\n",
      "i should like balls infinitely better she replied if they were carried on in a different manner but there is something insufferably tedious in the usual process of such a meeting it would surely be much more rational if conversation instead of dancing made the order of the day\n",
      "   tensor(4660.6694, device='cuda:0', grad_fn=<ProdBackward0>)\n",
      "Ground truth , Predictions torch.Size([13, 5691]) torch.Size([13, 5691])\n",
      "charlotte is reply was spared by the entrance of jane and elizabeth\n",
      "   tensor(6063.0288, device='cuda:0', grad_fn=<ProdBackward0>)\n",
      "Ground truth , Predictions torch.Size([161, 5691]) torch.Size([161, 5691])\n",
      "one morning about a week after bingley is engagement with jane had been formed as he and the females of the family were sitting together in the diningroom their attention was suddenly drawn to the window by the sound of a carriage and they perceived a chaise and four driving up the lawn it was too early in the morning for visitors and besides the equipage did not answer to that of any of their neighbours the horses were post and neither the carriage nor the livery of the servant who preceded it were familiar to them as it was certain however that somebody was coming bingley instantly prevailed on miss bennet to avoid the confinement of such an intrusion and walk away with him into the shrubbery they both set off and the conjectures of the remaining three continued though with little satisfaction till the door was thrown open and their visitor entered it was lady catherine de bourgh\n",
      "   tensor(5477.9746, device='cuda:0', grad_fn=<ProdBackward0>)\n",
      "Ground truth , Predictions torch.Size([22, 5691]) torch.Size([22, 5691])\n",
      "mr wickham is adieus were much more affectionate than his wife is he smiled looked handsome and said many pretty things\n",
      "   tensor(4737.8711, device='cuda:0', grad_fn=<ProdBackward0>)\n",
      "Ground truth , Predictions torch.Size([49, 5691]) torch.Size([49, 5691])\n",
      "yes yes they must marry there is nothing else to be done but there are two things that i want very much to know one is how much money your uncle has laid down to bring it about and the other how i am ever to pay him\n",
      "   tensor(6249.2671, device='cuda:0', grad_fn=<ProdBackward0>)\n",
      "Ground truth , Predictions torch.Size([182, 5691]) torch.Size([182, 5691])\n",
      "she then read the first sentence aloud which comprised the information of their having just resolved to follow their brother to town directly and of their meaning to dine that day in grosvenor street where mr hurst had a house the next was in these words i do not pretend to regret any thing i shall leave in hertfordshire except your society my dearest friend but we will hope at some future period to enjoy many returns of the delightful intercourse we have known and in the mean while may lessen the pain of separation by a very frequent and most unreserved correspondence i depend on you for that to these high flown expressions elizabeth listened with all the insensibility of distrust and though the suddenness of their removal surprised her she saw nothing in it really to lament it was not to be supposed that their absence from netherfield would prevent mr bingley is being there and as to the loss of their society she was persuaded that jane must soon cease to regard it in the enjoyment of his\n",
      "   tensor(5864.0635, device='cuda:0', grad_fn=<ProdBackward0>)\n",
      "Ground truth , Predictions torch.Size([9, 5691]) torch.Size([9, 5691])\n",
      "what think you of books said he smiling\n",
      "   tensor(6406.3315, device='cuda:0', grad_fn=<ProdBackward0>)\n",
      "Ground truth , Predictions torch.Size([86, 5691]) torch.Size([86, 5691])\n",
      "what an excellent father you have girls said she when the door was shut i do not know how you will ever make him amends for his kindness or me either for that matter at our time of life it is not so pleasant i can tell you to be making new acquaintance every day but for your sakes we would do any thing lydia my love though you are the youngest i dare say mr bingley will dance with you at the next ball\n",
      "   tensor(5221.4385, device='cuda:0', grad_fn=<ProdBackward0>)\n",
      "Ground truth , Predictions torch.Size([35, 5691]) torch.Size([35, 5691])\n",
      "yes and her petticoat i hope you saw her petticoat six inches deep in mud i am absolutely certain and the gown which had been let down to hide it not doing its office\n",
      "   tensor(4957.2573, device='cuda:0', grad_fn=<ProdBackward0>)\n",
      "Ground truth , Predictions torch.Size([12, 5691]) torch.Size([12, 5691])\n",
      "yes and i hope to engage you to be serious likewise\n",
      "   tensor(4057.6562, device='cuda:0', grad_fn=<ProdBackward0>)\n",
      "Ground truth , Predictions torch.Size([17, 5691]) torch.Size([17, 5691])\n",
      "then observed elizabeth you must comprehend a great deal in your idea of an accomplished woman\n",
      "   tensor(5943.3003, device='cuda:0', grad_fn=<ProdBackward0>)\n",
      "Ground truth , Predictions torch.Size([23, 5691]) torch.Size([23, 5691])\n",
      "you take an eager interest in that gentleman is concerns said darcy in a less tranquil tone and with a heightened colour\n",
      "   tensor(6357.9927, device='cuda:0', grad_fn=<ProdBackward0>)\n",
      "Ground truth , Predictions torch.Size([50, 5691]) torch.Size([50, 5691])\n",
      "elizabeth was eager with her thanks and assurances of happiness she had spent six weeks with great enjoyment and the pleasure of being with charlotte and the kind attentions she had received must make her feel the obliged mr collins was gratified and with a more smiling solemnity replied\n",
      "   tensor(4717.2617, device='cuda:0', grad_fn=<ProdBackward0>)\n",
      "Ground truth , Predictions torch.Size([29, 5691]) torch.Size([29, 5691])\n",
      "elizabeth made no attempt to reason with her mother but remained quietly in the hall till she and kitty were out of sight then returned into the drawingroom\n",
      "   tensor(5605.7646, device='cuda:0', grad_fn=<ProdBackward0>)\n",
      "Ground truth , Predictions torch.Size([15, 5691]) torch.Size([15, 5691])\n",
      "oh certainly said elizabeth though burning with curiosity we will ask you no questions\n",
      "   tensor(5261.5532, device='cuda:0', grad_fn=<ProdBackward0>)\n",
      "Ground truth , Predictions torch.Size([18, 5691]) torch.Size([18, 5691])\n",
      "then my dear you may have the advantage of your friend and introduce mr bingley to her\n",
      "   tensor(4052.2993, device='cuda:0', grad_fn=<ProdBackward0>)\n",
      "Ground truth , Predictions torch.Size([30, 5691]) torch.Size([30, 5691])\n",
      "in vain have i struggled it will not do my feelings will not be repressed you must allow me to tell you how ardently i admire and love you\n",
      "   tensor(4484.3936, device='cuda:0', grad_fn=<ProdBackward0>)\n",
      "Ground truth , Predictions torch.Size([78, 5691]) torch.Size([78, 5691])\n",
      "oh certainly cried his faithful assistant no one can be really esteemed accomplished who does not greatly surpass what is usually met with a woman must have a thorough knowledge of music singing drawing dancing and the modern languages to deserve the word and besides all this she must possess a certain something in her air and manner of walking the tone of her voice her address and expressions or the word will be but half deserved\n",
      "   tensor(5228.5498, device='cuda:0', grad_fn=<ProdBackward0>)\n",
      "Ground truth , Predictions torch.Size([108, 5691]) torch.Size([108, 5691])\n",
      "elizabeth here felt herself called on to say something in vindication of his behaviour to wickham and therefore gave them to understand in as guarded a manner as she could that by what she had heard from his relations in kent his actions were capable of a very different construction and that his character was by no means so faulty nor wickham is so amiable as they had been considered in hertfordshire in confirmation of this she related the particulars of all the pecuniary transactions in which they had been connected without actually naming her authority but stating it to be such as might be relied on\n",
      "   tensor(5549.2300, device='cuda:0', grad_fn=<ProdBackward0>)\n",
      "Ground truth , Predictions torch.Size([1, 5691]) torch.Size([1, 5691])\n",
      "\n",
      "   tensor(18708.9180, device='cuda:0', grad_fn=<ProdBackward0>)\n",
      "Ground truth , Predictions torch.Size([71, 5691]) torch.Size([71, 5691])\n",
      "mr bingley and jane remained at netherfield only a twelvemonth so near a vicinity to her mother and meryton relations was not desirable even to his easy temper or her affectionate heart the darling wish of his sisters was then gratified he bought an estate in a neighbouring county to derbyshire and jane and elizabeth in addition to every other source of happiness were within thirty miles of each other\n",
      "   tensor(6205.0137, device='cuda:0', grad_fn=<ProdBackward0>)\n",
      "Ground truth , Predictions torch.Size([110, 5691]) torch.Size([110, 5691])\n",
      "he then shut the door and coming up to her claimed the good wishes and affection of a sister elizabeth honestly and heartily expressed her delight in the prospect of their relationship they shook hands with great cordiality and then till her sister came down she had to listen to all he had to say of his own happiness and of jane is perfections and in spite of his being a lover elizabeth really believed all his expectations of felicity to be rationally founded because they had for basis the excellent understanding and superexcellent disposition of jane and a general similarity of feeling and taste between her and himself\n",
      "   tensor(5860.4355, device='cuda:0', grad_fn=<ProdBackward0>)\n",
      "Ground truth , Predictions torch.Size([216, 5691]) torch.Size([216, 5691])\n",
      "after walking two or three times along that part of the lane she was tempted by the pleasantness of the morning to stop at the gates and look into the park the five weeks which she had now passed in kent had made a great difference in the country and every day was adding to the verdure of the early trees she was on the point of continuing her walk when she caught a glimpse of a gentleman within the sort of grove which edged the park he was moving that way and fearful of its being mr darcy she was directly retreating but the person who advanced was now near enough to see her and stepping forward with eagerness pronounced her name she had turned away but on hearing herself called though in a voice which proved it to be mr darcy she moved again towards the gate he had by that time reached it also and holding out a letter which she instinctively took said with a look of haughty composure i have been walking in the grove some time in the hope of meeting you will you do me the honour of reading that letter and then with a slight bow turned again into the plantation and was soon out of sight\n",
      "   tensor(5667.0303, device='cuda:0', grad_fn=<ProdBackward0>)\n",
      "Ground truth , Predictions torch.Size([114, 5691]) torch.Size([114, 5691])\n",
      "mrs gardiner had seen pemberley and known the late mr darcy by character perfectly well here consequently was an inexhaustible subject of discourse in comparing her recollection of pemberley with the minute description which wickham could give and in bestowing her tribute of praise on the character of its late possessor she was delighting both him and herself on being made acquainted with the present mr darcy is treatment of him she tried to remember something of that gentleman is reputed disposition when quite a lad which might agree with it and was confident at last that she recollected having heard mr fitzwilliam darcy formerly spoken of as a very proud illnatured boy\n",
      "   tensor(6072.6104, device='cuda:0', grad_fn=<ProdBackward0>)\n",
      "Ground truth , Predictions torch.Size([220, 5691]) torch.Size([220, 5691])\n",
      "he had been some time with mr gardiner who with two or three other gentlemen from the house was engaged by the river and had left him only on learning that the ladies of the family intended a visit to georgiana that morning no sooner did he appear than elizabeth wisely resolved to be perfectly easy and unembarrassed a resolution the more necessary to be made but perhaps not the more easily kept because she saw that the suspicions of the whole party were awakened against them and that there was scarcely an eye which did not watch his behaviour when he first came into the room in no countenance was attentive curiosity so strongly marked as in miss bingley is in spite of the smiles which overspread her face whenever she spoke to one of its objects for jealousy had not yet made her desperate and her attentions to mr darcy were by no means over miss darcy on her brother is entrance exerted herself much more to talk and elizabeth saw that he was anxious for his sister and herself to get acquainted and forwarded as much as possible every attempt at conversation on either side miss bingley saw all this likewise and in the imprudence of anger took the first opportunity of saying with sneering civility\n",
      "   tensor(5566.2993, device='cuda:0', grad_fn=<ProdBackward0>)\n",
      "Ground truth , Predictions torch.Size([23, 5691]) torch.Size([23, 5691])\n",
      "elizabeth disdained the appearance of noticing this civil reflection but its meaning did not escape nor was it likely to conciliate her\n",
      "   tensor(5653.1772, device='cuda:0', grad_fn=<ProdBackward0>)\n",
      "Ground truth , Predictions torch.Size([96, 5691]) torch.Size([96, 5691])\n",
      "this letter gave elizabeth some pain but her spirits returned as she considered that jane would no longer be duped by the sister at least all expectation from the brother was now absolutely over she would not even wish for any renewal of his attentions his character sunk on every review of it and as a punishment for him as well as a possible advantage to jane she seriously hoped he might really soon marry mr darcy is sister as by wickham is account she would make him abundantly regret what he had thrown away\n",
      "   tensor(5500.2334, device='cuda:0', grad_fn=<ProdBackward0>)\n",
      "Ground truth , Predictions torch.Size([11, 5691]) torch.Size([11, 5691])\n",
      "and my mother how is she how are you all\n",
      "   tensor(6184.5708, device='cuda:0', grad_fn=<ProdBackward0>)\n",
      "Ground truth , Predictions torch.Size([22, 5691]) torch.Size([22, 5691])\n",
      "i did not know before continued bingley immediately that you were a studier of character it must be an amusing study\n",
      "   tensor(3786.1443, device='cuda:0', grad_fn=<ProdBackward0>)\n",
      "Ground truth , Predictions torch.Size([168, 5691]) torch.Size([168, 5691])\n",
      "mr wickham did not play at whist and with ready delight was he received at the other table between elizabeth and lydia at first there seemed danger of lydia is engrossing him entirely for she was a most determined talker but being likewise extremely fond of lottery tickets she soon grew too much interested in the game too eager in making bets and exclaiming after prizes to have attention for any one in particular allowing for the common demands of the game mr wickham was therefore at leisure to talk to elizabeth and she was very willing to hear him though what she chiefly wished to hear she could not hope to be told the history of his acquaintance with mr darcy she dared not even mention that gentleman her curiosity however was unexpectedly relieved mr wickham began the subject himself he inquired how far netherfield was from meryton and after receiving her answer asked in an hesitating manner how long mr darcy had been staying there\n",
      "   tensor(4960.2778, device='cuda:0', grad_fn=<ProdBackward0>)\n",
      "Ground truth , Predictions torch.Size([17, 5691]) torch.Size([17, 5691])\n",
      "oh no said elizabeth in essentials i believe he is very much what he ever was\n",
      "   tensor(5299.3091, device='cuda:0', grad_fn=<ProdBackward0>)\n",
      "Ground truth , Predictions torch.Size([25, 5691]) torch.Size([25, 5691])\n",
      "i am afraid mr darcy observed miss bingley in a half whisper that this adventure has rather affected your admiration of her fine eyes\n",
      "   tensor(3865.6411, device='cuda:0', grad_fn=<ProdBackward0>)\n",
      "Ground truth , Predictions torch.Size([51, 5691]) torch.Size([51, 5691])\n",
      "as mrs gardiner began to wish to be at home it was settled that she and her children should go to london at the same time that mr bennet came from it the coach therefore took them the first stage of their journey and brought its master back to longbourn\n",
      "   tensor(5491.3418, device='cuda:0', grad_fn=<ProdBackward0>)\n",
      "Ground truth , Predictions torch.Size([97, 5691]) torch.Size([97, 5691])\n",
      "the next day opened a new scene at longbourn mr collins made his declaration in form having resolved to do it without loss of time as his leave of absence extended only to the following saturday and having no feelings of diffidence to make it distressing to himself even at the moment he set about it in a very orderly manner with all the observances which he supposed a regular part of the business on finding mrs bennet elizabeth and one of the younger girls together soon after breakfast he addressed the mother in these words\n",
      "   tensor(5364.8101, device='cuda:0', grad_fn=<ProdBackward0>)\n",
      "Ground truth , Predictions torch.Size([10, 5691]) torch.Size([10, 5691])\n",
      "start of the project gutenberg ebook pride and prejudice\n",
      "   tensor(4614.7695, device='cuda:0', grad_fn=<ProdBackward0>)\n",
      "Ground truth , Predictions torch.Size([34, 5691]) torch.Size([34, 5691])\n",
      "if i can but see one of my daughters happily settled at netherfield said mrs bennet to her husband and all the others equally well married i shall have nothing to wish for\n",
      "   tensor(4757.2646, device='cuda:0', grad_fn=<ProdBackward0>)\n",
      "Ground truth , Predictions torch.Size([8, 5691]) torch.Size([8, 5691])\n",
      "a man who had felt less might\n",
      "   tensor(4919.6753, device='cuda:0', grad_fn=<ProdBackward0>)\n",
      "Ground truth , Predictions torch.Size([60, 5691]) torch.Size([60, 5691])\n",
      "no one but mrs bennet regretted that their stay would be so short and she made the most of the time by visiting about with her daughter and having very frequent parties at home these parties were acceptable to all to avoid a family circle was even more desirable to such as did think than such as did not\n",
      "   tensor(5583.1475, device='cuda:0', grad_fn=<ProdBackward0>)\n",
      "Ground truth , Predictions torch.Size([126, 5691]) torch.Size([126, 5691])\n",
      "they walked on without knowing in what direction there was too much to be thought and felt and said for attention to any other objects she soon learnt that they were indebted for their present good understanding to the efforts of his aunt who did call on him in her return through london and there relate her journey to longbourn its motive and the substance of her conversation with elizabeth dwelling emphatically on every expression of the latter which in her ladyship is apprehension peculiarly denoted her perverseness and assurance in the belief that such a relation must assist her endeavours to obtain that promise from her nephew which she had refused to give but unluckily for her ladyship its effect had been exactly contrariwise\n",
      "   tensor(5597.5737, device='cuda:0', grad_fn=<ProdBackward0>)\n",
      "Ground truth , Predictions torch.Size([6, 5691]) torch.Size([6, 5691])\n",
      "and you saw him frequently\n",
      "   tensor(4606.0620, device='cuda:0', grad_fn=<ProdBackward0>)\n",
      "Ground truth , Predictions torch.Size([29, 5691]) torch.Size([29, 5691])\n",
      "indeed sir i have not the least intention of dancing i entreat you not to suppose that i moved this way in order to beg for a partner\n",
      "   tensor(6380.1069, device='cuda:0', grad_fn=<ProdBackward0>)\n",
      "Ground truth , Predictions torch.Size([177, 5691]) torch.Size([177, 5691])\n",
      "oh my dear mr bennet as she entered the room we have had a most delightful evening a most excellent ball i wish you had been there jane was so admired nothing could be like it every body said how well she looked and mr bingley thought her quite beautiful and danced with her twice only think of that my dear he actually danced with her twice and she was the only creature in the room that he asked a second time first of all he asked miss lucas i was so vexed to see him stand up with her but however he did not admire her at all indeed nobody can you know and he seemed quite struck with jane as she was going down the dance so he enquired who she was and got introduced and asked her for the two next then the two third he danced with miss king and the two fourth with maria lucas and the two fifth with jane again and the two sixth with lizzy and the boulanger\n",
      "   tensor(5128.9893, device='cuda:0', grad_fn=<ProdBackward0>)\n",
      "Ground truth , Predictions torch.Size([6, 5691]) torch.Size([6, 5691])\n",
      "and what did she say\n",
      "   tensor(6073.9702, device='cuda:0', grad_fn=<ProdBackward0>)\n",
      "Ground truth , Predictions torch.Size([3, 5691]) torch.Size([3, 5691])\n",
      "chapter xv\n",
      "   tensor(3140.6226, device='cuda:0', grad_fn=<ProdBackward0>)\n",
      "Ground truth , Predictions torch.Size([161, 5691]) torch.Size([161, 5691])\n",
      "the entertainment of dining at rosings was repeated about twice a week and allowing for the loss of sir william and there being only one card table in the evening every such entertainment was the counterpart of the first their other engagements were few as the style of living of the neighbourhood in general was beyond the collinses reach this however was no evil to elizabeth and upon the whole she spent her time comfortably enough there were half hours of pleasant conversation with charlotte and the weather was so fine for the time of year that she had often great enjoyment out of doors her favourite walk and where she frequently went while the others were calling on lady catherine was along the open grove which edged that side of the park where there was a nice sheltered path which no one seemed to value but herself and where she felt beyond the reach of lady catherine is curiosity\n",
      "   tensor(5740.0791, device='cuda:0', grad_fn=<ProdBackward0>)\n",
      "Ground truth , Predictions torch.Size([36, 5691]) torch.Size([36, 5691])\n",
      "here they were interrupted by lady catherine who called out to know what they were talking of elizabeth immediately began playing again lady catherine approached and after listening for a few minutes said to darcy\n",
      "   tensor(7442.9878, device='cuda:0', grad_fn=<ProdBackward0>)\n",
      "Ground truth , Predictions torch.Size([33, 5691]) torch.Size([33, 5691])\n",
      "you may well be surprised miss bennet at such an assertion after seeing as you probably might the very cold manner of our meeting yesterday are you much acquainted with mr darcy\n",
      "   tensor(4567.6675, device='cuda:0', grad_fn=<ProdBackward0>)\n",
      "Ground truth , Predictions torch.Size([15, 5691]) torch.Size([15, 5691])\n",
      "as soon as they entered the copse lady catherine began in the following manner\n",
      "   tensor(3778.6648, device='cuda:0', grad_fn=<ProdBackward0>)\n",
      "Ground truth , Predictions torch.Size([4, 5691]) torch.Size([4, 5691])\n",
      "nearly three weeks\n",
      "   tensor(8229.1582, device='cuda:0', grad_fn=<ProdBackward0>)\n",
      "Ground truth , Predictions torch.Size([37, 5691]) torch.Size([37, 5691])\n",
      "the observations of her uncle and aunt now began and each of them pronounced him to be infinitely superior to any thing they had expected he is perfectly well behaved polite and unassuming said her uncle\n",
      "   tensor(6103.4355, device='cuda:0', grad_fn=<ProdBackward0>)\n",
      "Ground truth , Predictions torch.Size([20, 5691]) torch.Size([20, 5691])\n",
      "you used us abominably ill answered mrs hurst in running away without telling us that you were coming out\n",
      "   tensor(6264.4248, device='cuda:0', grad_fn=<ProdBackward0>)\n",
      "Ground truth , Predictions torch.Size([93, 5691]) torch.Size([93, 5691])\n",
      "i do assure you sir that i have no pretension whatever to that kind of elegance which consists in tormenting a respectable man i would rather be paid the compliment of being believed sincere i thank you again and again for the honour you have done me in your proposals but to accept them is absolutely impossible my feelings in every respect forbid it can i speak plainer do not consider me now as an elegant female intending to plague you but as a rational creature speaking the truth from her heart\n",
      "   tensor(5643.8306, device='cuda:0', grad_fn=<ProdBackward0>)\n",
      "Ground truth , Predictions torch.Size([115, 5691]) torch.Size([115, 5691])\n",
      "she burst into tears as she alluded to it and for a few minutes could not speak another word darcy in wretched suspense could only say something indistinctly of his concern and observe her in compassionate silence at length she spoke again i have just had a letter from jane with such dreadful news it cannot be concealed from any one my youngest sister has left all her friends has eloped has thrown herself into the power of of mr wickham they are gone off together from brighton you know him too well to doubt the rest she has no money no connections nothing that can tempt him to she is lost for ever\n",
      "   tensor(5798.6689, device='cuda:0', grad_fn=<ProdBackward0>)\n",
      "Ground truth , Predictions torch.Size([21, 5691]) torch.Size([21, 5691])\n",
      "much more rational my dear caroline i dare say but it would not be near so much like a ball\n",
      "   tensor(3912.5730, device='cuda:0', grad_fn=<ProdBackward0>)\n",
      "Ground truth , Predictions torch.Size([34, 5691]) torch.Size([34, 5691])\n",
      "indeed replied elizabeth i am heartily sorry for him but he has other feelings which will probably soon drive away his regard for me you do not blame me however for refusing him\n",
      "   tensor(5051.0127, device='cuda:0', grad_fn=<ProdBackward0>)\n",
      "Ground truth , Predictions torch.Size([93, 5691]) torch.Size([93, 5691])\n",
      "the whist party soon afterwards breaking up the players gathered round the other table and mr collins took his station between his cousin elizabeth and mrs philips the usual inquiries as to his success were made by the latter it had not been very great he had lost every point but when mrs philips began to express her concern thereupon he assured her with much earnest gravity that it was not of the least importance that he considered the money as a mere trifle and begged she would not make herself uneasy\n",
      "   tensor(4699.2876, device='cuda:0', grad_fn=<ProdBackward0>)\n",
      "Ground truth , Predictions torch.Size([28, 5691]) torch.Size([28, 5691])\n",
      "some time or other he will be but it shall not be by me till i can forget his father i can never defy or expose him\n",
      "   tensor(4716.1704, device='cuda:0', grad_fn=<ProdBackward0>)\n",
      "Ground truth , Predictions torch.Size([37, 5691]) torch.Size([37, 5691])\n",
      "indeed i have sir was her answer she is a great deal too ill to be moved mr jones says we must not think of moving her we must trespass a little longer on your kindness\n",
      "   tensor(3656.1853, device='cuda:0', grad_fn=<ProdBackward0>)\n",
      "Ground truth , Predictions torch.Size([13, 5691]) torch.Size([13, 5691])\n",
      "his misfortunes repeated darcy contemptuously yes his misfortunes have been great indeed\n",
      "   tensor(5347.3154, device='cuda:0', grad_fn=<ProdBackward0>)\n",
      "Ground truth , Predictions torch.Size([18, 5691]) torch.Size([18, 5691])\n",
      "but you how are you cried elizabeth you look pale how much you must have gone through\n",
      "   tensor(4264.0283, device='cuda:0', grad_fn=<ProdBackward0>)\n",
      "Ground truth , Predictions torch.Size([46, 5691]) torch.Size([46, 5691])\n",
      "mrs bennet was prevented replying by the entrance of the footman with a note for miss bennet it came from netherfield and the servant waited for an answer mrs bennet is eyes sparkled with pleasure and she was eagerly calling out while her daughter read\n",
      "   tensor(4332.1851, device='cuda:0', grad_fn=<ProdBackward0>)\n",
      "Ground truth , Predictions torch.Size([55, 5691]) torch.Size([55, 5691])\n",
      "now said she that this first meeting is over i feel perfectly easy i know my own strength and i shall never be embarrassed again by his coming i am glad he dines here on tuesday it will then be publicly seen that on both sides we meet only as common and indifferent acquaintance\n",
      "   tensor(6297.0063, device='cuda:0', grad_fn=<ProdBackward0>)\n",
      "Ground truth , Predictions torch.Size([58, 5691]) torch.Size([58, 5691])\n",
      "this was a lucky idea of mine indeed said mrs bennet more than once as if the credit of making it rain were all her own till the next morning however she was not aware of all the felicity of her contrivance breakfast was scarcely over when a servant from netherfield brought the following note for elizabeth\n",
      "   tensor(5096.7905, device='cuda:0', grad_fn=<ProdBackward0>)\n",
      "Ground truth , Predictions torch.Size([29, 5691]) torch.Size([29, 5691])\n",
      "as much as i ever wish to be cried elizabeth warmly i have spent four days in the same house with him and i think him very disagreeable\n",
      "   tensor(5509.1963, device='cuda:0', grad_fn=<ProdBackward0>)\n",
      "Ground truth , Predictions torch.Size([33, 5691]) torch.Size([33, 5691])\n",
      "to this speech bingley made no answer but his sisters gave it their hearty assent and indulged their mirth for some time at the expense of their dear friend is vulgar relations\n",
      "   tensor(5032.2153, device='cuda:0', grad_fn=<ProdBackward0>)\n",
      "Ground truth , Predictions torch.Size([133, 5691]) torch.Size([133, 5691])\n",
      "darcy after enquiring of her how mr and mrs gardiner did a question which she could not answer without confusion said scarcely any thing he was not seated by her perhaps that was the reason of his silence but it had not been so in derbyshire there he had talked to her friends when he could not to herself but now several minutes elapsed without bringing the sound of his voice and when occasionally unable to resist the impulse of curiosity she raised her eyes to his face she as often found him looking at jane as at herself and frequently on no object but the ground more thoughtfulness and less anxiety to please than when they last met were plainly expressed she was disappointed and angry with herself for being so\n",
      "   tensor(5869.0015, device='cuda:0', grad_fn=<ProdBackward0>)\n",
      "Ground truth , Predictions torch.Size([42, 5691]) torch.Size([42, 5691])\n",
      "catherine was disconcerted and made no answer but lydia with perfect indifference continued to express her admiration of captain carter and her hope of seeing him in the course of the day as he was going the next morning to london\n",
      "   tensor(5647.1577, device='cuda:0', grad_fn=<ProdBackward0>)\n",
      "Ground truth , Predictions torch.Size([52, 5691]) torch.Size([52, 5691])\n",
      "i am sure i know none so handsome but in the gallery up stairs you will see a finer larger picture of him than this this room was my late master is favourite room and these miniatures are just as they used to be then he was very fond of them\n",
      "   tensor(5238.7446, device='cuda:0', grad_fn=<ProdBackward0>)\n",
      "Ground truth , Predictions torch.Size([36, 5691]) torch.Size([36, 5691])\n",
      "it is your turn to say something now mr darcy i talked about the dance and you ought to make some kind of remark on the size of the room or the number of couples\n",
      "   tensor(5992.9326, device='cuda:0', grad_fn=<ProdBackward0>)\n",
      "Ground truth , Predictions torch.Size([173, 5691]) torch.Size([173, 5691])\n",
      "and this cried darcy as he walked with quick steps across the room is your opinion of me this is the estimation in which you hold me i thank you for explaining it so fully my faults according to this calculation are heavy indeed but perhaps added he stopping in his walk and turning towards her these offences might have been overlooked had not your pride been hurt by my honest confession of the scruples that had long prevented my forming any serious design these bitter accusations might have been suppressed had i with greater policy concealed my struggles and flattered you into the belief of my being impelled by unqualified unalloyed inclination by reason by reflection by every thing but disguise of every sort is my abhorrence nor am i ashamed of the feelings i related they were natural and just could you expect me to rejoice in the inferiority of your connections to congratulate myself on the hope of relations whose condition in life is so decidedly beneath my own\n",
      "   tensor(6156.4468, device='cuda:0', grad_fn=<ProdBackward0>)\n",
      "Ground truth , Predictions torch.Size([1, 5691]) torch.Size([1, 5691])\n",
      "\n",
      "   tensor(18708.9180, device='cuda:0', grad_fn=<ProdBackward0>)\n",
      "Ground truth , Predictions torch.Size([12, 5691]) torch.Size([12, 5691])\n",
      "if your master would marry you might see more of him\n",
      "   tensor(5478.9302, device='cuda:0', grad_fn=<ProdBackward0>)\n",
      "Ground truth , Predictions torch.Size([4, 5691]) torch.Size([4, 5691])\n",
      "in three volumes\n",
      "   tensor(6470.1987, device='cuda:0', grad_fn=<ProdBackward0>)\n",
      "Ground truth , Predictions torch.Size([37, 5691]) torch.Size([37, 5691])\n",
      "1 e 4 do not unlink or detach or remove the full project gutenbergtm license terms from this work or any files containing a part of this work or any other work associated with project gutenbergtm\n",
      "   tensor(5363.4268, device='cuda:0', grad_fn=<ProdBackward0>)\n",
      "Ground truth , Predictions torch.Size([3, 5691]) torch.Size([3, 5691])\n",
      "pride prejudice\n",
      "   tensor(4258.8726, device='cuda:0', grad_fn=<ProdBackward0>)\n",
      "Ground truth , Predictions torch.Size([103, 5691]) torch.Size([103, 5691])\n",
      "i will go to meryton said she as soon as i am dressed and tell the good good news to my sister philips and as i come back i can call on lady lucas and mrs long kitty run down and order the carriage an airing would do me a great deal of good i am sure girls can i do any thing for you in meryton oh here comes hill my dear hill have you heard the good news miss lydia is going to be married and you shall all have a bowl of punch to make merry at her wedding\n",
      "   tensor(6059.5815, device='cuda:0', grad_fn=<ProdBackward0>)\n",
      "Ground truth , Predictions torch.Size([21, 5691]) torch.Size([21, 5691])\n",
      "lizzy when you first read that letter i am sure you could not treat the matter as you do now\n",
      "   tensor(4864.0356, device='cuda:0', grad_fn=<ProdBackward0>)\n",
      "Ground truth , Predictions torch.Size([55, 5691]) torch.Size([55, 5691])\n",
      "both replied elizabeth archly for i have always seen a great similarity in the turn of our minds we are each of an unsocial taciturn disposition unwilling to speak unless we expect to say something that will amaze the whole room and be handed down to posterity with all the eclat of a proverb\n",
      "   tensor(4836.0244, device='cuda:0', grad_fn=<ProdBackward0>)\n",
      "Ground truth , Predictions torch.Size([83, 5691]) torch.Size([83, 5691])\n",
      "in this room they were received by miss darcy who was sitting there with mrs hurst and miss bingley and the lady with whom she lived in london georgiana is reception of them was very civil but attended with all that embarrassment which though proceeding from shyness and the fear of doing wrong would easily give to those who felt themselves inferior the belief of her being proud and reserved mrs gardiner and her niece however did her justice and pitied her\n",
      "   tensor(6138.5415, device='cuda:0', grad_fn=<ProdBackward0>)\n",
      "Ground truth , Predictions torch.Size([93, 5691]) torch.Size([93, 5691])\n",
      "the agitation and tears which the subject occasioned brought on a headache and it grew so much worse towards the evening that added to her unwillingness to see mr darcy it determined her not to attend her cousins to rosings where they were engaged to drink tea mrs collins seeing that she was really unwell did not press her to go and as much as possible prevented her husband from pressing her but mr collins could not conceal his apprehension of lady catherine is being rather displeased by her staying at home\n",
      "   tensor(5058.6060, device='cuda:0', grad_fn=<ProdBackward0>)\n",
      "Ground truth , Predictions torch.Size([44, 5691]) torch.Size([44, 5691])\n",
      "oh yes he was to come there with wickham you know but gracious me i quite forgot i ought not to have said a word about it i promised them so faithfully what will wickham say it was to be such a secret\n",
      "   tensor(6434.3354, device='cuda:0', grad_fn=<ProdBackward0>)\n",
      "Ground truth , Predictions torch.Size([51, 5691]) torch.Size([51, 5691])\n",
      "her impatience for this second letter was as well rewarded as impatience generally is jane had been a week in town without either seeing or hearing from caroline she accounted for it however by supposing that her last letter to her friend from longbourn had by some accident been lost\n",
      "   tensor(5764.7134, device='cuda:0', grad_fn=<ProdBackward0>)\n",
      "Ground truth , Predictions torch.Size([38, 5691]) torch.Size([38, 5691])\n",
      "whatever i do is done in a hurry replied he and therefore if i should resolve to quit netherfield i should probably be off in five minutes at present however i consider myself as quite fixed here\n",
      "   tensor(6595.6743, device='cuda:0', grad_fn=<ProdBackward0>)\n",
      "Ground truth , Predictions torch.Size([26, 5691]) torch.Size([26, 5691])\n",
      "her daughter miss de bourgh will have a very large fortune and it is believed that she and her cousin will unite the two estates\n",
      "   tensor(5829.6846, device='cuda:0', grad_fn=<ProdBackward0>)\n",
      "Ground truth , Predictions torch.Size([50, 5691]) torch.Size([50, 5691])\n",
      "you shall have it in few words miss bingley sees that her brother is in love with you and wants him to marry miss darcy she follows him to town in the hope of keeping him there and tries to persuade you that he does not care about you\n",
      "   tensor(6824.9995, device='cuda:0', grad_fn=<ProdBackward0>)\n",
      "Ground truth , Predictions torch.Size([14, 5691]) torch.Size([14, 5691])\n",
      "i think you said she was a widow sir has she any family\n",
      "   tensor(4603.5459, device='cuda:0', grad_fn=<ProdBackward0>)\n",
      "Ground truth , Predictions torch.Size([22, 5691]) torch.Size([22, 5691])\n",
      "she was in no humour for conversation with any one but himself and to him she had hardly courage to speak\n",
      "   tensor(6967.1743, device='cuda:0', grad_fn=<ProdBackward0>)\n",
      "Ground truth , Predictions torch.Size([11, 5691]) torch.Size([11, 5691])\n",
      "yes very well i saw them the night before last\n",
      "   tensor(6784.5796, device='cuda:0', grad_fn=<ProdBackward0>)\n",
      "Ground truth , Predictions torch.Size([151, 5691]) torch.Size([151, 5691])\n",
      "i began to be afraid you would never come back again people did say you meant to quit the place entirely at michaelmas but however i hope it is not true a great many changes have happened in the neighbourhood since you went away miss lucas is married and settled and one of my own daughters i suppose you have heard of it indeed you must have seen it in the papers it was in the times and the courier i know though it was not put in as it ought to be it was only said lately george wickham esq to miss lydia bennet without there being a syllable said of her father or the place where she lived or any thing it was my brother gardiner is drawing up too and i wonder how he came to make such an awkward business of it did you see it\n",
      "   tensor(5473.7549, device='cuda:0', grad_fn=<ProdBackward0>)\n",
      "Ground truth , Predictions torch.Size([22, 5691]) torch.Size([22, 5691])\n",
      "i have not the pleasure of understanding you said he when she had finished her speech of what are you talking\n",
      "   tensor(4304.4238, device='cuda:0', grad_fn=<ProdBackward0>)\n",
      "Ground truth , Predictions torch.Size([43, 5691]) torch.Size([43, 5691])\n",
      "the joy which miss darcy expressed on receiving similar information was as sincere as her brother is in sending it four sides of paper were insufficient to contain all her delight and all her earnest desire of being loved by her sister\n",
      "   tensor(5739.3115, device='cuda:0', grad_fn=<ProdBackward0>)\n",
      "Ground truth , Predictions torch.Size([48, 5691]) torch.Size([48, 5691])\n",
      "bingley from this time was of course a daily visitor at longbourn coming frequently before breakfast and always remaining till after supper unless when some barbarous neighbour who could not be enough detested had given him an invitation to dinner which he thought himself obliged to accept\n",
      "   tensor(5265.0488, device='cuda:0', grad_fn=<ProdBackward0>)\n",
      "Ground truth , Predictions torch.Size([53, 5691]) torch.Size([53, 5691])\n",
      "miss bennet would not play at all amiss if she practised more and could have the advantage of a london master she has a very good notion of fingering though her taste is not equal to anne is anne would have been a delightful performer had her health allowed her to learn\n",
      "   tensor(4556.3276, device='cuda:0', grad_fn=<ProdBackward0>)\n",
      "Ground truth , Predictions torch.Size([24, 5691]) torch.Size([24, 5691])\n",
      "miss bingley however was incapable of disappointing mr darcy in any thing and persevered therefore in requiring an explanation of his two motives\n",
      "   tensor(5330.6489, device='cuda:0', grad_fn=<ProdBackward0>)\n",
      "Ground truth , Predictions torch.Size([13, 5691]) torch.Size([13, 5691])\n",
      "i understood that there were some very strong objections against the lady\n",
      "   tensor(3700.0059, device='cuda:0', grad_fn=<ProdBackward0>)\n",
      "Ground truth , Predictions torch.Size([3, 5691]) torch.Size([3, 5691])\n",
      "chapter vi\n",
      "   tensor(2780.6494, device='cuda:0', grad_fn=<ProdBackward0>)\n",
      "Ground truth , Predictions torch.Size([31, 5691]) torch.Size([31, 5691])\n",
      "he listened to her with perfect indifference while she chose to entertain herself in this manner and as his composure convinced her that all was safe her wit flowed long\n",
      "   tensor(6989.7471, device='cuda:0', grad_fn=<ProdBackward0>)\n"
     ]
    }
   ],
   "source": [
    "def preplixity(ground_truth,predicted):\n",
    "    print(\"Ground truth , Predictions\",ground_truth.shape,predicted.shape)\n",
    "    index_gt = torch.argmax(ground_truth,dim=1)\n",
    "    # print(\"Ground truth Index: \",index_gt)\n",
    "    row = torch.arange(index_gt.shape[0]).to(device)\n",
    "    probablity = predicted[row,index_gt]\n",
    "    # print(probablity,probablity.shape)\n",
    "    power_p = torch.pow(probablity,-1/probablity.shape[0])\n",
    "    # print(power_p,power_p.shape)\n",
    "    preplex = torch.prod(power_p)\n",
    "    return preplex\n",
    "\n",
    "for sent in val_sents:\n",
    "    tokens = tokenizer(sent,idx_word,word_idx,final_vocab)\n",
    "    tok_sent = torch.tensor(tokens[:-1]).to(device)\n",
    "    ground_truth = torch.nn.functional.one_hot(torch.tensor(tokens[1:]),num_classes=len(final_vocab)).to(device)\n",
    "    pred = LM_1(tok_sent)\n",
    "    print(sent,' ',preplixity(ground_truth,pred))\n"
   ]
  },
  {
   "cell_type": "code",
   "execution_count": null,
   "id": "6fc3a3cd-6c54-4bfb-a669-e21d7288cd9e",
   "metadata": {},
   "outputs": [],
   "source": []
  }
 ],
 "metadata": {
  "kernelspec": {
   "display_name": "Python 3 (ipykernel)",
   "language": "python",
   "name": "python3"
  },
  "language_info": {
   "codemirror_mode": {
    "name": "ipython",
    "version": 3
   },
   "file_extension": ".py",
   "mimetype": "text/x-python",
   "name": "python",
   "nbconvert_exporter": "python",
   "pygments_lexer": "ipython3",
   "version": "3.9.16"
  }
 },
 "nbformat": 4,
 "nbformat_minor": 5
}
