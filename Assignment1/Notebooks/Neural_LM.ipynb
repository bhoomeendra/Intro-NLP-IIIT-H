{
 "cells": [
  {
   "cell_type": "code",
   "execution_count": 1,
   "id": "df732f8e-3c38-49e0-9949-f542b3725c9e",
   "metadata": {},
   "outputs": [],
   "source": [
    "import torch\n",
    "import torch.utils.data.dataloader\n",
    "import torch.utils.data.dataset\n",
    "import torch.nn as nn\n",
    "import wandb"
   ]
  },
  {
   "cell_type": "code",
   "execution_count": 2,
   "id": "bb2a60b7-7838-48bf-8f13-4176f583dccb",
   "metadata": {},
   "outputs": [
    {
     "name": "stderr",
     "output_type": "stream",
     "text": [
      "\u001b[34m\u001b[1mwandb\u001b[0m: Currently logged in as: \u001b[33mbss\u001b[0m. Use \u001b[1m`wandb login --relogin`\u001b[0m to force relogin\n"
     ]
    },
    {
     "data": {
      "text/plain": [
       "True"
      ]
     },
     "execution_count": 2,
     "metadata": {},
     "output_type": "execute_result"
    }
   ],
   "source": [
    "wandb.login()"
   ]
  },
  {
   "cell_type": "markdown",
   "id": "f4c88f11-cf6e-4e73-89e6-1ed70acaadc0",
   "metadata": {},
   "source": [
    "### Loading dataset and train test split"
   ]
  },
  {
   "cell_type": "code",
   "execution_count": 3,
   "id": "ccbaa199-aed6-45a5-823e-0404f022bd63",
   "metadata": {},
   "outputs": [],
   "source": [
    "pp_text = open('../data/clean_pp.txt').readlines() \n",
    "import random\n",
    "from random import shuffle\n",
    "random.seed(42)\n",
    "shuffle(pp_text)\n",
    "l = len(pp_text)\n",
    "trl = int(0.7*l)\n",
    "vrl = int(0.15*l)\n",
    "train_sents = pp_text[:trl]\n",
    "val_sents = pp_text[trl:trl+vrl]\n",
    "test_sents = pp_text[trl+vrl:]"
   ]
  },
  {
   "cell_type": "markdown",
   "id": "a1f77ef2-74df-47fa-9111-90a69664adeb",
   "metadata": {},
   "source": [
    "## Making Proper Tokenization"
   ]
  },
  {
   "cell_type": "markdown",
   "id": "2b483ece-5f97-4f00-a098-f9420be32e54",
   "metadata": {},
   "source": [
    "### Making vocabulary Reserve for [PAD] , [UNK] , [STR] , [END]"
   ]
  },
  {
   "cell_type": "markdown",
   "id": "1cdae950-a8ad-436c-bc85-b64ef203063a",
   "metadata": {},
   "source": [
    "#### Load Glove embedding"
   ]
  },
  {
   "cell_type": "code",
   "execution_count": 4,
   "id": "0bea1df3-a95a-4970-89bf-c533bc253ed9",
   "metadata": {},
   "outputs": [],
   "source": [
    "vocab_embeddings = dict()\n",
    "with open('../../Embedding/glove.6B.50d.txt','rt') as fi:\n",
    "    full_content = fi.read().strip().split('\\n')\n",
    "for i in range(len(full_content)):\n",
    "    i_word = full_content[i].split(' ')[0]\n",
    "    i_embeddings = [float(val) for val in full_content[i].split(' ')[1:]]\n",
    "    vocab_embeddings[i_word] = i_embeddings"
   ]
  },
  {
   "cell_type": "code",
   "execution_count": 5,
   "id": "9a381f72-8101-40e4-94cc-db7c76991fa2",
   "metadata": {},
   "outputs": [],
   "source": [
    "vocab_dim = 50"
   ]
  },
  {
   "cell_type": "markdown",
   "id": "c8410a6a-20bb-4f0f-b6b5-2cac14924baf",
   "metadata": {},
   "source": [
    "#### Train Vocab"
   ]
  },
  {
   "cell_type": "code",
   "execution_count": 6,
   "id": "4ed9085e-aa94-4a3c-ba81-5b0504966ab6",
   "metadata": {},
   "outputs": [],
   "source": [
    "train_vocab = set()\n",
    "for sent in train_sents:\n",
    "    for word in sent.split():\n",
    "        train_vocab.add(word)"
   ]
  },
  {
   "cell_type": "code",
   "execution_count": 7,
   "id": "c655fc0e-4e32-4ec8-9fc3-a71222db5866",
   "metadata": {},
   "outputs": [
    {
     "data": {
      "text/plain": [
       "5925"
      ]
     },
     "execution_count": 7,
     "metadata": {},
     "output_type": "execute_result"
    }
   ],
   "source": [
    "train_vocab = list(train_vocab)\n",
    "len(train_vocab)"
   ]
  },
  {
   "cell_type": "code",
   "execution_count": 8,
   "id": "d47a170a-acec-41f3-917f-835e2243bd97",
   "metadata": {},
   "outputs": [
    {
     "data": {
      "text/plain": [
       "['[PAD]', '[UNK]', '[STR]', '[END]', 'extracts']"
      ]
     },
     "execution_count": 8,
     "metadata": {},
     "output_type": "execute_result"
    }
   ],
   "source": [
    "res = 4\n",
    "word_idx = {k:v+res for (v,k) in enumerate(train_vocab)}\n",
    "word_idx['[PAD]'] = 0\n",
    "word_idx['[UNK]'] = 1\n",
    "word_idx['[STR]'] = 2\n",
    "word_idx['[END]'] = 3\n",
    "\n",
    "train_vocab.insert(0,'[PAD]')\n",
    "train_vocab.insert(1,'[UNK]')\n",
    "train_vocab.insert(2,'[STR]')\n",
    "train_vocab.insert(3,'[END]')\n",
    "\n",
    "train_vocab[:5]"
   ]
  },
  {
   "cell_type": "code",
   "execution_count": 9,
   "id": "bcefa4af-f971-47a0-8e1f-4d20b62d134c",
   "metadata": {},
   "outputs": [
    {
     "data": {
      "text/plain": [
       "('[PAD]', '[UNK]', '[STR]')"
      ]
     },
     "execution_count": 9,
     "metadata": {},
     "output_type": "execute_result"
    }
   ],
   "source": [
    "idx_word =  { v:k for k,v in word_idx.items() }\n",
    "idx_word[0],idx_word[1],idx_word[2]"
   ]
  },
  {
   "cell_type": "code",
   "execution_count": 10,
   "id": "59d3f48a-e976-4e24-8d24-d2aab27cc5b3",
   "metadata": {},
   "outputs": [
    {
     "name": "stdout",
     "output_type": "stream",
     "text": [
      "(50,) (50,) (50,)\n"
     ]
    },
    {
     "name": "stderr",
     "output_type": "stream",
     "text": [
      "UNK Prep: 100%|██████████████████████████████████████████████████████████████████████████████████████████████████████████████████| 5687/5687 [00:00<00:00, 209213.04it/s]"
     ]
    },
    {
     "name": "stdout",
     "output_type": "stream",
     "text": [
      "5929 5687 0.9591836734693877\n"
     ]
    },
    {
     "name": "stderr",
     "output_type": "stream",
     "text": [
      "\n"
     ]
    }
   ],
   "source": [
    "from tqdm import tqdm\n",
    "import numpy as np\n",
    "\n",
    "## Embedding for SPECIAL Token \n",
    "unk_embedding = np.array([0 for i in range(vocab_dim)],dtype=np.float64) # Average of all tokens\n",
    "start_embedding = np.random.rand(vocab_dim)\n",
    "end_embedding = np.random.rand(vocab_dim)\n",
    "pad_embedding = np.zeros(vocab_dim)\n",
    "\n",
    "print(unk_embedding.shape,start_embedding.shape,pad_embedding.shape)\n",
    "\n",
    "\n",
    "vocab_set = set(train_vocab)\n",
    "glove_set = set(vocab_embeddings.keys())\n",
    "vocab_interset = 0\n",
    "interset = vocab_set.intersection(glove_set)\n",
    "\n",
    "for word in tqdm(interset,desc='UNK Prep'):\n",
    "    vocab_interset +=1\n",
    "    unk_embedding += np.array(vocab_embeddings[word])\n",
    "\n",
    "unk_embedding = unk_embedding/vocab_interset\n",
    "print(len(vocab_set),vocab_interset,vocab_interset/(len(vocab_set)))"
   ]
  },
  {
   "cell_type": "code",
   "execution_count": 11,
   "id": "0e77ead8-dfe6-46fb-8012-768a06ac9e08",
   "metadata": {},
   "outputs": [
    {
     "data": {
      "text/plain": [
       "5687"
      ]
     },
     "execution_count": 11,
     "metadata": {},
     "output_type": "execute_result"
    }
   ],
   "source": [
    "len(interset)"
   ]
  },
  {
   "cell_type": "code",
   "execution_count": 12,
   "id": "6864d34a-0067-4dd7-8a90-cc2e0eec6ff8",
   "metadata": {},
   "outputs": [],
   "source": [
    "final_vocab = []\n",
    "train_embedding = []\n",
    "UNK_list = []\n",
    "count = 0\n",
    "for word in train_vocab:\n",
    "    if word in glove_set:\n",
    "        final_vocab.append(word)\n",
    "        train_embedding.append(vocab_embeddings[word])\n",
    "    elif word == '[PAD]':\n",
    "        final_vocab.append(word)\n",
    "        train_embedding.append(pad_embedding)\n",
    "    elif word == '[UNK]':\n",
    "        final_vocab.append(word)\n",
    "        train_embedding.append(unk_embedding)\n",
    "    elif word == '[STR]':\n",
    "        final_vocab.append(word)\n",
    "        train_embedding.append(start_embedding)\n",
    "    elif word == '[END]':\n",
    "        final_vocab.append(word)\n",
    "        train_embedding.append(end_embedding)\n",
    "    else: # Ever thing else is [UNK]:\n",
    "        count+=1\n",
    "        UNK_list.append(word)\n",
    "        # train_embedding.append(unk_embedding)"
   ]
  },
  {
   "cell_type": "code",
   "execution_count": 13,
   "id": "b8503228-a45d-4f18-9cd3-47ab28a6024d",
   "metadata": {},
   "outputs": [],
   "source": [
    "word_idx = {k:v for (v,k) in enumerate(final_vocab)}\n",
    "idx_word =  { v:k for k,v in word_idx.items() }"
   ]
  },
  {
   "cell_type": "code",
   "execution_count": 14,
   "id": "9210dc29-e3ab-4e66-af57-ef73a1f3ef28",
   "metadata": {},
   "outputs": [
    {
     "data": {
      "text/plain": [
       "(['[PAD]',\n",
       "  '[UNK]',\n",
       "  '[STR]',\n",
       "  '[END]',\n",
       "  'extracts',\n",
       "  'failure',\n",
       "  'witnessing',\n",
       "  'xvii',\n",
       "  'cost',\n",
       "  'longer',\n",
       "  'eleven',\n",
       "  'appointment',\n",
       "  'another',\n",
       "  'spars',\n",
       "  'comply'],\n",
       " ['[PAD]',\n",
       "  '[UNK]',\n",
       "  '[STR]',\n",
       "  '[END]',\n",
       "  'extracts',\n",
       "  'failure',\n",
       "  'witnessing',\n",
       "  'xvii',\n",
       "  'cost',\n",
       "  'longer',\n",
       "  'eleven',\n",
       "  'appointment',\n",
       "  'another',\n",
       "  'spars',\n",
       "  'comply'])"
      ]
     },
     "execution_count": 14,
     "metadata": {},
     "output_type": "execute_result"
    }
   ],
   "source": [
    "final_vocab[:15],train_vocab[:15]"
   ]
  },
  {
   "cell_type": "code",
   "execution_count": 15,
   "id": "1702c931-6bf4-4f3c-8b95-b0e266abb35f",
   "metadata": {},
   "outputs": [
    {
     "data": {
      "text/plain": [
       "(5691, 5691)"
      ]
     },
     "execution_count": 15,
     "metadata": {},
     "output_type": "execute_result"
    }
   ],
   "source": [
    "len(train_embedding),len(final_vocab)"
   ]
  },
  {
   "cell_type": "code",
   "execution_count": 16,
   "id": "882aefcd-7d1e-44d8-bd7b-187d3b7be7a1",
   "metadata": {},
   "outputs": [],
   "source": [
    "final_vocab =set(final_vocab)\n",
    "def tokenizer(text):\n",
    "    tokens = []\n",
    "    text = text.strip('\\n')\n",
    "    text = idx_word[2]+' '+text+' '+idx_word[3]\n",
    "    # print(text)\n",
    "    for word in text.split():\n",
    "        if word in final_vocab:\n",
    "            tokens.append(word_idx[word])\n",
    "        else:\n",
    "            tokens.append(word_idx['[UNK]']) # update []\n",
    "    return tokens"
   ]
  },
  {
   "cell_type": "code",
   "execution_count": 17,
   "id": "ee13c141-cb14-4319-8f34-b4e2bdc889d3",
   "metadata": {},
   "outputs": [],
   "source": [
    "class LM(nn.Module):\n",
    "    \n",
    "    def __init__(self,config,embedding):\n",
    "        super().__init__()\n",
    "        self.config = config\n",
    "        # This will tak token ids an make enbedding out of it\n",
    "        # Embedding are from glove and should be frezzed from learning\n",
    "        self.embedding = nn.Embedding.from_pretrained(torch.from_numpy(embedding).float())\n",
    "        self.LSTM = nn.LSTM(num_layers=self.config['num_layers'],input_size=self.config['embedding'],hidden_size=self.config['hidden'])\n",
    "        self.convert_vocab = nn.Linear(in_features=self.config['hidden'],out_features=self.config['vocab_size'])\n",
    "        self.softmax = nn.Softmax(dim=1)\n",
    "    def forward(self,token_seq):\n",
    "        x = self.embedding(token_seq)\n",
    "        out,_ = self.LSTM(x) # (h_n,c_n)\n",
    "        convert_output = self.convert_vocab(out)\n",
    "        prob = self.softmax(convert_output)\n",
    "        return prob"
   ]
  },
  {
   "cell_type": "markdown",
   "id": "f36f0ad4-16e8-4abe-a92f-1716ca939cdd",
   "metadata": {},
   "source": [
    "words which are not in glove will become unk"
   ]
  },
  {
   "cell_type": "code",
   "execution_count": 18,
   "id": "b65b12da-8efe-46b9-b088-af51471e2b83",
   "metadata": {},
   "outputs": [],
   "source": [
    "from torch.utils.data import Dataset\n",
    "class Dataset(Dataset):\n",
    "    def __init__(self,data,vocab_size):\n",
    "        self.data = data\n",
    "        self.vocab_size = vocab_size\n",
    "    def __len__(self):\n",
    "        return len(self.data)\n",
    "    \n",
    "    def __getitem__(self,idx):\n",
    "        # print(self.data[idx])\n",
    "        out = tokenizer(self.data[idx])\n",
    "        inputs = out[:-1]# Last token is [END] will not include in data\n",
    "        labels = out[1:]# First token is [STR] will never be predected\n",
    "        # print(out)\n",
    "        return torch.tensor(inputs),torch.nn.functional.one_hot(torch.tensor(labels),num_classes=self.vocab_size)"
   ]
  },
  {
   "cell_type": "code",
   "execution_count": 19,
   "id": "4bf39007-8c85-4638-983b-25dafee1eaa7",
   "metadata": {},
   "outputs": [
    {
     "data": {
      "text/plain": [
       "5691"
      ]
     },
     "execution_count": 19,
     "metadata": {},
     "output_type": "execute_result"
    }
   ],
   "source": [
    "len(final_vocab)"
   ]
  },
  {
   "cell_type": "code",
   "execution_count": 20,
   "id": "1c4ddb6d-d1fc-426d-8f78-aee52ce51072",
   "metadata": {},
   "outputs": [],
   "source": [
    "train_dataset = Dataset(train_sents,len(final_vocab))\n",
    "val_dataset = Dataset(val_sents,len(final_vocab))\n",
    "test_dataset = Dataset(test_sents,len(final_vocab))"
   ]
  },
  {
   "cell_type": "code",
   "execution_count": 21,
   "id": "f9ab5485-1362-41ce-84e2-339228024465",
   "metadata": {},
   "outputs": [],
   "source": [
    "a,b = train_dataset[0]"
   ]
  },
  {
   "cell_type": "code",
   "execution_count": 22,
   "id": "3f7a619a-c6c7-40eb-a26d-4fd27bc24e81",
   "metadata": {},
   "outputs": [
    {
     "data": {
      "text/plain": [
       "torch.Size([61])"
      ]
     },
     "execution_count": 22,
     "metadata": {},
     "output_type": "execute_result"
    }
   ],
   "source": [
    "a.shape"
   ]
  },
  {
   "cell_type": "code",
   "execution_count": 23,
   "id": "8f0bdf86-45f7-47f8-874c-064ebef976fb",
   "metadata": {},
   "outputs": [
    {
     "data": {
      "text/plain": [
       "torch.Size([61, 5691])"
      ]
     },
     "execution_count": 23,
     "metadata": {},
     "output_type": "execute_result"
    }
   ],
   "source": [
    "b.shape"
   ]
  },
  {
   "cell_type": "code",
   "execution_count": 24,
   "id": "45dcacbd-f534-417e-beeb-7a9f1615dc5e",
   "metadata": {},
   "outputs": [
    {
     "data": {
      "text/plain": [
       "1553"
      ]
     },
     "execution_count": 24,
     "metadata": {},
     "output_type": "execute_result"
    }
   ],
   "source": [
    "len(train_dataset)"
   ]
  },
  {
   "cell_type": "code",
   "execution_count": 25,
   "id": "8f6332a5-7389-4027-802f-0f6fd0bdcb8e",
   "metadata": {},
   "outputs": [
    {
     "data": {
      "text/plain": [
       "332"
      ]
     },
     "execution_count": 25,
     "metadata": {},
     "output_type": "execute_result"
    }
   ],
   "source": [
    "len(val_dataset)"
   ]
  },
  {
   "cell_type": "code",
   "execution_count": 26,
   "id": "6dee97c1-b2f5-420e-bf67-effd2a038159",
   "metadata": {},
   "outputs": [
    {
     "data": {
      "text/plain": [
       "334"
      ]
     },
     "execution_count": 26,
     "metadata": {},
     "output_type": "execute_result"
    }
   ],
   "source": [
    "len(test_dataset)"
   ]
  },
  {
   "cell_type": "code",
   "execution_count": 27,
   "id": "ae33f73c-6d79-45ef-baea-34f807a1e2cb",
   "metadata": {},
   "outputs": [],
   "source": [
    "from torch.utils.data import DataLoader\n",
    "train_dl =  DataLoader(train_dataset,shuffle=True)\n",
    "val_dl = DataLoader(val_dataset)\n",
    "test_dl = DataLoader(test_dataset)"
   ]
  },
  {
   "cell_type": "code",
   "execution_count": 36,
   "id": "87a8c72e-667e-451b-96e9-9d69b78100f6",
   "metadata": {},
   "outputs": [],
   "source": [
    "LM_config = {\n",
    "    'epoch':10,\n",
    "    'vocab_size': len(final_vocab),\n",
    "    'embedding':50,\n",
    "    'hidden':100,\n",
    "    'lr':0.00001,\n",
    "    'num_layers':1\n",
    "}"
   ]
  },
  {
   "cell_type": "code",
   "execution_count": 37,
   "id": "3bebe07c-1801-4bfe-afa2-cf4e4a8fdb5c",
   "metadata": {},
   "outputs": [
    {
     "data": {
      "text/plain": [
       "{'epoch': 10,\n",
       " 'vocab_size': 5691,\n",
       " 'embedding': 50,\n",
       " 'hidden': 100,\n",
       " 'lr': 1e-05,\n",
       " 'num_layers': 1}"
      ]
     },
     "execution_count": 37,
     "metadata": {},
     "output_type": "execute_result"
    }
   ],
   "source": [
    "LM_config"
   ]
  },
  {
   "cell_type": "code",
   "execution_count": 38,
   "id": "1f367b8f-57d0-4757-aa10-02f7fe0a2461",
   "metadata": {},
   "outputs": [],
   "source": [
    "device = \"cuda\" if torch.cuda.is_available() else \"mps\" if torch.backends.mps.is_available() else \"cpu\"\n",
    "LM_1 = LM(config=LM_config,embedding=np.array(train_embedding))\n",
    "LM_1.to(device)\n",
    "loss = nn.CrossEntropyLoss()\n",
    "opt = torch.optim.Adam(params = LM_1.parameters(),lr=LM_config['lr'])\n",
    "scheduler = torch.optim.lr_scheduler.ReduceLROnPlateau(optimizer=opt,factor=0.1,threshold=1e-01,patience=1)"
   ]
  },
  {
   "cell_type": "code",
   "execution_count": 39,
   "id": "373b1010-526e-40f5-b779-26d38222e7e2",
   "metadata": {},
   "outputs": [],
   "source": [
    "def validate(dataloader, model, loss_fn,which='Validation'):\n",
    "    size = len(dataloader.dataset)\n",
    "    num_batches = len(dataloader)\n",
    "    model.eval()\n",
    "    test_loss, correct = 0, 0\n",
    "    preplex = 0\n",
    "    with torch.no_grad():\n",
    "        for X, y in dataloader:\n",
    "            X, y = X.to(device), y.to(device).to(torch.float32)\n",
    "            pred = model(X)\n",
    "            test_loss += loss_fn(pred, y).item()\n",
    "            preplex += preplixity(y,pred)\n",
    "            # correct += (pred.argmax(1) == y).type(torch.float).sum().item()\n",
    "    test_loss /= num_batches\n",
    "    preplex /= size\n",
    "\n",
    "    print(f\"{which} Preplexity: \\n : {(preplex):>0.5f}, Avg loss: {test_loss:>8f} \\n\")\n",
    "    return (preplex,test_loss)"
   ]
  },
  {
   "cell_type": "code",
   "execution_count": 40,
   "id": "f19008dd-0a6f-4c71-90a2-55f197e66bd4",
   "metadata": {},
   "outputs": [],
   "source": [
    "def preplixity(ground_truth,predicted):\n",
    "    # print(\"Ground truth , Predictions\",ground_truth.shape,predicted.shape)\n",
    "    index_gt = torch.argmax(ground_truth,dim=2)\n",
    "    # print(\"Ground truth Index: \",index_gt)\n",
    "    row = torch.arange(index_gt.shape[1]).to(device)\n",
    "    probablity = predicted[0,row,index_gt]\n",
    "    # print(probablity,probablity.shape)\n",
    "    power_p = torch.pow(probablity,-1/probablity.shape[1])\n",
    "    # print(power_p,power_p.shape)\n",
    "    preplex = torch.prod(power_p)\n",
    "    return preplex\n",
    "\n",
    "\n",
    "def train(dataloader, model, loss_fn, optimizer):\n",
    "    size = len(dataloader.dataset)\n",
    "    model.train()\n",
    "    preplex = 0\n",
    "    avg_loss = 0 \n",
    "    for batch, (X, y) in enumerate(dataloader):\n",
    "        X, y = X.to(device), y.to(device).to(torch.float32)\n",
    "        pred = model(X)\n",
    "        loss = loss_fn(pred, y)\n",
    "        preplex += preplixity(y,pred)\n",
    "        optimizer.zero_grad()\n",
    "        loss.backward()\n",
    "        optimizer.step()\n",
    "        # break\n",
    "        avg_loss += loss.item()\n",
    "        if batch % 300 == 0:\n",
    "            loss, current = loss.item(), (batch + 1) * len(X)\n",
    "            print(f\"loss: {loss:>7f}  [{current:>5d}/{size:>5d}]\")\n",
    "    preplex /= size\n",
    "    avg_loss /= size\n",
    "    print(f\"\\n Train Preplexity: {(preplex):>0.3f} \\n loss: {avg_loss:>7f} \")\n",
    "    return (preplex,avg_loss)"
   ]
  },
  {
   "cell_type": "code",
   "execution_count": 43,
   "id": "d9ca8c67-5805-46eb-8c00-216430be6c73",
   "metadata": {},
   "outputs": [],
   "source": [
    "# Implement early stoping\n",
    "# Implement Learning rate schedular\n",
    "# Implement something else\n",
    "# Implement Batch size concept"
   ]
  },
  {
   "cell_type": "code",
   "execution_count": 42,
   "id": "7c0db0d7-7c95-4ea0-9549-0ee1cae029fc",
   "metadata": {},
   "outputs": [
    {
     "data": {
      "text/html": [
       "Tracking run with wandb version 0.13.10"
      ],
      "text/plain": [
       "<IPython.core.display.HTML object>"
      ]
     },
     "metadata": {},
     "output_type": "display_data"
    },
    {
     "data": {
      "text/html": [
       "Run data is saved locally in <code>/home2/sisodiya.bhoomendra/github/Intro-NLP-IIIT-H/Assignment1/Notebooks/wandb/run-20230217_035052-16nivso9</code>"
      ],
      "text/plain": [
       "<IPython.core.display.HTML object>"
      ]
     },
     "metadata": {},
     "output_type": "display_data"
    },
    {
     "data": {
      "text/html": [
       "Syncing run <strong><a href='https://wandb.ai/bss/pytorch-demo/runs/16nivso9' target=\"_blank\">giddy-wind-8</a></strong> to <a href='https://wandb.ai/bss/pytorch-demo' target=\"_blank\">Weights & Biases</a> (<a href='https://wandb.me/run' target=\"_blank\">docs</a>)<br/>"
      ],
      "text/plain": [
       "<IPython.core.display.HTML object>"
      ]
     },
     "metadata": {},
     "output_type": "display_data"
    },
    {
     "data": {
      "text/html": [
       " View project at <a href='https://wandb.ai/bss/pytorch-demo' target=\"_blank\">https://wandb.ai/bss/pytorch-demo</a>"
      ],
      "text/plain": [
       "<IPython.core.display.HTML object>"
      ]
     },
     "metadata": {},
     "output_type": "display_data"
    },
    {
     "data": {
      "text/html": [
       " View run at <a href='https://wandb.ai/bss/pytorch-demo/runs/16nivso9' target=\"_blank\">https://wandb.ai/bss/pytorch-demo/runs/16nivso9</a>"
      ],
      "text/plain": [
       "<IPython.core.display.HTML object>"
      ]
     },
     "metadata": {},
     "output_type": "display_data"
    },
    {
     "name": "stdout",
     "output_type": "stream",
     "text": [
      "Epoch 1\n",
      "-------------------------------\n",
      "loss: 0.021069  [    1/ 1553]\n",
      "loss: 0.054107  [  301/ 1553]\n",
      "loss: 0.000580  [  601/ 1553]\n",
      "loss: 0.294791  [  901/ 1553]\n",
      "loss: 0.001889  [ 1201/ 1553]\n",
      "loss: 0.025106  [ 1501/ 1553]\n",
      "\n",
      " Train Preplexity: 60.196 \n",
      " loss: 0.048914 \n",
      "Validation Preplexity: \n",
      " : 49.91350, Avg loss: 0.037964 \n",
      "\n",
      "Epoch 2\n",
      "-------------------------------\n",
      "loss: 0.003475  [    1/ 1553]\n",
      "loss: 0.059711  [  301/ 1553]\n",
      "loss: 0.014885  [  601/ 1553]\n",
      "loss: 0.079935  [  901/ 1553]\n",
      "loss: 0.034370  [ 1201/ 1553]\n",
      "loss: 0.009828  [ 1501/ 1553]\n",
      "\n",
      " Train Preplexity: 60.034 \n",
      " loss: 0.048913 \n",
      "Validation Preplexity: \n",
      " : 49.77551, Avg loss: 0.037964 \n",
      "\n",
      "Epoch 3\n",
      "-------------------------------\n",
      "loss: 0.000571  [    1/ 1553]\n",
      "loss: 0.059710  [  301/ 1553]\n",
      "loss: 0.014884  [  601/ 1553]\n",
      "loss: 0.041381  [  901/ 1553]\n",
      "loss: 0.055966  [ 1201/ 1553]\n",
      "loss: 0.179573  [ 1501/ 1553]\n",
      "\n",
      " Train Preplexity: 59.863 \n",
      " loss: 0.048913 \n",
      "Validation Preplexity: \n",
      " : 49.62623, Avg loss: 0.037963 \n",
      "\n",
      "Epoch 4\n",
      "-------------------------------\n",
      "loss: 0.058772  [    1/ 1553]\n",
      "loss: 0.006493  [  301/ 1553]\n",
      "loss: 0.010526  [  601/ 1553]\n",
      "loss: 0.037848  [  901/ 1553]\n",
      "loss: 0.000579  [ 1201/ 1553]\n",
      "loss: 0.061598  [ 1501/ 1553]\n",
      "\n",
      " Train Preplexity: 59.756 \n",
      " loss: 0.048912 \n",
      "Validation Preplexity: \n",
      " : 49.61057, Avg loss: 0.037963 \n",
      "\n",
      "Epoch 5\n",
      "-------------------------------\n",
      "loss: 0.047676  [    1/ 1553]\n",
      "loss: 0.042272  [  301/ 1553]\n",
      "loss: 0.004046  [  601/ 1553]\n",
      "loss: 0.012670  [  901/ 1553]\n",
      "loss: 0.199541  [ 1201/ 1553]\n",
      "loss: 0.131010  [ 1501/ 1553]\n",
      "\n",
      " Train Preplexity: 59.737 \n",
      " loss: 0.048912 \n",
      "Validation Preplexity: \n",
      " : 49.59488, Avg loss: 0.037963 \n",
      "\n",
      "Epoch 6\n",
      "-------------------------------\n",
      "loss: 0.020273  [    1/ 1553]\n",
      "loss: 0.012672  [  301/ 1553]\n",
      "loss: 0.142685  [  601/ 1553]\n",
      "loss: 0.005859  [  901/ 1553]\n",
      "loss: 0.014884  [ 1201/ 1553]\n",
      "loss: 0.075041  [ 1501/ 1553]\n",
      "\n",
      " Train Preplexity: 59.726 \n",
      " loss: 0.048912 \n",
      "Validation Preplexity: \n",
      " : 49.59330, Avg loss: 0.037963 \n",
      "\n",
      "Epoch 7\n",
      "-------------------------------\n",
      "loss: 0.077972  [    1/ 1553]\n",
      "loss: 0.060654  [  301/ 1553]\n",
      "loss: 0.019485  [  601/ 1553]\n",
      "loss: 0.025926  [  901/ 1553]\n",
      "loss: 0.165334  [ 1201/ 1553]\n",
      "loss: 0.108101  [ 1501/ 1553]\n",
      "\n",
      " Train Preplexity: 59.725 \n",
      " loss: 0.048912 \n",
      "Validation Preplexity: \n",
      " : 49.59170, Avg loss: 0.037963 \n",
      "\n",
      "Epoch 8\n",
      "-------------------------------\n",
      "loss: 0.041381  [    1/ 1553]\n",
      "loss: 0.062545  [  301/ 1553]\n",
      "loss: 0.009830  [  601/ 1553]\n",
      "loss: 0.055964  [  901/ 1553]\n",
      "loss: 0.005859  [ 1201/ 1553]\n",
      "loss: 0.070195  [ 1501/ 1553]\n",
      "\n",
      " Train Preplexity: 59.723 \n",
      " loss: 0.048912 \n",
      "Validation Preplexity: \n",
      " : 49.59156, Avg loss: 0.037963 \n",
      "\n",
      "Epoch 9\n",
      "-------------------------------\n",
      "loss: 0.001412  [    1/ 1553]\n",
      "loss: 0.000971  [  301/ 1553]\n",
      "loss: 0.016395  [  601/ 1553]\n",
      "loss: 0.046769  [  901/ 1553]\n",
      "loss: 0.085866  [ 1201/ 1553]\n",
      "loss: 0.023475  [ 1501/ 1553]\n",
      "\n",
      " Train Preplexity: 59.723 \n",
      " loss: 0.048912 \n",
      "Validation Preplexity: \n",
      " : 49.59144, Avg loss: 0.037963 \n",
      "\n",
      "Epoch 10\n",
      "-------------------------------\n",
      "loss: 0.003476  [    1/ 1553]\n",
      "loss: 0.029255  [  301/ 1553]\n",
      "loss: 0.053180  [  601/ 1553]\n",
      "loss: 0.114287  [  901/ 1553]\n",
      "loss: 0.076993  [ 1201/ 1553]\n",
      "loss: 0.018703  [ 1501/ 1553]\n",
      "\n",
      " Train Preplexity: 59.723 \n",
      " loss: 0.048912 \n",
      "Validation Preplexity: \n",
      " : 49.59132, Avg loss: 0.037963 \n",
      "\n",
      "Done!\n"
     ]
    },
    {
     "data": {
      "text/html": [
       "Waiting for W&B process to finish... <strong style=\"color:green\">(success).</strong>"
      ],
      "text/plain": [
       "<IPython.core.display.HTML object>"
      ]
     },
     "metadata": {},
     "output_type": "display_data"
    },
    {
     "data": {
      "text/html": [
       "<style>\n",
       "    table.wandb td:nth-child(1) { padding: 0 10px; text-align: left ; width: auto;} td:nth-child(2) {text-align: left ; width: 100%}\n",
       "    .wandb-row { display: flex; flex-direction: row; flex-wrap: wrap; justify-content: flex-start; width: 100% }\n",
       "    .wandb-col { display: flex; flex-direction: column; flex-basis: 100%; flex: 1; padding: 10px; }\n",
       "    </style>\n",
       "<div class=\"wandb-row\"><div class=\"wandb-col\"><h3>Run history:</h3><br/><table class=\"wandb\"><tr><td>train_loss</td><td>█▆▃▁▁▁▁▁▁▁</td></tr><tr><td>train_preplex</td><td>█▆▃▁▁▁▁▁▁▁</td></tr><tr><td>validate_loss</td><td>█▅▂▁▁▁▁▁▁▁</td></tr><tr><td>validate_preplex</td><td>█▅▂▁▁▁▁▁▁▁</td></tr></table><br/></div><div class=\"wandb-col\"><h3>Run summary:</h3><br/><table class=\"wandb\"><tr><td>train_loss</td><td>0.04891</td></tr><tr><td>train_preplex</td><td>59.72309</td></tr><tr><td>validate_loss</td><td>0.03796</td></tr><tr><td>validate_preplex</td><td>49.59132</td></tr></table><br/></div></div>"
      ],
      "text/plain": [
       "<IPython.core.display.HTML object>"
      ]
     },
     "metadata": {},
     "output_type": "display_data"
    },
    {
     "data": {
      "text/html": [
       " View run <strong style=\"color:#cdcd00\">giddy-wind-8</strong> at: <a href='https://wandb.ai/bss/pytorch-demo/runs/16nivso9' target=\"_blank\">https://wandb.ai/bss/pytorch-demo/runs/16nivso9</a><br/>Synced 5 W&B file(s), 0 media file(s), 0 artifact file(s) and 0 other file(s)"
      ],
      "text/plain": [
       "<IPython.core.display.HTML object>"
      ]
     },
     "metadata": {},
     "output_type": "display_data"
    },
    {
     "data": {
      "text/html": [
       "Find logs at: <code>./wandb/run-20230217_035052-16nivso9/logs</code>"
      ],
      "text/plain": [
       "<IPython.core.display.HTML object>"
      ]
     },
     "metadata": {},
     "output_type": "display_data"
    }
   ],
   "source": [
    "epochs = LM_config['epoch']\n",
    "with wandb.init(project=\"pytorch-demo\", config=LM_config):\n",
    "    for t in range(epochs):\n",
    "        print(f\"Epoch {t+1}\\n-------------------------------\")\n",
    "        tp,tl = train(train_dl, LM_1, loss,opt)\n",
    "        vp,vl = validate(val_dl, LM_1, loss)\n",
    "        scheduler.step(vp)\n",
    "        wandb.log({'validate_preplex':vp , 'validate_loss':vl,'train_preplex':tp, 'train_loss':tl})\n",
    "    print(\"Done!\")"
   ]
  },
  {
   "cell_type": "code",
   "execution_count": null,
   "id": "2e2e48dd-caf1-403f-82c6-a12eaad0c5b6",
   "metadata": {},
   "outputs": [],
   "source": []
  }
 ],
 "metadata": {
  "kernelspec": {
   "display_name": "Python 3 (ipykernel)",
   "language": "python",
   "name": "python3"
  },
  "language_info": {
   "codemirror_mode": {
    "name": "ipython",
    "version": 3
   },
   "file_extension": ".py",
   "mimetype": "text/x-python",
   "name": "python",
   "nbconvert_exporter": "python",
   "pygments_lexer": "ipython3",
   "version": "3.9.16"
  }
 },
 "nbformat": 4,
 "nbformat_minor": 5
}
