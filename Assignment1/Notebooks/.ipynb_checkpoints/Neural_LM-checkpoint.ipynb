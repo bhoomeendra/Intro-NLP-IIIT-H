{
 "cells": [
  {
   "cell_type": "code",
   "execution_count": 300,
   "id": "df732f8e-3c38-49e0-9949-f542b3725c9e",
   "metadata": {},
   "outputs": [],
   "source": [
    "import torch\n",
    "import torch.utils.data.dataloader\n",
    "import torch.utils.data.dataset\n",
    "import torch.nn as nn"
   ]
  },
  {
   "cell_type": "code",
   "execution_count": 301,
   "id": "ee13c141-cb14-4319-8f34-b4e2bdc889d3",
   "metadata": {},
   "outputs": [],
   "source": [
    "class Config_class:\n",
    "    \n",
    "    def __init__(self,config):\n",
    "        self.config = config\n",
    "\n",
    "\n",
    "class LM(nn.Module):\n",
    "    \n",
    "    def __init__(self,config):\n",
    "        super().__init__()\n",
    "        self.config = config\n",
    "        # This will tak token ids an make enbedding out of it\n",
    "        self.embedding = nn.Embedding(num_embeddings=self.config['vocab_size'],embedding_dim=self.config['embedding'],padding_idx=989)\n",
    "        self.LSTM = nn.LSTM(num_layers=self.config['num_layers'],input_size=self.config['embedding'],hidden_size=self.config['hidden'])\n",
    "        self.convert_vocab = nn.Linear(in_features=self.config['hidden'],out_features=self.config['vocab_size'])\n",
    "        self.softmax = nn.Softmax(dim=1)\n",
    "    def forward(self,token_seq):\n",
    "        x = self.embedding(token_seq)\n",
    "        out,_ = self.LSTM(x) # (h_n,c_n)\n",
    "        convert_output = self.convert_vocab(out)\n",
    "        prob = self.softmax(convert_output)\n",
    "        return prob\n",
    "    "
   ]
  },
  {
   "cell_type": "markdown",
   "id": "f4c88f11-cf6e-4e73-89e6-1ed70acaadc0",
   "metadata": {},
   "source": [
    "### Loading dataset and train test split"
   ]
  },
  {
   "cell_type": "code",
   "execution_count": 302,
   "id": "4088f602-90ce-4b0f-a132-9c9214296544",
   "metadata": {},
   "outputs": [],
   "source": [
    "pp_text = open('../data/clean_pp.txt').readlines() "
   ]
  },
  {
   "cell_type": "code",
   "execution_count": 303,
   "id": "1fc5ef32-304b-40df-8256-0268d933d9d0",
   "metadata": {},
   "outputs": [],
   "source": [
    "import random\n",
    "from random import shuffle\n",
    "random.seed(42)\n",
    "shuffle(pp_text)\n",
    "trl = int(0.7*l)\n",
    "vrl = int(0.15*l)\n",
    "train = pp_text[:trl]\n",
    "val = pp_text[trl:trl+vrl]\n",
    "test = pp_text[trl+vrl:]"
   ]
  },
  {
   "cell_type": "markdown",
   "id": "2b483ece-5f97-4f00-a098-f9420be32e54",
   "metadata": {},
   "source": [
    "### Making vocabulary Reserve for [PAD] , [UNK] , [STR] , [END]"
   ]
  },
  {
   "cell_type": "code",
   "execution_count": 304,
   "id": "caec7d0c-85ab-439a-a427-f38a6ade4f95",
   "metadata": {},
   "outputs": [],
   "source": [
    "vocab = set()\n",
    "for sent in train:\n",
    "    for word in sent.split():\n",
    "        vocab.add(word)"
   ]
  },
  {
   "cell_type": "code",
   "execution_count": 305,
   "id": "8dc4e1cd-fdf5-47e7-9e1c-2cfc92a4c258",
   "metadata": {},
   "outputs": [
    {
     "data": {
      "text/plain": [
       "5925"
      ]
     },
     "execution_count": 305,
     "metadata": {},
     "output_type": "execute_result"
    }
   ],
   "source": [
    "len(vocab)"
   ]
  },
  {
   "cell_type": "code",
   "execution_count": 306,
   "id": "4cd61744-b5b3-4742-b0d5-64434d5e2ed7",
   "metadata": {},
   "outputs": [],
   "source": [
    "res = 4\n",
    "word_idx = {k:v+res for (v,k) in enumerate(vocab)}\n",
    "word_idx['[PAD]'] = 0\n",
    "word_idx['[STR]'] = 1\n",
    "word_idx['[END]'] = 2\n",
    "word_idx['[UNK]'] = 3"
   ]
  },
  {
   "cell_type": "code",
   "execution_count": 307,
   "id": "ca5615b3-bc76-41dc-b733-de2f5a3bd7e8",
   "metadata": {},
   "outputs": [],
   "source": [
    "vocab = set(word_idx.keys())"
   ]
  },
  {
   "cell_type": "code",
   "execution_count": 308,
   "id": "955fb246-2da8-4564-9875-548eac180fbe",
   "metadata": {},
   "outputs": [
    {
     "data": {
      "text/plain": [
       "5929"
      ]
     },
     "execution_count": 308,
     "metadata": {},
     "output_type": "execute_result"
    }
   ],
   "source": [
    "len(vocab)"
   ]
  },
  {
   "cell_type": "code",
   "execution_count": 309,
   "id": "dec7c9b1-a561-4428-81cb-8988a2f6ef2e",
   "metadata": {},
   "outputs": [],
   "source": [
    "idx_word =  { v:k for k,v in word_idx.items() }"
   ]
  },
  {
   "cell_type": "code",
   "execution_count": 310,
   "id": "f4ba2d2b-c69a-4901-8771-ab96bf5bdbf5",
   "metadata": {},
   "outputs": [
    {
     "data": {
      "text/plain": [
       "'[UNK]'"
      ]
     },
     "execution_count": 310,
     "metadata": {},
     "output_type": "execute_result"
    }
   ],
   "source": [
    "idx_word[3]"
   ]
  },
  {
   "cell_type": "code",
   "execution_count": 311,
   "id": "6caca752-8776-47ea-b25a-c20e9698f3bc",
   "metadata": {},
   "outputs": [],
   "source": [
    "def tokenizer(text):\n",
    "    tokens = []\n",
    "    text = text.strip('\\n')\n",
    "    text = idx_word[1]+' '+text+' '+idx_word[2]\n",
    "    # print(text)\n",
    "    for word in text.split():\n",
    "        if word in word_idx.keys():\n",
    "            tokens.append(word_idx[word])\n",
    "        else:\n",
    "            tokens.append(word_idx['[UNK]']) # update []\n",
    "    return tokens"
   ]
  },
  {
   "cell_type": "code",
   "execution_count": 312,
   "id": "b65b12da-8efe-46b9-b088-af51471e2b83",
   "metadata": {},
   "outputs": [],
   "source": [
    "from torch.utils.data import Dataset\n",
    "class Dataset(Dataset):\n",
    "    def __init__(self,data,vocab_size):\n",
    "        self.data = data\n",
    "        self.vocab_size = vocab_size\n",
    "    def __len__(self):\n",
    "        return len(self.data)\n",
    "    \n",
    "    def __getitem__(self,idx):\n",
    "        out = tokenizer(self.data[idx])\n",
    "        inputs = out[:-1]# Last token is [END] will not include in data\n",
    "        labels = out[1:]# First token is [STR] will never be predected\n",
    "        return torch.tensor(inputs),torch.nn.functional.one_hot(torch.tensor(labels),num_classes=self.vocab_size)"
   ]
  },
  {
   "cell_type": "code",
   "execution_count": 313,
   "id": "1c4ddb6d-d1fc-426d-8f78-aee52ce51072",
   "metadata": {},
   "outputs": [],
   "source": [
    "train_dataset = Dataset(train,len(vocab))\n",
    "val_dataset = Dataset(val,len(vocab))\n",
    "test_dataset = Dataset(test,len(vocab))"
   ]
  },
  {
   "cell_type": "code",
   "execution_count": 314,
   "id": "f9ab5485-1362-41ce-84e2-339228024465",
   "metadata": {},
   "outputs": [],
   "source": [
    "a,b = train_dataset[0]"
   ]
  },
  {
   "cell_type": "code",
   "execution_count": 315,
   "id": "3f7a619a-c6c7-40eb-a26d-4fd27bc24e81",
   "metadata": {},
   "outputs": [
    {
     "data": {
      "text/plain": [
       "torch.Size([61])"
      ]
     },
     "execution_count": 315,
     "metadata": {},
     "output_type": "execute_result"
    }
   ],
   "source": [
    "a.shape"
   ]
  },
  {
   "cell_type": "code",
   "execution_count": 316,
   "id": "8f0bdf86-45f7-47f8-874c-064ebef976fb",
   "metadata": {},
   "outputs": [
    {
     "data": {
      "text/plain": [
       "torch.Size([61, 5929])"
      ]
     },
     "execution_count": 316,
     "metadata": {},
     "output_type": "execute_result"
    }
   ],
   "source": [
    "b.shape"
   ]
  },
  {
   "cell_type": "code",
   "execution_count": 317,
   "id": "45dcacbd-f534-417e-beeb-7a9f1615dc5e",
   "metadata": {},
   "outputs": [
    {
     "data": {
      "text/plain": [
       "1553"
      ]
     },
     "execution_count": 317,
     "metadata": {},
     "output_type": "execute_result"
    }
   ],
   "source": [
    "len(train_dataset)"
   ]
  },
  {
   "cell_type": "code",
   "execution_count": 318,
   "id": "8f6332a5-7389-4027-802f-0f6fd0bdcb8e",
   "metadata": {},
   "outputs": [
    {
     "data": {
      "text/plain": [
       "332"
      ]
     },
     "execution_count": 318,
     "metadata": {},
     "output_type": "execute_result"
    }
   ],
   "source": [
    "len(val)"
   ]
  },
  {
   "cell_type": "code",
   "execution_count": 319,
   "id": "6dee97c1-b2f5-420e-bf67-effd2a038159",
   "metadata": {},
   "outputs": [
    {
     "data": {
      "text/plain": [
       "334"
      ]
     },
     "execution_count": 319,
     "metadata": {},
     "output_type": "execute_result"
    }
   ],
   "source": [
    "len(test_dataset)"
   ]
  },
  {
   "cell_type": "code",
   "execution_count": 320,
   "id": "ae33f73c-6d79-45ef-baea-34f807a1e2cb",
   "metadata": {},
   "outputs": [],
   "source": [
    "from torch.utils.data import DataLoader\n",
    "train_dl =  DataLoader(train_dataset,shuffle=True)\n",
    "val_dl = DataLoader(val_dataset)\n",
    "test_dl = DataLoader(test_dataset)"
   ]
  },
  {
   "cell_type": "code",
   "execution_count": 321,
   "id": "87a8c72e-667e-451b-96e9-9d69b78100f6",
   "metadata": {},
   "outputs": [],
   "source": [
    "LM_config = Config_class({\n",
    "    'vocab_size': len(vocab),\n",
    "    'embedding':128,\n",
    "    'hidden':256,\n",
    "    'lr':0.0001,\n",
    "    'num_layers':1,\n",
    "    'pad_idx':word_idx['[PAD]']\n",
    "})"
   ]
  },
  {
   "cell_type": "code",
   "execution_count": 322,
   "id": "3bebe07c-1801-4bfe-afa2-cf4e4a8fdb5c",
   "metadata": {},
   "outputs": [
    {
     "data": {
      "text/plain": [
       "{'vocab_size': 5929,\n",
       " 'embedding': 128,\n",
       " 'hidden': 256,\n",
       " 'lr': 0.0001,\n",
       " 'num_layers': 1,\n",
       " 'pad_idx': 0}"
      ]
     },
     "execution_count": 322,
     "metadata": {},
     "output_type": "execute_result"
    }
   ],
   "source": [
    "LM_config.config"
   ]
  },
  {
   "cell_type": "code",
   "execution_count": 323,
   "id": "f19008dd-0a6f-4c71-90a2-55f197e66bd4",
   "metadata": {},
   "outputs": [],
   "source": [
    "def train(dataloader, model, loss_fn, optimizer):\n",
    "    size = len(dataloader.dataset)\n",
    "    model.train()\n",
    "    for batch, (X, y) in enumerate(dataloader):\n",
    "        X, y = X.to(device), y.to(device)\n",
    "\n",
    "        # Compute prediction error\n",
    "        pred = model(X)\n",
    "        print(pred.shape)\n",
    "        print(y.shape)\n",
    "        loss = loss_fn(pred, y)\n",
    "\n",
    "        # Backpropagation\n",
    "        optimizer.zero_grad()\n",
    "        loss.backward()\n",
    "        optimizer.step()\n",
    "\n",
    "        if batch % 100 == 0:\n",
    "            loss, current = loss.item(), (batch + 1) * len(X)\n",
    "            print(f\"loss: {loss:>7f}  [{current:>5d}/{size:>5d}]\")"
   ]
  },
  {
   "cell_type": "code",
   "execution_count": 324,
   "id": "373b1010-526e-40f5-b779-26d38222e7e2",
   "metadata": {},
   "outputs": [],
   "source": [
    "def test(dataloader, model, loss_fn):\n",
    "    size = len(dataloader.dataset)\n",
    "    num_batches = len(dataloader)\n",
    "    model.eval()\n",
    "    test_loss, correct = 0, 0\n",
    "    with torch.no_grad():\n",
    "        for X, y in dataloader:\n",
    "            X, y = X.to(device), y.to(device)\n",
    "            pred = model(X)\n",
    "            test_loss += loss_fn(pred, y).item()\n",
    "            correct += (pred.argmax(1) == y).type(torch.float).sum().item()\n",
    "    test_loss /= num_batches\n",
    "    correct /= size\n",
    "    print(f\"Test Error: \\n Accuracy: {(100*correct):>0.1f}%, Avg loss: {test_loss:>8f} \\n\")"
   ]
  },
  {
   "cell_type": "code",
   "execution_count": 325,
   "id": "1f367b8f-57d0-4757-aa10-02f7fe0a2461",
   "metadata": {},
   "outputs": [],
   "source": [
    "device = \"cuda\" if torch.cuda.is_available() else \"mps\" if torch.backends.mps.is_available() else \"cpu\"\n",
    "LM_1 = LM(config=LM_config.config)\n",
    "LM_1.to(device)\n",
    "loss = nn.CrossEntropyLoss()\n",
    "optmizer = torch.optim.Adam(params = LM_1.parameters())"
   ]
  },
  {
   "cell_type": "code",
   "execution_count": 326,
   "id": "7c0db0d7-7c95-4ea0-9549-0ee1cae029fc",
   "metadata": {},
   "outputs": [
    {
     "name": "stdout",
     "output_type": "stream",
     "text": [
      "Epoch 1\n",
      "-------------------------------\n",
      "torch.Size([1, 50, 5929])\n",
      "torch.Size([1, 50, 5929])\n"
     ]
    },
    {
     "ename": "RuntimeError",
     "evalue": "Expected floating point type for target with class probabilities, got Long",
     "output_type": "error",
     "traceback": [
      "\u001b[0;31m---------------------------------------------------------------------------\u001b[0m",
      "\u001b[0;31mRuntimeError\u001b[0m                              Traceback (most recent call last)",
      "Cell \u001b[0;32mIn[326], line 4\u001b[0m\n\u001b[1;32m      2\u001b[0m \u001b[38;5;28;01mfor\u001b[39;00m t \u001b[38;5;129;01min\u001b[39;00m \u001b[38;5;28mrange\u001b[39m(epochs):\n\u001b[1;32m      3\u001b[0m     \u001b[38;5;28mprint\u001b[39m(\u001b[38;5;124mf\u001b[39m\u001b[38;5;124m\"\u001b[39m\u001b[38;5;124mEpoch \u001b[39m\u001b[38;5;132;01m{\u001b[39;00mt\u001b[38;5;241m+\u001b[39m\u001b[38;5;241m1\u001b[39m\u001b[38;5;132;01m}\u001b[39;00m\u001b[38;5;130;01m\\n\u001b[39;00m\u001b[38;5;124m-------------------------------\u001b[39m\u001b[38;5;124m\"\u001b[39m)\n\u001b[0;32m----> 4\u001b[0m     \u001b[43mtrain\u001b[49m\u001b[43m(\u001b[49m\u001b[43mtrain_dl\u001b[49m\u001b[43m,\u001b[49m\u001b[43m \u001b[49m\u001b[43mLM_1\u001b[49m\u001b[43m,\u001b[49m\u001b[43m \u001b[49m\u001b[43mloss\u001b[49m\u001b[43m,\u001b[49m\u001b[43m \u001b[49m\u001b[43moptmizer\u001b[49m\u001b[43m)\u001b[49m\n\u001b[1;32m      5\u001b[0m     test(test_dl, LM_1, loss)\n\u001b[1;32m      6\u001b[0m \u001b[38;5;28mprint\u001b[39m(\u001b[38;5;124m\"\u001b[39m\u001b[38;5;124mDone!\u001b[39m\u001b[38;5;124m\"\u001b[39m)\n",
      "Cell \u001b[0;32mIn[323], line 11\u001b[0m, in \u001b[0;36mtrain\u001b[0;34m(dataloader, model, loss_fn, optimizer)\u001b[0m\n\u001b[1;32m      9\u001b[0m \u001b[38;5;28mprint\u001b[39m(pred\u001b[38;5;241m.\u001b[39mshape)\n\u001b[1;32m     10\u001b[0m \u001b[38;5;28mprint\u001b[39m(y\u001b[38;5;241m.\u001b[39mshape)\n\u001b[0;32m---> 11\u001b[0m loss \u001b[38;5;241m=\u001b[39m \u001b[43mloss_fn\u001b[49m\u001b[43m(\u001b[49m\u001b[43mpred\u001b[49m\u001b[43m,\u001b[49m\u001b[43m \u001b[49m\u001b[43my\u001b[49m\u001b[43m)\u001b[49m\n\u001b[1;32m     13\u001b[0m \u001b[38;5;66;03m# Backpropagation\u001b[39;00m\n\u001b[1;32m     14\u001b[0m optimizer\u001b[38;5;241m.\u001b[39mzero_grad()\n",
      "File \u001b[0;32m~/venvs/python3.9_global/lib/python3.9/site-packages/torch/nn/modules/module.py:1194\u001b[0m, in \u001b[0;36mModule._call_impl\u001b[0;34m(self, *input, **kwargs)\u001b[0m\n\u001b[1;32m   1190\u001b[0m \u001b[38;5;66;03m# If we don't have any hooks, we want to skip the rest of the logic in\u001b[39;00m\n\u001b[1;32m   1191\u001b[0m \u001b[38;5;66;03m# this function, and just call forward.\u001b[39;00m\n\u001b[1;32m   1192\u001b[0m \u001b[38;5;28;01mif\u001b[39;00m \u001b[38;5;129;01mnot\u001b[39;00m (\u001b[38;5;28mself\u001b[39m\u001b[38;5;241m.\u001b[39m_backward_hooks \u001b[38;5;129;01mor\u001b[39;00m \u001b[38;5;28mself\u001b[39m\u001b[38;5;241m.\u001b[39m_forward_hooks \u001b[38;5;129;01mor\u001b[39;00m \u001b[38;5;28mself\u001b[39m\u001b[38;5;241m.\u001b[39m_forward_pre_hooks \u001b[38;5;129;01mor\u001b[39;00m _global_backward_hooks\n\u001b[1;32m   1193\u001b[0m         \u001b[38;5;129;01mor\u001b[39;00m _global_forward_hooks \u001b[38;5;129;01mor\u001b[39;00m _global_forward_pre_hooks):\n\u001b[0;32m-> 1194\u001b[0m     \u001b[38;5;28;01mreturn\u001b[39;00m \u001b[43mforward_call\u001b[49m\u001b[43m(\u001b[49m\u001b[38;5;241;43m*\u001b[39;49m\u001b[38;5;28;43minput\u001b[39;49m\u001b[43m,\u001b[49m\u001b[43m \u001b[49m\u001b[38;5;241;43m*\u001b[39;49m\u001b[38;5;241;43m*\u001b[39;49m\u001b[43mkwargs\u001b[49m\u001b[43m)\u001b[49m\n\u001b[1;32m   1195\u001b[0m \u001b[38;5;66;03m# Do not call functions when jit is used\u001b[39;00m\n\u001b[1;32m   1196\u001b[0m full_backward_hooks, non_full_backward_hooks \u001b[38;5;241m=\u001b[39m [], []\n",
      "File \u001b[0;32m~/venvs/python3.9_global/lib/python3.9/site-packages/torch/nn/modules/loss.py:1174\u001b[0m, in \u001b[0;36mCrossEntropyLoss.forward\u001b[0;34m(self, input, target)\u001b[0m\n\u001b[1;32m   1173\u001b[0m \u001b[38;5;28;01mdef\u001b[39;00m \u001b[38;5;21mforward\u001b[39m(\u001b[38;5;28mself\u001b[39m, \u001b[38;5;28minput\u001b[39m: Tensor, target: Tensor) \u001b[38;5;241m-\u001b[39m\u001b[38;5;241m>\u001b[39m Tensor:\n\u001b[0;32m-> 1174\u001b[0m     \u001b[38;5;28;01mreturn\u001b[39;00m \u001b[43mF\u001b[49m\u001b[38;5;241;43m.\u001b[39;49m\u001b[43mcross_entropy\u001b[49m\u001b[43m(\u001b[49m\u001b[38;5;28;43minput\u001b[39;49m\u001b[43m,\u001b[49m\u001b[43m \u001b[49m\u001b[43mtarget\u001b[49m\u001b[43m,\u001b[49m\u001b[43m \u001b[49m\u001b[43mweight\u001b[49m\u001b[38;5;241;43m=\u001b[39;49m\u001b[38;5;28;43mself\u001b[39;49m\u001b[38;5;241;43m.\u001b[39;49m\u001b[43mweight\u001b[49m\u001b[43m,\u001b[49m\n\u001b[1;32m   1175\u001b[0m \u001b[43m                           \u001b[49m\u001b[43mignore_index\u001b[49m\u001b[38;5;241;43m=\u001b[39;49m\u001b[38;5;28;43mself\u001b[39;49m\u001b[38;5;241;43m.\u001b[39;49m\u001b[43mignore_index\u001b[49m\u001b[43m,\u001b[49m\u001b[43m \u001b[49m\u001b[43mreduction\u001b[49m\u001b[38;5;241;43m=\u001b[39;49m\u001b[38;5;28;43mself\u001b[39;49m\u001b[38;5;241;43m.\u001b[39;49m\u001b[43mreduction\u001b[49m\u001b[43m,\u001b[49m\n\u001b[1;32m   1176\u001b[0m \u001b[43m                           \u001b[49m\u001b[43mlabel_smoothing\u001b[49m\u001b[38;5;241;43m=\u001b[39;49m\u001b[38;5;28;43mself\u001b[39;49m\u001b[38;5;241;43m.\u001b[39;49m\u001b[43mlabel_smoothing\u001b[49m\u001b[43m)\u001b[49m\n",
      "File \u001b[0;32m~/venvs/python3.9_global/lib/python3.9/site-packages/torch/nn/functional.py:3026\u001b[0m, in \u001b[0;36mcross_entropy\u001b[0;34m(input, target, weight, size_average, ignore_index, reduce, reduction, label_smoothing)\u001b[0m\n\u001b[1;32m   3024\u001b[0m \u001b[38;5;28;01mif\u001b[39;00m size_average \u001b[38;5;129;01mis\u001b[39;00m \u001b[38;5;129;01mnot\u001b[39;00m \u001b[38;5;28;01mNone\u001b[39;00m \u001b[38;5;129;01mor\u001b[39;00m reduce \u001b[38;5;129;01mis\u001b[39;00m \u001b[38;5;129;01mnot\u001b[39;00m \u001b[38;5;28;01mNone\u001b[39;00m:\n\u001b[1;32m   3025\u001b[0m     reduction \u001b[38;5;241m=\u001b[39m _Reduction\u001b[38;5;241m.\u001b[39mlegacy_get_string(size_average, reduce)\n\u001b[0;32m-> 3026\u001b[0m \u001b[38;5;28;01mreturn\u001b[39;00m \u001b[43mtorch\u001b[49m\u001b[38;5;241;43m.\u001b[39;49m\u001b[43m_C\u001b[49m\u001b[38;5;241;43m.\u001b[39;49m\u001b[43m_nn\u001b[49m\u001b[38;5;241;43m.\u001b[39;49m\u001b[43mcross_entropy_loss\u001b[49m\u001b[43m(\u001b[49m\u001b[38;5;28;43minput\u001b[39;49m\u001b[43m,\u001b[49m\u001b[43m \u001b[49m\u001b[43mtarget\u001b[49m\u001b[43m,\u001b[49m\u001b[43m \u001b[49m\u001b[43mweight\u001b[49m\u001b[43m,\u001b[49m\u001b[43m \u001b[49m\u001b[43m_Reduction\u001b[49m\u001b[38;5;241;43m.\u001b[39;49m\u001b[43mget_enum\u001b[49m\u001b[43m(\u001b[49m\u001b[43mreduction\u001b[49m\u001b[43m)\u001b[49m\u001b[43m,\u001b[49m\u001b[43m \u001b[49m\u001b[43mignore_index\u001b[49m\u001b[43m,\u001b[49m\u001b[43m \u001b[49m\u001b[43mlabel_smoothing\u001b[49m\u001b[43m)\u001b[49m\n",
      "\u001b[0;31mRuntimeError\u001b[0m: Expected floating point type for target with class probabilities, got Long"
     ]
    }
   ],
   "source": [
    "epochs = 5\n",
    "for t in range(epochs):\n",
    "    print(f\"Epoch {t+1}\\n-------------------------------\")\n",
    "    train(train_dl, LM_1, loss, optmizer)\n",
    "    test(test_dl, LM_1, loss)\n",
    "print(\"Done!\")"
   ]
  },
  {
   "cell_type": "code",
   "execution_count": null,
   "id": "56cbf89a-bf37-42f0-b912-58b5c049535c",
   "metadata": {},
   "outputs": [],
   "source": []
  }
 ],
 "metadata": {
  "kernelspec": {
   "display_name": "Python 3 (ipykernel)",
   "language": "python",
   "name": "python3"
  },
  "language_info": {
   "codemirror_mode": {
    "name": "ipython",
    "version": 3
   },
   "file_extension": ".py",
   "mimetype": "text/x-python",
   "name": "python",
   "nbconvert_exporter": "python",
   "pygments_lexer": "ipython3",
   "version": "3.9.16"
  }
 },
 "nbformat": 4,
 "nbformat_minor": 5
}
